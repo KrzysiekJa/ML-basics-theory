{
 "cells": [
  {
   "cell_type": "markdown",
   "id": "1a03890c",
   "metadata": {},
   "source": [
    "## Analiza dokładności i czasu uczenia dla Big Data - porównanie metody gradientu prostego, metody gradientu stochastycznego i zmniejszenia zbioru uczącego.\n",
    "\n",
    "Imię, nazwisko: Krzysztof Jarek.\n",
    "\n",
    "Kierunek, semestr: IT II, 2.\n",
    "\n",
    "Data oddania: 26.01.2023.\n",
    "\n",
    "<center><img src='pictures/comparison.png' width=700 height=500 /></center>\n",
    "\n",
    "## Cele:\n",
    "\n",
    "* implementacja algorytmów realizujących metody Gradient Descent (GD) i Stochastic Gradient Descent (SGD),\n",
    "* wykorzystanie pierwszego algorytmu również dla przebadania zagadnienia związanego z *undersampling'iem*,\n",
    "* przeprowadzenie analizy porównawczej działania implementacji ze względu na czas wykonania i dokładność.\n",
    "\n",
    "### Problem:\n",
    "\n",
    "**Metoda gradientu prostego** (też metoda najszybszego spadku, ang. Gradient Descent) sprowadza się do koncepcji iteracyjnego algorytmu optymalizacji pierwszego rzędu, służącego do znajdowania lokalnego minimum funkcji różniczkowalnej. Upraszczając, głowna idea algorytmu sprowadza się do tego, aby powtarzane były kroki w kierunku przeciwnym do gradientu (lub przybliżonego gradientu) funkcji w bieżącym punkcie, ponieważ jest to kierunek tzw. najszybszego spadku, w efekcie czego iteracyjnie przybliżane będzie poszukiwane ekstremum funkcji.\n",
    "\n",
    "Algorytm, czy też wersje będące jego bliższym lub dalszym rozwininięciem, są obecnie powszechnie stosowane w ramach  badań uczenia maszynowego (ML). Wśród rozwiązań opracowanych w ostatniej dekadzie wyróżniały się te jego wersje których zbudowanie wiązało się z dodatkowym wykorzystaniem metod stochatycznych.\n",
    "\n",
    "Nawiązując do tej problematyki, w podejmowanym badaniu bazowy algorytm został poddany porównaniu z dwoma wybranym wersjom zmodyfikowanym pod względem wydajności i precyzji: jednej dodatkowo implementującej próbkowanie stochatyczne, drugiej wykorzystującej *undersampling*."
   ]
  },
  {
   "cell_type": "markdown",
   "id": "fb743838",
   "metadata": {},
   "source": [
    "## Przebieg badania:\n",
    "\n",
    "### Wykorzystany oprogramowanie, sprzęt:\n",
    "* MacOs 10.15 Catalina,\n",
    "* środowisko: Jupyter Notebook,\n",
    "* procesor: 2,7 GHz Dwurdzeniowy procesor Intel Core i5,\n",
    "* pamięć: 8 GB 1867 MHz DDR3."
   ]
  },
  {
   "cell_type": "markdown",
   "id": "07369ce7",
   "metadata": {},
   "source": [
    "### Prezentacja zbioru i danych w nim zawartych:"
   ]
  },
  {
   "cell_type": "markdown",
   "id": "da8180e2",
   "metadata": {},
   "source": [
    "Podstawowe informacje o wykorzystanym zbiorze danych:\n",
    "* tytuł: \"**SPAM E-mail Database**\",\n",
    "* twórcy, adres: Mark Hopkins, Erik Reeber, George Forman, Jaap Suermondt, Hewlett-Packard Labs, 1501 Page Mill Rd., Palo Alto, CA 94304,\n",
    "* donator: George Forman (gforman at nospam hpl.hp.com),\n",
    "* zdefiniowane zadanie: ang. Determine whether a given email is spam or not.\n",
    "* w zbiorze ~7% to błąd błędnej klasyfikacji,\n",
    "* \"False positives (marking good mail as spam) are very undesirable. If we insist on zero **false positives** in the training/testing set, **20-25%** of the spam passed through the filter.\",\n",
    "* wstęp od autorów: \"Koncepcja „spamu” jest zróżnicowana: reklamy produktów/stron internetowych, programy szybkiego zarabiania pieniędzy, łańcuszki, pornografia...\",\n",
    "* liczba instancji w zbiorze: **4601** (1813 to spam = 39,4%),\n",
    "* liczba atrybutów: **58** (57 ciągłych, 1 etykieta klasy nominalnej),\n",
    "* zbiór dostępny m.in. na https://archive.ics.uci.edu/ml/datasets/spambase.\n",
    "\n",
    "Na podstawie powyższego opisu danych można zauważyć, że badany problem jaki wynika z charakteru wybranego zbioru będzie problemem klasyfikacji: czy dany zestaw liczb reprezetnuje wiadomość typu spam czy nie? Z tego powodu problem będzie można rozwiązywać w oparciu o wykorystanie funkcji regresji logistycznej przyjętej w badaniu jako funkcja celu *f*.\n",
    "\n",
    "Zanim jednak można było przystąpić do implementacji samych algorytmów, najpierw należało poddać dane koniecznym przekształceniom tak by łatwiej i bardziej efektywne można było przeprowadzić procesy obliczeniowe związane z uruchamianiem kolejnych metod."
   ]
  },
  {
   "cell_type": "code",
   "execution_count": 1,
   "id": "01127977",
   "metadata": {},
   "outputs": [],
   "source": [
    "import math\n",
    "import numpy as np\n",
    "import pandas as pd\n",
    "import seaborn as sn\n",
    "import matplotlib.pyplot as plt\n",
    "from sklearn import metrics\n",
    "\n",
    "plt.style.use('seaborn')\n",
    "WEIGHT, HEIGHT = 7, 10"
   ]
  },
  {
   "cell_type": "code",
   "execution_count": 2,
   "id": "6f92f233",
   "metadata": {},
   "outputs": [],
   "source": [
    "spam_df = pd.read_csv('data/spam.data', header=None, sep=' ')"
   ]
  },
  {
   "cell_type": "code",
   "execution_count": 3,
   "id": "b751c6db",
   "metadata": {},
   "outputs": [
    {
     "name": "stdout",
     "output_type": "stream",
     "text": [
      "Rozmiar zbioru: (4601, 58)\n"
     ]
    }
   ],
   "source": [
    "print( 'Rozmiar zbioru:', spam_df.shape )"
   ]
  },
  {
   "cell_type": "markdown",
   "id": "4c1ef0ef",
   "metadata": {},
   "source": [
    "Prezentacja podstawowych charakterystyk statystycznych danych ze zbioru (dla wglądu):"
   ]
  },
  {
   "cell_type": "code",
   "execution_count": 4,
   "id": "3923bbd8",
   "metadata": {},
   "outputs": [
    {
     "data": {
      "text/html": [
       "<div>\n",
       "<style scoped>\n",
       "    .dataframe tbody tr th:only-of-type {\n",
       "        vertical-align: middle;\n",
       "    }\n",
       "\n",
       "    .dataframe tbody tr th {\n",
       "        vertical-align: top;\n",
       "    }\n",
       "\n",
       "    .dataframe thead th {\n",
       "        text-align: right;\n",
       "    }\n",
       "</style>\n",
       "<table border=\"1\" class=\"dataframe\">\n",
       "  <thead>\n",
       "    <tr style=\"text-align: right;\">\n",
       "      <th></th>\n",
       "      <th>0</th>\n",
       "      <th>1</th>\n",
       "      <th>2</th>\n",
       "      <th>3</th>\n",
       "      <th>4</th>\n",
       "      <th>5</th>\n",
       "      <th>6</th>\n",
       "      <th>7</th>\n",
       "      <th>8</th>\n",
       "      <th>9</th>\n",
       "      <th>...</th>\n",
       "      <th>48</th>\n",
       "      <th>49</th>\n",
       "      <th>50</th>\n",
       "      <th>51</th>\n",
       "      <th>52</th>\n",
       "      <th>53</th>\n",
       "      <th>54</th>\n",
       "      <th>55</th>\n",
       "      <th>56</th>\n",
       "      <th>57</th>\n",
       "    </tr>\n",
       "  </thead>\n",
       "  <tbody>\n",
       "    <tr>\n",
       "      <th>0</th>\n",
       "      <td>0.00</td>\n",
       "      <td>0.64</td>\n",
       "      <td>0.64</td>\n",
       "      <td>0.0</td>\n",
       "      <td>0.32</td>\n",
       "      <td>0.00</td>\n",
       "      <td>0.00</td>\n",
       "      <td>0.00</td>\n",
       "      <td>0.00</td>\n",
       "      <td>0.00</td>\n",
       "      <td>...</td>\n",
       "      <td>0.00</td>\n",
       "      <td>0.000</td>\n",
       "      <td>0.0</td>\n",
       "      <td>0.778</td>\n",
       "      <td>0.000</td>\n",
       "      <td>0.000</td>\n",
       "      <td>3.756</td>\n",
       "      <td>61</td>\n",
       "      <td>278</td>\n",
       "      <td>1</td>\n",
       "    </tr>\n",
       "    <tr>\n",
       "      <th>1</th>\n",
       "      <td>0.21</td>\n",
       "      <td>0.28</td>\n",
       "      <td>0.50</td>\n",
       "      <td>0.0</td>\n",
       "      <td>0.14</td>\n",
       "      <td>0.28</td>\n",
       "      <td>0.21</td>\n",
       "      <td>0.07</td>\n",
       "      <td>0.00</td>\n",
       "      <td>0.94</td>\n",
       "      <td>...</td>\n",
       "      <td>0.00</td>\n",
       "      <td>0.132</td>\n",
       "      <td>0.0</td>\n",
       "      <td>0.372</td>\n",
       "      <td>0.180</td>\n",
       "      <td>0.048</td>\n",
       "      <td>5.114</td>\n",
       "      <td>101</td>\n",
       "      <td>1028</td>\n",
       "      <td>1</td>\n",
       "    </tr>\n",
       "    <tr>\n",
       "      <th>2</th>\n",
       "      <td>0.06</td>\n",
       "      <td>0.00</td>\n",
       "      <td>0.71</td>\n",
       "      <td>0.0</td>\n",
       "      <td>1.23</td>\n",
       "      <td>0.19</td>\n",
       "      <td>0.19</td>\n",
       "      <td>0.12</td>\n",
       "      <td>0.64</td>\n",
       "      <td>0.25</td>\n",
       "      <td>...</td>\n",
       "      <td>0.01</td>\n",
       "      <td>0.143</td>\n",
       "      <td>0.0</td>\n",
       "      <td>0.276</td>\n",
       "      <td>0.184</td>\n",
       "      <td>0.010</td>\n",
       "      <td>9.821</td>\n",
       "      <td>485</td>\n",
       "      <td>2259</td>\n",
       "      <td>1</td>\n",
       "    </tr>\n",
       "    <tr>\n",
       "      <th>3</th>\n",
       "      <td>0.00</td>\n",
       "      <td>0.00</td>\n",
       "      <td>0.00</td>\n",
       "      <td>0.0</td>\n",
       "      <td>0.63</td>\n",
       "      <td>0.00</td>\n",
       "      <td>0.31</td>\n",
       "      <td>0.63</td>\n",
       "      <td>0.31</td>\n",
       "      <td>0.63</td>\n",
       "      <td>...</td>\n",
       "      <td>0.00</td>\n",
       "      <td>0.137</td>\n",
       "      <td>0.0</td>\n",
       "      <td>0.137</td>\n",
       "      <td>0.000</td>\n",
       "      <td>0.000</td>\n",
       "      <td>3.537</td>\n",
       "      <td>40</td>\n",
       "      <td>191</td>\n",
       "      <td>1</td>\n",
       "    </tr>\n",
       "    <tr>\n",
       "      <th>4</th>\n",
       "      <td>0.00</td>\n",
       "      <td>0.00</td>\n",
       "      <td>0.00</td>\n",
       "      <td>0.0</td>\n",
       "      <td>0.63</td>\n",
       "      <td>0.00</td>\n",
       "      <td>0.31</td>\n",
       "      <td>0.63</td>\n",
       "      <td>0.31</td>\n",
       "      <td>0.63</td>\n",
       "      <td>...</td>\n",
       "      <td>0.00</td>\n",
       "      <td>0.135</td>\n",
       "      <td>0.0</td>\n",
       "      <td>0.135</td>\n",
       "      <td>0.000</td>\n",
       "      <td>0.000</td>\n",
       "      <td>3.537</td>\n",
       "      <td>40</td>\n",
       "      <td>191</td>\n",
       "      <td>1</td>\n",
       "    </tr>\n",
       "    <tr>\n",
       "      <th>5</th>\n",
       "      <td>0.00</td>\n",
       "      <td>0.00</td>\n",
       "      <td>0.00</td>\n",
       "      <td>0.0</td>\n",
       "      <td>1.85</td>\n",
       "      <td>0.00</td>\n",
       "      <td>0.00</td>\n",
       "      <td>1.85</td>\n",
       "      <td>0.00</td>\n",
       "      <td>0.00</td>\n",
       "      <td>...</td>\n",
       "      <td>0.00</td>\n",
       "      <td>0.223</td>\n",
       "      <td>0.0</td>\n",
       "      <td>0.000</td>\n",
       "      <td>0.000</td>\n",
       "      <td>0.000</td>\n",
       "      <td>3.000</td>\n",
       "      <td>15</td>\n",
       "      <td>54</td>\n",
       "      <td>1</td>\n",
       "    </tr>\n",
       "    <tr>\n",
       "      <th>6</th>\n",
       "      <td>0.00</td>\n",
       "      <td>0.00</td>\n",
       "      <td>0.00</td>\n",
       "      <td>0.0</td>\n",
       "      <td>1.92</td>\n",
       "      <td>0.00</td>\n",
       "      <td>0.00</td>\n",
       "      <td>0.00</td>\n",
       "      <td>0.00</td>\n",
       "      <td>0.64</td>\n",
       "      <td>...</td>\n",
       "      <td>0.00</td>\n",
       "      <td>0.054</td>\n",
       "      <td>0.0</td>\n",
       "      <td>0.164</td>\n",
       "      <td>0.054</td>\n",
       "      <td>0.000</td>\n",
       "      <td>1.671</td>\n",
       "      <td>4</td>\n",
       "      <td>112</td>\n",
       "      <td>1</td>\n",
       "    </tr>\n",
       "    <tr>\n",
       "      <th>7</th>\n",
       "      <td>0.00</td>\n",
       "      <td>0.00</td>\n",
       "      <td>0.00</td>\n",
       "      <td>0.0</td>\n",
       "      <td>1.88</td>\n",
       "      <td>0.00</td>\n",
       "      <td>0.00</td>\n",
       "      <td>1.88</td>\n",
       "      <td>0.00</td>\n",
       "      <td>0.00</td>\n",
       "      <td>...</td>\n",
       "      <td>0.00</td>\n",
       "      <td>0.206</td>\n",
       "      <td>0.0</td>\n",
       "      <td>0.000</td>\n",
       "      <td>0.000</td>\n",
       "      <td>0.000</td>\n",
       "      <td>2.450</td>\n",
       "      <td>11</td>\n",
       "      <td>49</td>\n",
       "      <td>1</td>\n",
       "    </tr>\n",
       "    <tr>\n",
       "      <th>8</th>\n",
       "      <td>0.15</td>\n",
       "      <td>0.00</td>\n",
       "      <td>0.46</td>\n",
       "      <td>0.0</td>\n",
       "      <td>0.61</td>\n",
       "      <td>0.00</td>\n",
       "      <td>0.30</td>\n",
       "      <td>0.00</td>\n",
       "      <td>0.92</td>\n",
       "      <td>0.76</td>\n",
       "      <td>...</td>\n",
       "      <td>0.00</td>\n",
       "      <td>0.271</td>\n",
       "      <td>0.0</td>\n",
       "      <td>0.181</td>\n",
       "      <td>0.203</td>\n",
       "      <td>0.022</td>\n",
       "      <td>9.744</td>\n",
       "      <td>445</td>\n",
       "      <td>1257</td>\n",
       "      <td>1</td>\n",
       "    </tr>\n",
       "    <tr>\n",
       "      <th>9</th>\n",
       "      <td>0.06</td>\n",
       "      <td>0.12</td>\n",
       "      <td>0.77</td>\n",
       "      <td>0.0</td>\n",
       "      <td>0.19</td>\n",
       "      <td>0.32</td>\n",
       "      <td>0.38</td>\n",
       "      <td>0.00</td>\n",
       "      <td>0.06</td>\n",
       "      <td>0.00</td>\n",
       "      <td>...</td>\n",
       "      <td>0.04</td>\n",
       "      <td>0.030</td>\n",
       "      <td>0.0</td>\n",
       "      <td>0.244</td>\n",
       "      <td>0.081</td>\n",
       "      <td>0.000</td>\n",
       "      <td>1.729</td>\n",
       "      <td>43</td>\n",
       "      <td>749</td>\n",
       "      <td>1</td>\n",
       "    </tr>\n",
       "  </tbody>\n",
       "</table>\n",
       "<p>10 rows × 58 columns</p>\n",
       "</div>"
      ],
      "text/plain": [
       "     0     1     2    3     4     5     6     7     8     9   ...    48  \\\n",
       "0  0.00  0.64  0.64  0.0  0.32  0.00  0.00  0.00  0.00  0.00  ...  0.00   \n",
       "1  0.21  0.28  0.50  0.0  0.14  0.28  0.21  0.07  0.00  0.94  ...  0.00   \n",
       "2  0.06  0.00  0.71  0.0  1.23  0.19  0.19  0.12  0.64  0.25  ...  0.01   \n",
       "3  0.00  0.00  0.00  0.0  0.63  0.00  0.31  0.63  0.31  0.63  ...  0.00   \n",
       "4  0.00  0.00  0.00  0.0  0.63  0.00  0.31  0.63  0.31  0.63  ...  0.00   \n",
       "5  0.00  0.00  0.00  0.0  1.85  0.00  0.00  1.85  0.00  0.00  ...  0.00   \n",
       "6  0.00  0.00  0.00  0.0  1.92  0.00  0.00  0.00  0.00  0.64  ...  0.00   \n",
       "7  0.00  0.00  0.00  0.0  1.88  0.00  0.00  1.88  0.00  0.00  ...  0.00   \n",
       "8  0.15  0.00  0.46  0.0  0.61  0.00  0.30  0.00  0.92  0.76  ...  0.00   \n",
       "9  0.06  0.12  0.77  0.0  0.19  0.32  0.38  0.00  0.06  0.00  ...  0.04   \n",
       "\n",
       "      49   50     51     52     53     54   55    56  57  \n",
       "0  0.000  0.0  0.778  0.000  0.000  3.756   61   278   1  \n",
       "1  0.132  0.0  0.372  0.180  0.048  5.114  101  1028   1  \n",
       "2  0.143  0.0  0.276  0.184  0.010  9.821  485  2259   1  \n",
       "3  0.137  0.0  0.137  0.000  0.000  3.537   40   191   1  \n",
       "4  0.135  0.0  0.135  0.000  0.000  3.537   40   191   1  \n",
       "5  0.223  0.0  0.000  0.000  0.000  3.000   15    54   1  \n",
       "6  0.054  0.0  0.164  0.054  0.000  1.671    4   112   1  \n",
       "7  0.206  0.0  0.000  0.000  0.000  2.450   11    49   1  \n",
       "8  0.271  0.0  0.181  0.203  0.022  9.744  445  1257   1  \n",
       "9  0.030  0.0  0.244  0.081  0.000  1.729   43   749   1  \n",
       "\n",
       "[10 rows x 58 columns]"
      ]
     },
     "execution_count": 4,
     "metadata": {},
     "output_type": "execute_result"
    }
   ],
   "source": [
    "spam_df.head(10)"
   ]
  },
  {
   "cell_type": "code",
   "execution_count": 5,
   "id": "da58fc87",
   "metadata": {},
   "outputs": [
    {
     "data": {
      "text/html": [
       "<div>\n",
       "<style scoped>\n",
       "    .dataframe tbody tr th:only-of-type {\n",
       "        vertical-align: middle;\n",
       "    }\n",
       "\n",
       "    .dataframe tbody tr th {\n",
       "        vertical-align: top;\n",
       "    }\n",
       "\n",
       "    .dataframe thead th {\n",
       "        text-align: right;\n",
       "    }\n",
       "</style>\n",
       "<table border=\"1\" class=\"dataframe\">\n",
       "  <thead>\n",
       "    <tr style=\"text-align: right;\">\n",
       "      <th></th>\n",
       "      <th>0</th>\n",
       "      <th>1</th>\n",
       "      <th>2</th>\n",
       "      <th>3</th>\n",
       "      <th>4</th>\n",
       "      <th>5</th>\n",
       "      <th>6</th>\n",
       "      <th>7</th>\n",
       "      <th>8</th>\n",
       "      <th>9</th>\n",
       "      <th>...</th>\n",
       "      <th>48</th>\n",
       "      <th>49</th>\n",
       "      <th>50</th>\n",
       "      <th>51</th>\n",
       "      <th>52</th>\n",
       "      <th>53</th>\n",
       "      <th>54</th>\n",
       "      <th>55</th>\n",
       "      <th>56</th>\n",
       "      <th>57</th>\n",
       "    </tr>\n",
       "  </thead>\n",
       "  <tbody>\n",
       "    <tr>\n",
       "      <th>count</th>\n",
       "      <td>4601.000000</td>\n",
       "      <td>4601.000000</td>\n",
       "      <td>4601.000000</td>\n",
       "      <td>4601.000000</td>\n",
       "      <td>4601.000000</td>\n",
       "      <td>4601.000000</td>\n",
       "      <td>4601.000000</td>\n",
       "      <td>4601.000000</td>\n",
       "      <td>4601.000000</td>\n",
       "      <td>4601.000000</td>\n",
       "      <td>...</td>\n",
       "      <td>4601.000000</td>\n",
       "      <td>4601.000000</td>\n",
       "      <td>4601.000000</td>\n",
       "      <td>4601.000000</td>\n",
       "      <td>4601.000000</td>\n",
       "      <td>4601.000000</td>\n",
       "      <td>4601.000000</td>\n",
       "      <td>4601.000000</td>\n",
       "      <td>4601.000000</td>\n",
       "      <td>4601.000000</td>\n",
       "    </tr>\n",
       "    <tr>\n",
       "      <th>mean</th>\n",
       "      <td>0.104553</td>\n",
       "      <td>0.213015</td>\n",
       "      <td>0.280656</td>\n",
       "      <td>0.065425</td>\n",
       "      <td>0.312223</td>\n",
       "      <td>0.095901</td>\n",
       "      <td>0.114208</td>\n",
       "      <td>0.105295</td>\n",
       "      <td>0.090067</td>\n",
       "      <td>0.239413</td>\n",
       "      <td>...</td>\n",
       "      <td>0.038575</td>\n",
       "      <td>0.139030</td>\n",
       "      <td>0.016976</td>\n",
       "      <td>0.269071</td>\n",
       "      <td>0.075811</td>\n",
       "      <td>0.044238</td>\n",
       "      <td>5.191515</td>\n",
       "      <td>52.172789</td>\n",
       "      <td>283.289285</td>\n",
       "      <td>0.394045</td>\n",
       "    </tr>\n",
       "    <tr>\n",
       "      <th>std</th>\n",
       "      <td>0.305358</td>\n",
       "      <td>1.290575</td>\n",
       "      <td>0.504143</td>\n",
       "      <td>1.395151</td>\n",
       "      <td>0.672513</td>\n",
       "      <td>0.273824</td>\n",
       "      <td>0.391441</td>\n",
       "      <td>0.401071</td>\n",
       "      <td>0.278616</td>\n",
       "      <td>0.644755</td>\n",
       "      <td>...</td>\n",
       "      <td>0.243471</td>\n",
       "      <td>0.270355</td>\n",
       "      <td>0.109394</td>\n",
       "      <td>0.815672</td>\n",
       "      <td>0.245882</td>\n",
       "      <td>0.429342</td>\n",
       "      <td>31.729449</td>\n",
       "      <td>194.891310</td>\n",
       "      <td>606.347851</td>\n",
       "      <td>0.488698</td>\n",
       "    </tr>\n",
       "    <tr>\n",
       "      <th>min</th>\n",
       "      <td>0.000000</td>\n",
       "      <td>0.000000</td>\n",
       "      <td>0.000000</td>\n",
       "      <td>0.000000</td>\n",
       "      <td>0.000000</td>\n",
       "      <td>0.000000</td>\n",
       "      <td>0.000000</td>\n",
       "      <td>0.000000</td>\n",
       "      <td>0.000000</td>\n",
       "      <td>0.000000</td>\n",
       "      <td>...</td>\n",
       "      <td>0.000000</td>\n",
       "      <td>0.000000</td>\n",
       "      <td>0.000000</td>\n",
       "      <td>0.000000</td>\n",
       "      <td>0.000000</td>\n",
       "      <td>0.000000</td>\n",
       "      <td>1.000000</td>\n",
       "      <td>1.000000</td>\n",
       "      <td>1.000000</td>\n",
       "      <td>0.000000</td>\n",
       "    </tr>\n",
       "    <tr>\n",
       "      <th>25%</th>\n",
       "      <td>0.000000</td>\n",
       "      <td>0.000000</td>\n",
       "      <td>0.000000</td>\n",
       "      <td>0.000000</td>\n",
       "      <td>0.000000</td>\n",
       "      <td>0.000000</td>\n",
       "      <td>0.000000</td>\n",
       "      <td>0.000000</td>\n",
       "      <td>0.000000</td>\n",
       "      <td>0.000000</td>\n",
       "      <td>...</td>\n",
       "      <td>0.000000</td>\n",
       "      <td>0.000000</td>\n",
       "      <td>0.000000</td>\n",
       "      <td>0.000000</td>\n",
       "      <td>0.000000</td>\n",
       "      <td>0.000000</td>\n",
       "      <td>1.588000</td>\n",
       "      <td>6.000000</td>\n",
       "      <td>35.000000</td>\n",
       "      <td>0.000000</td>\n",
       "    </tr>\n",
       "    <tr>\n",
       "      <th>50%</th>\n",
       "      <td>0.000000</td>\n",
       "      <td>0.000000</td>\n",
       "      <td>0.000000</td>\n",
       "      <td>0.000000</td>\n",
       "      <td>0.000000</td>\n",
       "      <td>0.000000</td>\n",
       "      <td>0.000000</td>\n",
       "      <td>0.000000</td>\n",
       "      <td>0.000000</td>\n",
       "      <td>0.000000</td>\n",
       "      <td>...</td>\n",
       "      <td>0.000000</td>\n",
       "      <td>0.065000</td>\n",
       "      <td>0.000000</td>\n",
       "      <td>0.000000</td>\n",
       "      <td>0.000000</td>\n",
       "      <td>0.000000</td>\n",
       "      <td>2.276000</td>\n",
       "      <td>15.000000</td>\n",
       "      <td>95.000000</td>\n",
       "      <td>0.000000</td>\n",
       "    </tr>\n",
       "    <tr>\n",
       "      <th>75%</th>\n",
       "      <td>0.000000</td>\n",
       "      <td>0.000000</td>\n",
       "      <td>0.420000</td>\n",
       "      <td>0.000000</td>\n",
       "      <td>0.380000</td>\n",
       "      <td>0.000000</td>\n",
       "      <td>0.000000</td>\n",
       "      <td>0.000000</td>\n",
       "      <td>0.000000</td>\n",
       "      <td>0.160000</td>\n",
       "      <td>...</td>\n",
       "      <td>0.000000</td>\n",
       "      <td>0.188000</td>\n",
       "      <td>0.000000</td>\n",
       "      <td>0.315000</td>\n",
       "      <td>0.052000</td>\n",
       "      <td>0.000000</td>\n",
       "      <td>3.706000</td>\n",
       "      <td>43.000000</td>\n",
       "      <td>266.000000</td>\n",
       "      <td>1.000000</td>\n",
       "    </tr>\n",
       "    <tr>\n",
       "      <th>max</th>\n",
       "      <td>4.540000</td>\n",
       "      <td>14.280000</td>\n",
       "      <td>5.100000</td>\n",
       "      <td>42.810000</td>\n",
       "      <td>10.000000</td>\n",
       "      <td>5.880000</td>\n",
       "      <td>7.270000</td>\n",
       "      <td>11.110000</td>\n",
       "      <td>5.260000</td>\n",
       "      <td>18.180000</td>\n",
       "      <td>...</td>\n",
       "      <td>4.385000</td>\n",
       "      <td>9.752000</td>\n",
       "      <td>4.081000</td>\n",
       "      <td>32.478000</td>\n",
       "      <td>6.003000</td>\n",
       "      <td>19.829000</td>\n",
       "      <td>1102.500000</td>\n",
       "      <td>9989.000000</td>\n",
       "      <td>15841.000000</td>\n",
       "      <td>1.000000</td>\n",
       "    </tr>\n",
       "  </tbody>\n",
       "</table>\n",
       "<p>8 rows × 58 columns</p>\n",
       "</div>"
      ],
      "text/plain": [
       "                0            1            2            3            4   \\\n",
       "count  4601.000000  4601.000000  4601.000000  4601.000000  4601.000000   \n",
       "mean      0.104553     0.213015     0.280656     0.065425     0.312223   \n",
       "std       0.305358     1.290575     0.504143     1.395151     0.672513   \n",
       "min       0.000000     0.000000     0.000000     0.000000     0.000000   \n",
       "25%       0.000000     0.000000     0.000000     0.000000     0.000000   \n",
       "50%       0.000000     0.000000     0.000000     0.000000     0.000000   \n",
       "75%       0.000000     0.000000     0.420000     0.000000     0.380000   \n",
       "max       4.540000    14.280000     5.100000    42.810000    10.000000   \n",
       "\n",
       "                5            6            7            8            9   ...  \\\n",
       "count  4601.000000  4601.000000  4601.000000  4601.000000  4601.000000  ...   \n",
       "mean      0.095901     0.114208     0.105295     0.090067     0.239413  ...   \n",
       "std       0.273824     0.391441     0.401071     0.278616     0.644755  ...   \n",
       "min       0.000000     0.000000     0.000000     0.000000     0.000000  ...   \n",
       "25%       0.000000     0.000000     0.000000     0.000000     0.000000  ...   \n",
       "50%       0.000000     0.000000     0.000000     0.000000     0.000000  ...   \n",
       "75%       0.000000     0.000000     0.000000     0.000000     0.160000  ...   \n",
       "max       5.880000     7.270000    11.110000     5.260000    18.180000  ...   \n",
       "\n",
       "                48           49           50           51           52  \\\n",
       "count  4601.000000  4601.000000  4601.000000  4601.000000  4601.000000   \n",
       "mean      0.038575     0.139030     0.016976     0.269071     0.075811   \n",
       "std       0.243471     0.270355     0.109394     0.815672     0.245882   \n",
       "min       0.000000     0.000000     0.000000     0.000000     0.000000   \n",
       "25%       0.000000     0.000000     0.000000     0.000000     0.000000   \n",
       "50%       0.000000     0.065000     0.000000     0.000000     0.000000   \n",
       "75%       0.000000     0.188000     0.000000     0.315000     0.052000   \n",
       "max       4.385000     9.752000     4.081000    32.478000     6.003000   \n",
       "\n",
       "                53           54           55            56           57  \n",
       "count  4601.000000  4601.000000  4601.000000   4601.000000  4601.000000  \n",
       "mean      0.044238     5.191515    52.172789    283.289285     0.394045  \n",
       "std       0.429342    31.729449   194.891310    606.347851     0.488698  \n",
       "min       0.000000     1.000000     1.000000      1.000000     0.000000  \n",
       "25%       0.000000     1.588000     6.000000     35.000000     0.000000  \n",
       "50%       0.000000     2.276000    15.000000     95.000000     0.000000  \n",
       "75%       0.000000     3.706000    43.000000    266.000000     1.000000  \n",
       "max      19.829000  1102.500000  9989.000000  15841.000000     1.000000  \n",
       "\n",
       "[8 rows x 58 columns]"
      ]
     },
     "execution_count": 5,
     "metadata": {},
     "output_type": "execute_result"
    }
   ],
   "source": [
    "spam_df.describe()"
   ]
  },
  {
   "cell_type": "markdown",
   "id": "9a20a339",
   "metadata": {},
   "source": [
    "Na samym końcu tego etapu przetwarzania danych ze zbioru zostały wydzielone zbiory *X* i *y*, i pierwszy z nich został poddany standaryzacji:"
   ]
  },
  {
   "cell_type": "code",
   "execution_count": 6,
   "id": "f0220fa1",
   "metadata": {},
   "outputs": [],
   "source": [
    "X = spam_df.iloc[:, :-1].values\n",
    "y = spam_df.iloc[:, -1].values"
   ]
  },
  {
   "cell_type": "code",
   "execution_count": 7,
   "id": "891fec44",
   "metadata": {},
   "outputs": [
    {
     "name": "stdout",
     "output_type": "stream",
     "text": [
      "Rozmiar zbiorów X i y: (4601, 57) i (4601,) .\n",
      "Typ danych dla zbiorów X i y: float64 i int64 .\n"
     ]
    }
   ],
   "source": [
    "print( 'Rozmiar zbiorów X i y:', X.shape, 'i', y.shape, '.' )\n",
    "print( 'Typ danych dla zbiorów X i y:', X.dtype, 'i', y.dtype, '.' )"
   ]
  },
  {
   "cell_type": "code",
   "execution_count": 8,
   "id": "43fd403e",
   "metadata": {},
   "outputs": [],
   "source": [
    "X_norm = np.copy(X)\n",
    "X_mean, X_std = X_norm.mean(), X_norm.std()\n",
    "X_norm = ( X_norm - X_mean ) / X_std"
   ]
  },
  {
   "cell_type": "markdown",
   "id": "c569a841",
   "metadata": {},
   "source": [
    "### Przygotowane funkcje:\n",
    "\n",
    "W celu realizacji przygotowania algorytmów i przeprowadzenia badania z ich wykorzystaniem, konieczne było uprzednie zaimplementowanie funkcji mogących pozwolić na przeprowadzanie procesu numerycznego interferowania służacego konstruowaniu systemu decyzyjnego.  \n",
    "Jako fukcja aktywacji została wybrana fukcja sigmoidalna (*sigmoid*, $h_{\\theta}$), definiowana tu wzorem *g(z)*:  \n",
    "<img align=\"left\" src='pictures/sigmoid.png' width=400 height=700 />  \n",
    "<br></br><br></br><br></br>  \n",
    ", gdzie $x$ to macierz próbek, a ${\\theta}$ to wektor wag."
   ]
  },
  {
   "cell_type": "code",
   "execution_count": 9,
   "id": "c878a02e",
   "metadata": {},
   "outputs": [],
   "source": [
    "def sigmoid(z):  \n",
    "    return np.exp(-np.logaddexp(1e-16, -z))"
   ]
  },
  {
   "cell_type": "markdown",
   "id": "d28f9e7e",
   "metadata": {},
   "source": [
    "Funkcja kosztu (celu), której idea opiera się o koncepcję regresji logistycznej, i jej gradientu zostały zdefiniowane poprzez następujące równania:  \n",
    "<img align=\"left\" src='pictures/cost_function.png' width=650 height=750 />  \n",
    "<img align=\"left\" src='pictures/cost_function_gradient.png' width=380 height=300 />  "
   ]
  },
  {
   "cell_type": "markdown",
   "id": "ced346de",
   "metadata": {},
   "source": [
    ", gdzie $x$ to zbiór danych wejściowych, a $y$ to wektor poprawnych rozwiązań.  \n",
    "\n",
    "Rozwiązanie wynikające z ich koncepcji zostało zaimplementowane w funkcji *CostFunction()*:"
   ]
  },
  {
   "cell_type": "code",
   "execution_count": 10,
   "id": "329dd52e",
   "metadata": {},
   "outputs": [],
   "source": [
    "def CostFunction(X, y, theta):\n",
    "    \n",
    "    m = y.shape[0];\n",
    "    z = np.dot(theta[1:], X.T) + theta[0]\n",
    "    h_theta = sigmoid(z)\n",
    "    \n",
    "    J  = - ( y.T.dot( np.log(h_theta) ) + (1 - y).T.dot( np.log(1-h_theta) ) ) /m\n",
    "    diff = (h_theta - y) /m # dJ0\n",
    "    dJ = (diff).T.dot(X) /m\n",
    "    \n",
    "    return J, diff, dJ"
   ]
  },
  {
   "cell_type": "markdown",
   "id": "de877afc",
   "metadata": {},
   "source": [
    "Poza tymi funkcjami i ich powyższymi implementacjami, napisane zostały funkcje mogące pełnić zadania pomocnicze, jak wizualizacja danych, czy też pozwolić na policzenie istotnych parametrów jak *accuracy* (dokładność) lub przeprowadzenie predykcji dla zbioru:"
   ]
  },
  {
   "cell_type": "code",
   "execution_count": 11,
   "id": "38e5673a",
   "metadata": {},
   "outputs": [],
   "source": [
    "def predict(X, theta):\n",
    "    z = np.dot(theta[1:], X.T) + theta[0]\n",
    "    h_theta = sigmoid(z)\n",
    "    return np.where(h_theta >= 0.5, 1, 0)"
   ]
  },
  {
   "cell_type": "code",
   "execution_count": 12,
   "id": "2dbd0c3f",
   "metadata": {},
   "outputs": [],
   "source": [
    "def get_accuracy(y_true, y_pred):\n",
    "    return np.sum(y_true == y_pred) / y_true.shape[0]"
   ]
  },
  {
   "cell_type": "code",
   "execution_count": 13,
   "id": "21f3954c",
   "metadata": {},
   "outputs": [],
   "source": [
    "def plot_confusion_matrix(y_test, predicts, acc):\n",
    "    print('Tablica pomyłek dla metody:')\n",
    "    cm = metrics.confusion_matrix(y_test, predicts)\n",
    "    sn.heatmap(cm, annot=True, cmap=\"crest\")\n",
    "    plt.ylabel('Aktualne klasy', size=15)\n",
    "    plt.xlabel('Predykowane klasy', size=15)\n",
    "    plt.title(f'Accuracy: {acc*100:.2f}%', size=15)\n",
    "    plt.rcParams[\"figure.figsize\"] = HEIGHT, WEIGHT\n",
    "    plt.show()"
   ]
  },
  {
   "cell_type": "markdown",
   "id": "0e894934",
   "metadata": {},
   "source": [
    "### Gradient Descent:\n",
    "\n",
    "Następnym krokiem było bezpośrednie zaimplementowanie funkcji realizującej metodę gradientu prostego. Implementacja tego algorytmu została przeprowadzona w oparciu o niżej zdefiniowane wzory.  \n",
    "Uproszczony zapis formalny dla uakualnienia wartośći $\\theta_{j}$ (zapis analityczny) i samej metody GD (zapis numeryczny):  \n",
    "<img align=\"left\" src='pictures/gradient_descent.png' width=200 height=400 />  \n",
    "<br></br><br></br>\n",
    "<img align=\"left\" src='pictures/pseudocode.png' width=500 height=700 />"
   ]
  },
  {
   "cell_type": "code",
   "execution_count": 14,
   "id": "cf328e91",
   "metadata": {},
   "outputs": [],
   "source": [
    "def GradientDescent( X, y, in_theta, alpha=0.1, num_iter=50 ):\n",
    "    theta = in_theta.copy()\n",
    "    \n",
    "    for _ in range(num_iter):\n",
    "        J, dJ0, dJ = CostFunction(X, y, theta)\n",
    "        theta[0] = theta[0] - alpha * dJ0.sum()\n",
    "        theta[1:] = theta[1:] - alpha * dJ\n",
    "    \n",
    "    return theta, J"
   ]
  },
  {
   "cell_type": "markdown",
   "id": "577f463e",
   "metadata": {},
   "source": [
    "Dla przeprowadzanych symulacji zostały przyjęte następujące parametry- w tym *BATCH_SIZE* dla SGD równy 32 i *SAMPLING_FRACTION* dla problemu *undersampling'u* równy 0.5:"
   ]
  },
  {
   "cell_type": "code",
   "execution_count": 15,
   "id": "e32673f1",
   "metadata": {},
   "outputs": [],
   "source": [
    "ALPHA = 0.005\n",
    "NUM_ITER = 1800\n",
    "BATCH_SIZE = 32\n",
    "SAMPLING_FRACTION = 0.5"
   ]
  },
  {
   "cell_type": "code",
   "execution_count": 16,
   "id": "4e33b2e3",
   "metadata": {},
   "outputs": [
    {
     "name": "stdout",
     "output_type": "stream",
     "text": [
      "Hipoteza:\n",
      " [0.96273474 0.97854859 0.51634687 0.13084144 0.83207896 0.92677685\n",
      " 0.01318382 0.27936175 0.00256147 0.99402173 0.01172912 0.17715402\n",
      " 0.20537795 0.67787216 0.52740567 0.26850873 0.02169317 0.17131447\n",
      " 0.65925198 0.09107453 0.27046289 0.7550169  0.13886126 0.44402209\n",
      " 0.92652179 0.56407483 0.8816117  0.63044725 0.04708391 0.32973753\n",
      " 0.57884073 0.36402595 0.2800927  0.66097048 0.67165854 0.09018319\n",
      " 0.59275443 0.52394297 0.09694017 0.82242978 0.16083414 0.74201022\n",
      " 0.48932555 0.11981977 0.39438686 0.05359883 0.24134003 0.29463574\n",
      " 0.53960249 0.52046563 0.78830302 0.30036322 0.21013341 0.11773783\n",
      " 0.62033651 0.5779292  0.5051246  0.84821451]\n"
     ]
    }
   ],
   "source": [
    "m, n  = X_norm.shape\n",
    "theta_0 = np.random.rand(n+1)\n",
    "print('Hipoteza:\\n', theta_0[:])"
   ]
  },
  {
   "cell_type": "markdown",
   "id": "481d835f",
   "metadata": {},
   "source": [
    "Mając wszystko już przygotowane, przeprowadzonne zostały symulacje działania algorytmu:"
   ]
  },
  {
   "cell_type": "code",
   "execution_count": 17,
   "id": "94ef9674",
   "metadata": {},
   "outputs": [
    {
     "name": "stdout",
     "output_type": "stream",
     "text": [
      "Uzyskano następujące pomiary czasowe, realizowane kilkutronie w oparciu o dostarczony inteface %timeit:\n",
      "1.29 s ± 33 ms per loop (mean ± std. dev. of 3 runs, 7 loops each)\n",
      "Przeprowadzono 3x7 wykonań kodu.\n"
     ]
    }
   ],
   "source": [
    "print( 'Uzyskano następujące pomiary czasowe, realizowane kilkutronie w oparciu o dostarczony inteface %timeit:' )\n",
    "time_GD = %timeit -r 3 -n 7 -o GradientDescent(X_norm, y, theta_0, ALPHA, NUM_ITER)\n",
    "print( 'Przeprowadzono 3x7 wykonań kodu.' )"
   ]
  },
  {
   "cell_type": "code",
   "execution_count": 18,
   "id": "1edfc0e4",
   "metadata": {},
   "outputs": [],
   "source": [
    "thetaOpt, JOpt = GradientDescent(X_norm, y, theta_0, ALPHA, NUM_ITER)"
   ]
  },
  {
   "cell_type": "code",
   "execution_count": 19,
   "id": "8e2c9588",
   "metadata": {},
   "outputs": [
    {
     "name": "stdout",
     "output_type": "stream",
     "text": [
      "Znalezione minimum przez algorytm: 0.8915783034092205\n"
     ]
    }
   ],
   "source": [
    "print( 'Znalezione minimum przez algorytm:', JOpt )"
   ]
  },
  {
   "cell_type": "code",
   "execution_count": 20,
   "id": "1cf586a8",
   "metadata": {},
   "outputs": [],
   "source": [
    "y_pred_GD = predict(X_norm, thetaOpt)"
   ]
  },
  {
   "cell_type": "code",
   "execution_count": 21,
   "id": "43423d41",
   "metadata": {},
   "outputs": [
    {
     "name": "stdout",
     "output_type": "stream",
     "text": [
      "Policzona accuracy (dokładność): 0.699848\n"
     ]
    }
   ],
   "source": [
    "accuracy_GD = get_accuracy(y, y_pred_GD)\n",
    "print( f'Policzona accuracy (dokładność): {accuracy_GD:.6f}' )"
   ]
  },
  {
   "cell_type": "code",
   "execution_count": 22,
   "id": "ba8d8118",
   "metadata": {},
   "outputs": [
    {
     "name": "stdout",
     "output_type": "stream",
     "text": [
      "Tablica pomyłek dla metody:\n"
     ]
    },
    {
     "data": {
      "image/png": "[encoded data removed]",
      "text/plain": [
       "<Figure size 576x396 with 2 Axes>"
      ]
     },
     "metadata": {},
     "output_type": "display_data"
    }
   ],
   "source": [
    "plot_confusion_matrix(y, y_pred_GD, accuracy_GD)"
   ]
  },
  {
   "cell_type": "markdown",
   "id": "533b35c5",
   "metadata": {},
   "source": [
    "### Stochastic Gradient Descent:\n",
    "\n",
    "Następnie zaimplementowany został algorytm Stochastic Gradient Descent, który od pierwotnej wersji różni się tym, że w ramach każdej epoki procesu uczenia zbiór danych jest najpierw losowo mieszany, a potem w pętli iteracyjnie jest wczytywany w postaci tzw. *batch'y* w celu aktualizacji parametrów hipotezy. Zastosowana implementacja poniżej:"
   ]
  },
  {
   "cell_type": "code",
   "execution_count": 23,
   "id": "77f3aa6d",
   "metadata": {},
   "outputs": [],
   "source": [
    "def StochasticGradientDescent( in_X, in_y, in_theta, alpha=0.1, num_iter=50, batch_size=8 ):\n",
    "    X = in_X.copy()\n",
    "    y = in_y.copy()\n",
    "    theta = in_theta.copy()\n",
    "    X_len = X.shape[0]\n",
    "    idx = np.arange(X_len)\n",
    "    num_iter = math.ceil( num_iter/ (X_len/batch_size) )\n",
    "    \n",
    "    for _ in range(num_iter):\n",
    "        idx_perm = np.random.permutation(idx)\n",
    "        X, y = X[idx_perm], y[idx_perm]\n",
    "        for start in range(0, X_len, batch_size):\n",
    "            stop = start + batch_size\n",
    "            J, dJ0, dJ = CostFunction( X[start:stop,:], y[start:stop], theta )\n",
    "            theta[0] = theta[0] - alpha * dJ0.sum()\n",
    "            theta[1:] = theta[1:] - alpha * dJ\n",
    "    \n",
    "    return theta, J"
   ]
  },
  {
   "cell_type": "markdown",
   "id": "0240eb36",
   "metadata": {},
   "source": [
    "Co należy zauważyć to w powyższej implementacji *num_iter* odpowiada sumarycznej liczbie iteracji pętli wewnętrzej (kwestia lepszego performance'u).\n",
    "\n",
    "Mając wszystko już przygotowane, przeprowadzonne zostały symulacje działania algorytmu:"
   ]
  },
  {
   "cell_type": "code",
   "execution_count": 24,
   "id": "f4477d62",
   "metadata": {},
   "outputs": [
    {
     "name": "stdout",
     "output_type": "stream",
     "text": [
      "Uzyskano następujące pomiary czasowe, realizowane kilkutronie w oparciu o dostarczony inteface %timeit:\n",
      "93 ms ± 8.72 ms per loop (mean ± std. dev. of 3 runs, 7 loops each)\n",
      "Przeprowadzono 3x7 wykonań kodu.\n"
     ]
    }
   ],
   "source": [
    "print( 'Uzyskano następujące pomiary czasowe, realizowane kilkutronie w oparciu o dostarczony inteface %timeit:' )\n",
    "time_SGD = %timeit -r 3 -n 7 -o StochasticGradientDescent(X_norm, y, theta_0, ALPHA, NUM_ITER, BATCH_SIZE)\n",
    "print( 'Przeprowadzono 3x7 wykonań kodu.' )"
   ]
  },
  {
   "cell_type": "code",
   "execution_count": 25,
   "id": "659a93bb",
   "metadata": {},
   "outputs": [],
   "source": [
    "thetaOptSGD, JOptSGD = StochasticGradientDescent(X_norm, y, theta_0, ALPHA, NUM_ITER, BATCH_SIZE)"
   ]
  },
  {
   "cell_type": "code",
   "execution_count": 26,
   "id": "212a5632",
   "metadata": {},
   "outputs": [
    {
     "name": "stdout",
     "output_type": "stream",
     "text": [
      "Znalezione minimum przez algorytm: 0.7761974408378768\n"
     ]
    }
   ],
   "source": [
    "print( 'Znalezione minimum przez algorytm:', JOptSGD )"
   ]
  },
  {
   "cell_type": "code",
   "execution_count": 27,
   "id": "35fcaf67",
   "metadata": {},
   "outputs": [],
   "source": [
    "y_pred_SGD = predict(X_norm, thetaOptSGD)"
   ]
  },
  {
   "cell_type": "code",
   "execution_count": 28,
   "id": "d677be6d",
   "metadata": {},
   "outputs": [
    {
     "name": "stdout",
     "output_type": "stream",
     "text": [
      "Policzona accuracy (dokładność): 0.698326\n"
     ]
    }
   ],
   "source": [
    "accuracy_SGD = get_accuracy(y, y_pred_SGD)\n",
    "print( f'Policzona accuracy (dokładność): {accuracy_SGD:.6f}' )"
   ]
  },
  {
   "cell_type": "code",
   "execution_count": 29,
   "id": "5e9b2609",
   "metadata": {},
   "outputs": [
    {
     "name": "stdout",
     "output_type": "stream",
     "text": [
      "Tablica pomyłek dla metody:\n"
     ]
    },
    {
     "data": {
      "image/png": "[encoded data removed]",
      "text/plain": [
       "<Figure size 720x504 with 2 Axes>"
      ]
     },
     "metadata": {},
     "output_type": "display_data"
    }
   ],
   "source": [
    "plot_confusion_matrix(y, y_pred_SGD, accuracy_SGD)"
   ]
  },
  {
   "cell_type": "markdown",
   "id": "18f7c38a",
   "metadata": {},
   "source": [
    "### Zastosowanie sampling'u:\n",
    "\n",
    "*Undersampling* w analizie danych to techniki stosowane w celu dostosowania rozkładu klas w zbiorze danych (stosunku między różnymi reprezentowanymi klasami/kategoriami) lub też po prostu redukcji ilości danych, np. w celu przypsieszenia obliczeń, w pewnych przypadkach zmniejszenia redundancji.  \n",
    "W kolejnych podejściu została zastosowana właśnie ta technika, dla celu zaimplementowania jakiej po prostu przeprowadzono uruchomienie algorytmu GD, który przeprowadził symulację dla odpowiednio zredukowawnego zbioru danych:"
   ]
  },
  {
   "cell_type": "code",
   "execution_count": 30,
   "id": "cc5c26cb",
   "metadata": {},
   "outputs": [
    {
     "name": "stdout",
     "output_type": "stream",
     "text": [
      "Czy próbki w nowym zbiorze powtarzają się: False\n"
     ]
    }
   ],
   "source": [
    "NUM_SAMPLES = int( m*SAMPLING_FRACTION )\n",
    "idx_sampled = np.random.choice( m, size=NUM_SAMPLES, replace=False )\n",
    "\n",
    "# check that each item occurs only once\n",
    "print( \"Czy próbki w nowym zbiorze powtarzają się:\", ( np.bincount(idx_sampled.ravel()) == 1 ).all() )"
   ]
  },
  {
   "cell_type": "code",
   "execution_count": 31,
   "id": "ba8a05ca",
   "metadata": {},
   "outputs": [],
   "source": [
    "X_sampled, y_sampled = X_norm[idx_sampled,:], y[idx_sampled]"
   ]
  },
  {
   "cell_type": "markdown",
   "id": "1a1e7ffd",
   "metadata": {},
   "source": [
    "Mając wszystko już przygotowane, przeprowadzonne zostały symulacje działania algorytmu:"
   ]
  },
  {
   "cell_type": "code",
   "execution_count": 32,
   "id": "17e18796",
   "metadata": {},
   "outputs": [
    {
     "name": "stdout",
     "output_type": "stream",
     "text": [
      "Uzyskano następujące pomiary czasowe, realizowane kilkutronie w oparciu o dostarczony inteface %timeit:\n",
      "685 ms ± 196 ms per loop (mean ± std. dev. of 3 runs, 7 loops each)\n",
      "Przeprowadzono 3x7 wykonań kodu.\n"
     ]
    }
   ],
   "source": [
    "print( 'Uzyskano następujące pomiary czasowe, realizowane kilkutronie w oparciu o dostarczony inteface %timeit:' )\n",
    "time_Sampl = %timeit -r 3 -n 7 -o GradientDescent(X_sampled, y_sampled, theta_0, ALPHA, NUM_ITER)\n",
    "print( 'Przeprowadzono 3x7 wykonań kodu.' )"
   ]
  },
  {
   "cell_type": "code",
   "execution_count": 33,
   "id": "360a3eea",
   "metadata": {},
   "outputs": [],
   "source": [
    "thetaOptSampl, JOptSampl = GradientDescent(X_sampled, y_sampled, theta_0, ALPHA, NUM_ITER)"
   ]
  },
  {
   "cell_type": "code",
   "execution_count": 34,
   "id": "151bf572",
   "metadata": {},
   "outputs": [
    {
     "name": "stdout",
     "output_type": "stream",
     "text": [
      "Znalezione minimum przez algorytm: 0.8991563930305996\n"
     ]
    }
   ],
   "source": [
    "print( 'Znalezione minimum przez algorytm:', JOptSampl )"
   ]
  },
  {
   "cell_type": "code",
   "execution_count": 35,
   "id": "cf935d98",
   "metadata": {},
   "outputs": [],
   "source": [
    "y_pred_Sampl = predict(X_norm, thetaOptSampl)"
   ]
  },
  {
   "cell_type": "code",
   "execution_count": 36,
   "id": "a2087dfe",
   "metadata": {},
   "outputs": [
    {
     "name": "stdout",
     "output_type": "stream",
     "text": [
      "Policzona accuracy (dokładność): 0.699848\n"
     ]
    }
   ],
   "source": [
    "accuracy_Sampl = get_accuracy(y, y_pred_Sampl)\n",
    "print( f'Policzona accuracy (dokładność): {accuracy_Sampl:.6f}' )"
   ]
  },
  {
   "cell_type": "code",
   "execution_count": 37,
   "id": "03c8075d",
   "metadata": {},
   "outputs": [
    {
     "name": "stdout",
     "output_type": "stream",
     "text": [
      "Tablica pomyłek dla metody:\n"
     ]
    },
    {
     "data": {
      "image/png": "[encoded data removed]",
      "text/plain": [
       "<Figure size 720x504 with 2 Axes>"
      ]
     },
     "metadata": {},
     "output_type": "display_data"
    }
   ],
   "source": [
    "plot_confusion_matrix(y, y_pred_Sampl, accuracy_Sampl)"
   ]
  },
  {
   "cell_type": "markdown",
   "id": "c15bf482",
   "metadata": {},
   "source": [
    "### Analiza przeprowadzonych symulacji:\n",
    "\n",
    "W dalszej części przeprowadzono kolejne badania w celu pozyskania danych dla wizualizacji danych i ogólnych charaktarestyk procesów związanych z wydajnością zaimplementowanych algorytmów.  \n",
    "Poniżej zamieszczono zmienione wersje funkcji *GradientDescent* i *StochasticGradientDescent*, napisanych dla celu zebrania danych koniecznych dla stworzenia odpowiednich wykresów. Oprócz nich zaimplementowano funkcje odpowiedzialne za generowanie wykresów."
   ]
  },
  {
   "cell_type": "code",
   "execution_count": 38,
   "id": "3704e7fd",
   "metadata": {},
   "outputs": [],
   "source": [
    "def AnalyzeGradientDescent( X, y, in_theta, alpha=0.1, num_iter=50 ):\n",
    "    theta = in_theta.copy()\n",
    "    \n",
    "    J_list = []\n",
    "    theta_list = []\n",
    "    \n",
    "    for _ in range(num_iter):\n",
    "        J, dJ0, dJ = CostFunction(X, y, theta)\n",
    "        theta[0] = theta[0] - alpha * dJ0.sum()\n",
    "        theta[1:] = theta[1:] - alpha * dJ\n",
    "        J_list.append(J)\n",
    "        theta_list.append(theta)\n",
    "        \n",
    "    return np.array(theta_list), np.array(J_list)"
   ]
  },
  {
   "cell_type": "code",
   "execution_count": 39,
   "id": "783c8311",
   "metadata": {},
   "outputs": [],
   "source": [
    "def AnalyzeStochasticGradientDescent( in_X, in_y, in_theta, alpha=0.1, num_iter=50, batch_size=8 ):\n",
    "    X = in_X.copy()\n",
    "    y = in_y.copy()\n",
    "    theta = in_theta.copy()\n",
    "    X_len = X.shape[0]\n",
    "    idx = np.arange(X_len)\n",
    "    num_iter = math.ceil( num_iter/ math.ceil(X_len/batch_size) )\n",
    "    \n",
    "    J_list = []\n",
    "    theta_list = []\n",
    "    \n",
    "    for _ in range(num_iter):\n",
    "        idx_perm = np.random.permutation(idx)\n",
    "        X, y = X[idx_perm], y[idx_perm]\n",
    "        for start in range(0, X_len, batch_size):\n",
    "            stop = start + batch_size\n",
    "            J, dJ0, dJ = CostFunction( X[start:stop,:], y[start:stop], theta )\n",
    "            J, dJ0, dJ = CostFunction( X[idx,:], y[idx], theta )\n",
    "            theta[0] = theta[0] - alpha * dJ0.sum()\n",
    "            theta[1:] = theta[1:] - alpha * dJ\n",
    "            J_list.append(J)\n",
    "            theta_list.append(theta)\n",
    "        \n",
    "    return np.array(theta_list), np.array(J_list)"
   ]
  },
  {
   "cell_type": "markdown",
   "id": "e01395c9",
   "metadata": {},
   "source": [
    "Poniżej wygenerowano wykresy zależności wartości funkcja kosztu od liczby iteracji dla poszczególnych algorytmów:"
   ]
  },
  {
   "cell_type": "code",
   "execution_count": 40,
   "id": "76870fbe",
   "metadata": {},
   "outputs": [],
   "source": [
    "thetaOpt_list, JOpt_list = AnalyzeGradientDescent(X_norm, y, theta_0, ALPHA, NUM_ITER)"
   ]
  },
  {
   "cell_type": "code",
   "execution_count": 41,
   "id": "9afb4448",
   "metadata": {},
   "outputs": [],
   "source": [
    "thetaOptSGD_list, JOptSGD_list = AnalyzeStochasticGradientDescent(\n",
    "                            X_norm, y, theta_0, ALPHA, NUM_ITER, BATCH_SIZE\n",
    "                        )"
   ]
  },
  {
   "cell_type": "markdown",
   "id": "36edc920",
   "metadata": {},
   "source": [
    "Dla SGD obserwowalne są ciągłe dynamiczne zmiany wartości funkcja kosztu, co jest skutkiem stochatycznego charaktery dodanych zmian do tego tego algorytmu względem GD."
   ]
  },
  {
   "cell_type": "code",
   "execution_count": 42,
   "id": "214ed148",
   "metadata": {},
   "outputs": [],
   "source": [
    "thetaOptSampl_list, JOptSampl_list = AnalyzeGradientDescent(X_sampled, y_sampled, theta_0, ALPHA, NUM_ITER)"
   ]
  },
  {
   "cell_type": "code",
   "execution_count": 43,
   "id": "14eadb8c",
   "metadata": {},
   "outputs": [
    {
     "data": {
      "image/png": "[encoded data removed]",
      "text/plain": [
       "<Figure size 720x504 with 1 Axes>"
      ]
     },
     "metadata": {},
     "output_type": "display_data"
    }
   ],
   "source": [
    "plt.plot(range(1, len(JOpt_list) + 1), JOpt_list, label='GD' )\n",
    "plt.plot(range(1, len(JOptSGD_list) + 1), JOptSGD_list, label='SGD' )\n",
    "plt.plot(range(1, len(JOptSampl_list) + 1), JOptSampl_list, label='Sampled' )\n",
    "plt.xlabel('Liczba iteracji', size=15)\n",
    "plt.ylabel('Wartość funkcja kosztu', size=15)\n",
    "plt.title('Proces uczenia', size=15)\n",
    "plt.legend( loc='best' )\n",
    "plt.rcParams[\"figure.figsize\"] = HEIGHT, WEIGHT\n",
    "plt.show()"
   ]
  },
  {
   "cell_type": "markdown",
   "id": "1ddc4978",
   "metadata": {},
   "source": [
    "Poniżej wygenerowano wykresy zależności czasu dla poszczególnych algorytmów:"
   ]
  },
  {
   "cell_type": "code",
   "execution_count": 44,
   "id": "8f5c0b23",
   "metadata": {},
   "outputs": [],
   "source": [
    "methods_names = ['GD', 'SGD', 'Sampled']"
   ]
  },
  {
   "cell_type": "code",
   "execution_count": 45,
   "id": "e29f56d7",
   "metadata": {},
   "outputs": [],
   "source": [
    "timings_GD = time_GD.timings[:]\n",
    "timings_SGD = time_SGD.timings[:]\n",
    "timings_Sampl = time_Sampl.timings[:]\n",
    "timings = [timings_GD, timings_SGD, timings_Sampl]"
   ]
  },
  {
   "cell_type": "code",
   "execution_count": 46,
   "id": "ed30636a",
   "metadata": {},
   "outputs": [
    {
     "data": {
      "image/png": "[encoded data removed]",
      "text/plain": [
       "<Figure size 720x504 with 1 Axes>"
      ]
     },
     "metadata": {},
     "output_type": "display_data"
    }
   ],
   "source": [
    "fig = plt.figure(figsize = (HEIGHT, WEIGHT))\n",
    "ax = fig.add_axes([0, 0, 1, 1])\n",
    "bp = ax.boxplot(timings)\n",
    "ax.set_title('Algorytmy - czasy wykonania', size=15)\n",
    "ax.set_xticks([1, 2, 3], methods_names, size=15)\n",
    "ax.set_ylabel('Czas, s', size=15)\n",
    "plt.show()"
   ]
  },
  {
   "cell_type": "code",
   "execution_count": 47,
   "id": "8df6fbd5",
   "metadata": {},
   "outputs": [
    {
     "name": "stdout",
     "output_type": "stream",
     "text": [
      "Proporcja szybkości wykonania metody SGD do metody GD wyniosła 14.58:1, a do metody Sampled GD 6.28:1.\n",
      "Proporcja szybkości wykonania metody Sampled GD do metody GD wyniosła 2.32:1.\n"
     ]
    }
   ],
   "source": [
    "print(f'Proporcja szybkości wykonania metody SGD do metody GD wyniosła {time_GD.best/time_SGD.best:.2f}:1, a do metody Sampled GD {time_Sampl.best/time_SGD.best:.2f}:1.')\n",
    "print(f'Proporcja szybkości wykonania metody Sampled GD do metody GD wyniosła {time_GD.best/time_Sampl.best:.2f}:1.')"
   ]
  },
  {
   "cell_type": "code",
   "execution_count": 48,
   "id": "25764ac2",
   "metadata": {},
   "outputs": [
    {
     "data": {
      "image/png": "[encoded data removed]",
      "text/plain": [
       "<Figure size 720x504 with 1 Axes>"
      ]
     },
     "metadata": {},
     "output_type": "display_data"
    }
   ],
   "source": [
    "plt.plot([JOpt, JOptSGD, JOptSampl], '-o')\n",
    "plt.title('Algorytmy - końcowa wartość minimum', size=15)\n",
    "plt.xticks([0, 1, 2], methods_names, size=15)\n",
    "plt.ylabel('Wartość funkcji kosztu', size=15)\n",
    "plt.rcParams[\"figure.figsize\"] = HEIGHT, WEIGHT\n",
    "plt.show()"
   ]
  },
  {
   "cell_type": "code",
   "execution_count": 49,
   "id": "b326d26b",
   "metadata": {},
   "outputs": [
    {
     "name": "stdout",
     "output_type": "stream",
     "text": [
      "Proporcja dokładności metody SGD do metody GD wyniosła 0.99783, a względem metody Sampled GD wyniosła 0.99783.\n",
      "Jak można zauważyć różnice były niewielkie, ale co bardziej wynikało z charakteru dostarczonych danych.\n"
     ]
    }
   ],
   "source": [
    "print(f'Proporcja dokładności metody SGD do metody GD wyniosła {accuracy_SGD/accuracy_GD:.5f}, a względem metody Sampled GD wyniosła {accuracy_SGD/accuracy_Sampl:.5f}.')\n",
    "print('Jak można zauważyć różnice były niewielkie, ale co bardziej wynikało z charakteru dostarczonych danych.')"
   ]
  },
  {
   "cell_type": "markdown",
   "id": "d51fcb33",
   "metadata": {},
   "source": [
    "#### Obserwacje:\n",
    "\n",
    "* Jak można na tym etapie zauważyć to SGD uzyskał lepsze wyniki pod względem wydajności czasowej i precyzji względem pozostałych rozwiązań."
   ]
  },
  {
   "cell_type": "markdown",
   "id": "6005889e",
   "metadata": {},
   "source": [
    "### Testy dla hipotez $\\theta_{1}$ i $\\theta_{2}$\n",
    "\n",
    "W celu dokonania zbadania działania algorytmów dla innych zadanych (wygenerowanych) hipotez bądź też ich potencjalnego wpływu na jakość wyników, przeprowadziłem symulacje dla dwóch kolejnych hipotez $\\theta_{1}$ i $\\theta_{2}$."
   ]
  },
  {
   "cell_type": "code",
   "execution_count": 50,
   "id": "84112e77",
   "metadata": {},
   "outputs": [
    {
     "name": "stdout",
     "output_type": "stream",
     "text": [
      "Hipoteza:\n",
      " [0.73583873 0.72601166 0.14558709 0.26572103 0.22719618 0.16430841\n",
      " 0.26854692 0.60373593 0.60603378 0.82986825 0.77248464 0.46520061\n",
      " 0.01834949 0.91647877 0.71447285 0.74574672 0.97487652 0.04904474\n",
      " 0.58189779 0.67165377 0.70279034 0.33013795 0.98228356 0.49949304\n",
      " 0.94728643 0.72415792 0.37978892 0.54518521 0.5757945  0.93091211\n",
      " 0.27038528 0.16739863 0.4884253  0.24500078 0.79327936 0.23345981\n",
      " 0.62993524 0.09244534 0.32816702 0.48428232 0.88797961 0.82649983\n",
      " 0.16183615 0.13278027 0.86716228 0.57340202 0.75178617 0.58491872\n",
      " 0.15925523 0.44878989 0.65591294 0.31586685 0.93721318 0.15335557\n",
      " 0.74738365 0.29712239 0.39346706 0.13824367]\n"
     ]
    }
   ],
   "source": [
    "theta_1 = np.random.rand(n+1)\n",
    "print('Hipoteza:\\n', theta_1[:])"
   ]
  },
  {
   "cell_type": "code",
   "execution_count": 51,
   "id": "0e4cc33a",
   "metadata": {},
   "outputs": [
    {
     "name": "stdout",
     "output_type": "stream",
     "text": [
      "1.31 s ± 216 ms per loop (mean ± std. dev. of 3 runs, 7 loops each)\n"
     ]
    }
   ],
   "source": [
    "time_GD = %timeit -r 3 -n 7 -o GradientDescent(X_norm, y, theta_1, ALPHA, NUM_ITER)"
   ]
  },
  {
   "cell_type": "code",
   "execution_count": 52,
   "id": "49d8eb44",
   "metadata": {},
   "outputs": [],
   "source": [
    "thetaOpt, JOpt = GradientDescent(X_norm, y, theta_1, ALPHA, NUM_ITER)"
   ]
  },
  {
   "cell_type": "code",
   "execution_count": 53,
   "id": "2367c09b",
   "metadata": {},
   "outputs": [
    {
     "name": "stdout",
     "output_type": "stream",
     "text": [
      "Policzona accuracy (dokładność): 0.683982\n"
     ]
    }
   ],
   "source": [
    "y_pred_GD = predict(X_norm, thetaOpt)\n",
    "accuracy_GD = get_accuracy(y, y_pred_GD)\n",
    "print( f'Policzona accuracy (dokładność): {accuracy_GD:.6f}' )"
   ]
  },
  {
   "cell_type": "code",
   "execution_count": 54,
   "id": "e67b9797",
   "metadata": {},
   "outputs": [
    {
     "name": "stdout",
     "output_type": "stream",
     "text": [
      "839 ms ± 6.82 ms per loop (mean ± std. dev. of 3 runs, 7 loops each)\n"
     ]
    }
   ],
   "source": [
    "time_SGD = %timeit -r 3 -n 7 -o GradientDescent(X_norm, y, theta_1, ALPHA, NUM_ITER)"
   ]
  },
  {
   "cell_type": "code",
   "execution_count": 55,
   "id": "5dc0284c",
   "metadata": {},
   "outputs": [],
   "source": [
    "thetaOptSGD, JOptSGD = StochasticGradientDescent(X_norm, y, theta_1, ALPHA, NUM_ITER, BATCH_SIZE)"
   ]
  },
  {
   "cell_type": "code",
   "execution_count": 56,
   "id": "ab22ae35",
   "metadata": {},
   "outputs": [
    {
     "name": "stdout",
     "output_type": "stream",
     "text": [
      "Policzona accuracy (dokładność): 0.682026\n"
     ]
    }
   ],
   "source": [
    "y_pred_SGD = predict(X_norm, thetaOptSGD)\n",
    "accuracy_SGD = get_accuracy(y, y_pred_SGD)\n",
    "print( f'Policzona accuracy (dokładność): {accuracy_SGD:.6f}' )"
   ]
  },
  {
   "cell_type": "code",
   "execution_count": 57,
   "id": "3db0c20a",
   "metadata": {},
   "outputs": [
    {
     "name": "stdout",
     "output_type": "stream",
     "text": [
      "827 ms ± 3.25 ms per loop (mean ± std. dev. of 3 runs, 7 loops each)\n"
     ]
    }
   ],
   "source": [
    "time_Sampl = %timeit -r 3 -n 7 -o GradientDescent(X_norm, y, theta_1, ALPHA, NUM_ITER)"
   ]
  },
  {
   "cell_type": "code",
   "execution_count": 58,
   "id": "e3e42166",
   "metadata": {},
   "outputs": [],
   "source": [
    "thetaOptSampl, JOptSampl = GradientDescent(X_sampled, y_sampled, theta_1, ALPHA, NUM_ITER)"
   ]
  },
  {
   "cell_type": "code",
   "execution_count": 59,
   "id": "0dd80f26",
   "metadata": {},
   "outputs": [
    {
     "name": "stdout",
     "output_type": "stream",
     "text": [
      "Policzona accuracy (dokładność): 0.683764\n"
     ]
    }
   ],
   "source": [
    "y_pred_Sampl = predict(X_norm, thetaOptSampl)\n",
    "accuracy_Sampl = get_accuracy(y, y_pred_Sampl)\n",
    "print( f'Policzona accuracy (dokładność): {accuracy_Sampl:.6f}' )"
   ]
  },
  {
   "cell_type": "code",
   "execution_count": 60,
   "id": "b99bac97",
   "metadata": {},
   "outputs": [],
   "source": [
    "timings_GD = time_GD.timings[:]\n",
    "timings_SGD = time_SGD.timings[:]\n",
    "timings_Sampl = time_Sampl.timings[:]\n",
    "timings = [timings_GD, timings_SGD, timings_Sampl]"
   ]
  },
  {
   "cell_type": "code",
   "execution_count": 61,
   "id": "f1f8139a",
   "metadata": {},
   "outputs": [
    {
     "data": {
      "image/png": "[encoded data removed]",
      "text/plain": [
       "<Figure size 720x504 with 1 Axes>"
      ]
     },
     "metadata": {},
     "output_type": "display_data"
    }
   ],
   "source": [
    "fig = plt.figure(figsize = (HEIGHT, WEIGHT))\n",
    "ax = fig.add_axes([0, 0, 1, 1])\n",
    "bp = ax.boxplot(timings)\n",
    "ax.set_title('Algorytmy - czasy wykonania', size=15)\n",
    "ax.set_xticks([1, 2, 3], methods_names, size=15)\n",
    "ax.set_ylabel('Czas, s', size=15)\n",
    "plt.show()"
   ]
  },
  {
   "cell_type": "code",
   "execution_count": 62,
   "id": "b0700ddc",
   "metadata": {},
   "outputs": [
    {
     "name": "stdout",
     "output_type": "stream",
     "text": [
      "Proporcja szybkości wykonania metody SGD do metody GD wyniosła 1.26:1, a do metody Sampled GD 0.99:1.\n",
      "Proporcja szybkości wykonania metody Sampled GD do metody GD wyniosła 1.27:1.\n"
     ]
    }
   ],
   "source": [
    "print(f'Proporcja szybkości wykonania metody SGD do metody GD wyniosła {time_GD.best/time_SGD.best:.2f}:1, a do metody Sampled GD {time_Sampl.best/time_SGD.best:.2f}:1.')\n",
    "print(f'Proporcja szybkości wykonania metody Sampled GD do metody GD wyniosła {time_GD.best/time_Sampl.best:.2f}:1.')"
   ]
  },
  {
   "cell_type": "code",
   "execution_count": 63,
   "id": "2e8e105d",
   "metadata": {},
   "outputs": [
    {
     "data": {
      "image/png": "[encoded data removed]",
      "text/plain": [
       "<Figure size 720x504 with 1 Axes>"
      ]
     },
     "metadata": {},
     "output_type": "display_data"
    }
   ],
   "source": [
    "plt.plot([JOpt, JOptSGD, JOptSampl], '-o')\n",
    "plt.title('Algorytmy - końcowa wartość minimum', size=15)\n",
    "plt.xticks([0, 1, 2], methods_names, size=15)\n",
    "plt.ylabel('Wartość funkcji kosztu', size=15)\n",
    "plt.rcParams[\"figure.figsize\"] = HEIGHT, WEIGHT\n",
    "plt.show()"
   ]
  },
  {
   "cell_type": "code",
   "execution_count": 64,
   "id": "992211cc",
   "metadata": {},
   "outputs": [
    {
     "name": "stdout",
     "output_type": "stream",
     "text": [
      "Proporcja dokładności metody SGD do metody GD wyniosła 0.99714, a względem metody Sampled GD wyniosła 0.99746.\n",
      "Jak można zauważyć różnice były niewielkie, ale co bardziej wynikało z charakteru dostarczonych danych.\n"
     ]
    }
   ],
   "source": [
    "print(f'Proporcja dokładności metody SGD do metody GD wyniosła {accuracy_SGD/accuracy_GD:.5f}, a względem metody Sampled GD wyniosła {accuracy_SGD/accuracy_Sampl:.5f}.')\n",
    "print('Jak można zauważyć różnice były niewielkie, ale co bardziej wynikało z charakteru dostarczonych danych.')"
   ]
  },
  {
   "cell_type": "code",
   "execution_count": 65,
   "id": "dfc7673e",
   "metadata": {},
   "outputs": [
    {
     "name": "stdout",
     "output_type": "stream",
     "text": [
      "Hipoteza:\n",
      " [0.44135862 0.31461079 0.98114304 0.15250893 0.55678032 0.84105451\n",
      " 0.98331512 0.62389858 0.76134659 0.12760616 0.63183447 0.34369528\n",
      " 0.84772846 0.70730174 0.93340789 0.71968243 0.61116766 0.41843132\n",
      " 0.2949756  0.11336248 0.14631057 0.02526709 0.40446879 0.54829868\n",
      " 0.19915723 0.01075119 0.06228755 0.19213899 0.00301119 0.02923201\n",
      " 0.46283554 0.43955753 0.66769763 0.49418307 0.03961549 0.94575348\n",
      " 0.73450877 0.12926045 0.55110577 0.20970022 0.96155118 0.53063824\n",
      " 0.42177831 0.34909659 0.89291235 0.22266567 0.87427836 0.02528502\n",
      " 0.53668476 0.30909736 0.60263387 0.56564986 0.6697367  0.36455136\n",
      " 0.83789707 0.11688807 0.44293738 0.38839556]\n"
     ]
    }
   ],
   "source": [
    "theta_2 = np.random.rand(n+1)\n",
    "print('Hipoteza:\\n', theta_2[:])"
   ]
  },
  {
   "cell_type": "code",
   "execution_count": 66,
   "id": "14a877ef",
   "metadata": {},
   "outputs": [
    {
     "name": "stdout",
     "output_type": "stream",
     "text": [
      "1.18 s ± 168 ms per loop (mean ± std. dev. of 3 runs, 7 loops each)\n"
     ]
    }
   ],
   "source": [
    "time_GD = %timeit -r 3 -n 7 -o GradientDescent(X_norm, y, theta_1, ALPHA, NUM_ITER)"
   ]
  },
  {
   "cell_type": "code",
   "execution_count": 67,
   "id": "17006136",
   "metadata": {},
   "outputs": [],
   "source": [
    "thetaOpt, JOpt = GradientDescent(X_norm, y, theta_1, ALPHA, NUM_ITER)"
   ]
  },
  {
   "cell_type": "code",
   "execution_count": 68,
   "id": "d046ba55",
   "metadata": {},
   "outputs": [
    {
     "name": "stdout",
     "output_type": "stream",
     "text": [
      "Policzona accuracy (dokładność): 0.683982\n"
     ]
    }
   ],
   "source": [
    "y_pred_GD = predict(X_norm, thetaOpt)\n",
    "accuracy_GD = get_accuracy(y, y_pred_GD)\n",
    "print( f'Policzona accuracy (dokładność): {accuracy_GD:.6f}' )"
   ]
  },
  {
   "cell_type": "code",
   "execution_count": 69,
   "id": "c0f14863",
   "metadata": {},
   "outputs": [
    {
     "name": "stdout",
     "output_type": "stream",
     "text": [
      "1.46 s ± 276 ms per loop (mean ± std. dev. of 3 runs, 7 loops each)\n"
     ]
    }
   ],
   "source": [
    "time_SGD = %timeit -r 3 -n 7 -o GradientDescent(X_norm, y, theta_1, ALPHA, NUM_ITER)"
   ]
  },
  {
   "cell_type": "code",
   "execution_count": 70,
   "id": "47cced0d",
   "metadata": {},
   "outputs": [],
   "source": [
    "thetaOptSGD, JOptSGD = StochasticGradientDescent(X_norm, y, theta_1, ALPHA, NUM_ITER, BATCH_SIZE)"
   ]
  },
  {
   "cell_type": "code",
   "execution_count": 71,
   "id": "4f1c1cf0",
   "metadata": {},
   "outputs": [
    {
     "name": "stdout",
     "output_type": "stream",
     "text": [
      "Policzona accuracy (dokładność): 0.682026\n"
     ]
    }
   ],
   "source": [
    "y_pred_SGD = predict(X_norm, thetaOptSGD)\n",
    "accuracy_SGD = get_accuracy(y, y_pred_SGD)\n",
    "print( f'Policzona accuracy (dokładność): {accuracy_SGD:.6f}' )"
   ]
  },
  {
   "cell_type": "code",
   "execution_count": 72,
   "id": "d5d015e8",
   "metadata": {},
   "outputs": [
    {
     "name": "stdout",
     "output_type": "stream",
     "text": [
      "1.15 s ± 97.9 ms per loop (mean ± std. dev. of 3 runs, 7 loops each)\n"
     ]
    }
   ],
   "source": [
    "time_Sampl = %timeit -r 3 -n 7 -o GradientDescent(X_norm, y, theta_1, ALPHA, NUM_ITER)"
   ]
  },
  {
   "cell_type": "code",
   "execution_count": 73,
   "id": "880650c8",
   "metadata": {},
   "outputs": [],
   "source": [
    "thetaOptSampl, JOptSampl = GradientDescent(X_sampled, y_sampled, theta_1, ALPHA, NUM_ITER)"
   ]
  },
  {
   "cell_type": "code",
   "execution_count": 74,
   "id": "2c6b5a70",
   "metadata": {},
   "outputs": [
    {
     "name": "stdout",
     "output_type": "stream",
     "text": [
      "Policzona accuracy (dokładność): 0.683764\n"
     ]
    }
   ],
   "source": [
    "y_pred_Sampl = predict(X_norm, thetaOptSampl)\n",
    "accuracy_Sampl = get_accuracy(y, y_pred_Sampl)\n",
    "print( f'Policzona accuracy (dokładność): {accuracy_Sampl:.6f}' )"
   ]
  },
  {
   "cell_type": "code",
   "execution_count": 75,
   "id": "81a14ba7",
   "metadata": {},
   "outputs": [],
   "source": [
    "timings_GD = time_GD.timings[:]\n",
    "timings_SGD = time_SGD.timings[:]\n",
    "timings_Sampl = time_Sampl.timings[:]\n",
    "timings = [timings_GD, timings_SGD, timings_Sampl]"
   ]
  },
  {
   "cell_type": "code",
   "execution_count": 76,
   "id": "737ae482",
   "metadata": {},
   "outputs": [
    {
     "data": {
      "image/png": "[encoded data removed]",
      "text/plain": [
       "<Figure size 720x504 with 1 Axes>"
      ]
     },
     "metadata": {},
     "output_type": "display_data"
    }
   ],
   "source": [
    "fig = plt.figure(figsize = (HEIGHT, WEIGHT))\n",
    "ax = fig.add_axes([0, 0, 1, 1])\n",
    "bp = ax.boxplot(timings)\n",
    "ax.set_title('Algorytmy - czasy wykonania', size=15)\n",
    "ax.set_xticks([1, 2, 3], methods_names, size=15)\n",
    "ax.set_ylabel('Czas, s', size=15)\n",
    "plt.show()"
   ]
  },
  {
   "cell_type": "code",
   "execution_count": 77,
   "id": "db0ddca0",
   "metadata": {},
   "outputs": [
    {
     "name": "stdout",
     "output_type": "stream",
     "text": [
      "Proporcja szybkości wykonania metody SGD do metody GD wyniosła 0.83:1, a do metody Sampled GD 0.88:1.\n",
      "Proporcja szybkości wykonania metody Sampled GD do metody GD wyniosła 0.94:1.\n"
     ]
    }
   ],
   "source": [
    "print(f'Proporcja szybkości wykonania metody SGD do metody GD wyniosła {time_GD.best/time_SGD.best:.2f}:1, a do metody Sampled GD {time_Sampl.best/time_SGD.best:.2f}:1.')\n",
    "print(f'Proporcja szybkości wykonania metody Sampled GD do metody GD wyniosła {time_GD.best/time_Sampl.best:.2f}:1.')"
   ]
  },
  {
   "cell_type": "code",
   "execution_count": 78,
   "id": "dc50a54b",
   "metadata": {},
   "outputs": [
    {
     "data": {
      "image/png": "[encoded data removed]",
      "text/plain": [
       "<Figure size 720x504 with 1 Axes>"
      ]
     },
     "metadata": {},
     "output_type": "display_data"
    }
   ],
   "source": [
    "plt.plot([JOpt, JOptSGD, JOptSampl], '-o')\n",
    "plt.title('Algorytmy - końcowa wartość minimum', size=15)\n",
    "plt.xticks([0, 1, 2], methods_names, size=15)\n",
    "plt.ylabel('Wartość funkcji kosztu', size=15)\n",
    "plt.rcParams[\"figure.figsize\"] = HEIGHT, WEIGHT\n",
    "plt.show()"
   ]
  },
  {
   "cell_type": "code",
   "execution_count": 79,
   "id": "0e1d624a",
   "metadata": {},
   "outputs": [
    {
     "name": "stdout",
     "output_type": "stream",
     "text": [
      "Proporcja dokładności metody SGD do metody GD wyniosła 0.99714, a względem metody Sampled GD wyniosła 0.99746.\n",
      "Jak można zauważyć różnice były niewielkie, ale co bardziej wynikało z charakteru dostarczonych danych.\n"
     ]
    }
   ],
   "source": [
    "print(f'Proporcja dokładności metody SGD do metody GD wyniosła {accuracy_SGD/accuracy_GD:.5f}, a względem metody Sampled GD wyniosła {accuracy_SGD/accuracy_Sampl:.5f}.')\n",
    "print('Jak można zauważyć różnice były niewielkie, ale co bardziej wynikało z charakteru dostarczonych danych.')"
   ]
  },
  {
   "cell_type": "markdown",
   "id": "19b4aae4",
   "metadata": {},
   "source": [
    "## Wnioski:\n",
    "* Metoda SGD okazała się być metodą mogącą być porównywalną (prypadek hipotezy $\\theta_{2}$) lub kilkukrotnie, nawet ponad 10-krotnie, szybszą od GD i Sampled GD.\n",
    "* Dla wszystkich prypadków metoda SGD zwracała mniejsze wartości (minima lokalne), względem GD i Sampled GD.\n",
    "* Generalnie metoda Sampled GD okazała się być metodą szybszą od metody GD- poza prypadkiem hipotezy $\\theta_{2}$.\n",
    "* Metody uzyskiwały podobną dokładność we wszystkich przypadkach - zależnie od hipotezy - z maksymalnymi różnicami dokładności na poziomie do 1%.\n",
    "* Zbiór danych nie został dobrze przygotowany przez co trudne było uzyskanie dokładności na poziomie ok. 90%.\n",
    "* Proces szukania rozwiązania u metody SGD charakteryzuje się zmiennością zwracanych rozwiązań w porównaniu z pozostałymi metodami."
   ]
  },
  {
   "cell_type": "markdown",
   "id": "1bf5b5fb",
   "metadata": {},
   "source": [
    "## Referencje:\n",
    "\n",
    "[1] A. Ng, \"CS229. Lecture notes. Supervised learning\", 2012, [na:] https://web.archive.org/web/20180618211933/http://cs229.stanford.edu/notes/cs229-notes1.pdf, [dostęp:] 21.01.2023.  \n",
    "[2] A. Pant, \"Introduction to Logistic Regression\", 2019, [na:] https://towardsdatascience.com/introduction-to-logistic-regression-66248243c148, [dostęp:] 24.01.2023.  \n",
    "[3] https://archive.ics.uci.edu/ml/datasets/spambase, [dostęp:] 24.01.2023.  \n",
    "[4] https://stackoverflow.com/a/29863846, [dostęp:] 21.01.2023.  \n",
    "[5] https://realpython.com/gradient-descent-algorithm-python/, [dostęp:] 21.01.2023.  "
   ]
  }
 ],
 "metadata": {
  "kernelspec": {
   "display_name": "Python 3 (ipykernel)",
   "language": "python",
   "name": "python3"
  },
  "language_info": {
   "codemirror_mode": {
    "name": "ipython",
    "version": 3
   },
   "file_extension": ".py",
   "mimetype": "text/x-python",
   "name": "python",
   "nbconvert_exporter": "python",
   "pygments_lexer": "ipython3",
   "version": "3.8.13"
  }
 },
 "nbformat": 4,
 "nbformat_minor": 5
}

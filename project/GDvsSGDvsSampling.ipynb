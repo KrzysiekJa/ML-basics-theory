{
 "cells": [
  {
   "cell_type": "markdown",
   "id": "1a03890c",
   "metadata": {},
   "source": [
    "## Analiza dokładności i czasu uczenia dla Big Data - porównanie metody gradientu prostego, metody gradientu stochastycznego i zmniejszenia zbioru uczącego.\n",
    "\n",
    "Imię, nazwisko: Krzysztof Jarek.\n",
    "\n",
    "Kierunek, semestr: IT II, 2.\n",
    "\n",
    "Data oddania: 24.01.2023.\n",
    "\n",
    "<center><img src='pictures/comparison.png' width=700 height=500 /></center>\n",
    "\n",
    "## Cele:\n",
    "\n",
    "* implementacja algorytmów realizujących metody Gradient Descent (GD) i Stochastic Gradient Descent (SGD),\n",
    "* wykorzystanie pierwszego algorytmu również dla przebadania zagadnienia związanego z *undersampling'iem*,\n",
    "* przeprowadzenie analizy porównawczej działania implementacji ze względu na czas wykonania i dokładność.\n",
    "\n",
    "### Problem:\n",
    "\n",
    "**Metoda gradientu prostego** (też metoda najszybszego spadku, ang. Gradient Descent) sprowadza się do koncepcji iteracyjnego algorytmu optymalizacji pierwszego rzędu, służącego do znajdowania lokalnego minimum funkcji różniczkowalnej. Upraszczając, głowna idea algorytmu sprowadza się do tego, aby powtarzane były kroki w kierunku przeciwnym do gradientu (lub przybliżonego gradientu) funkcji w bieżącym punkcie, ponieważ jest to kierunek tzw. najszybszego spadku, w efekcie czego iteracyjnie przybliżane będzie ekstremum funkcji.\n",
    "\n",
    "Algorytm, czy też wersje będące jego bliższym lub dalszym rozwininięciem, są obecnie powszechnie stosowane w ramach  badań uczenia maszynowego (ML). Wśród rozwiązań opracowanych w ostatniej wyróżniały się te których zbudowanie wiązało się z dodatkowym wykorzystaniem metod stochatycznych.\n",
    "\n",
    "Nawiązując do tej problematyki, w podejmowanym badaniu bazowy algorytm został poddany porównaniu dwóm wybranym wersjom zmodyfikowanym pod względem wydajności i precyzji: jednej dodatkowo implementującej próbkowanie stochatyczne, drugiej wykorzystującej *undersampling*."
   ]
  },
  {
   "cell_type": "markdown",
   "id": "fb743838",
   "metadata": {},
   "source": [
    "## Przebieg badania:\n",
    "\n",
    "### Wykorzystany oprogramowanie, sprzęt:\n",
    "* MacOs 10.15 Catalina,\n",
    "* środowisko: Jupyter Notebook,\n",
    "* procesor: 2,7 GHz Dwurdzeniowy procesor Intel Core i5,\n",
    "* pamięć: 8 GB 1867 MHz DDR3."
   ]
  },
  {
   "cell_type": "markdown",
   "id": "07369ce7",
   "metadata": {},
   "source": [
    "### Prezentacja zbioru i danych w nim zawartych:"
   ]
  },
  {
   "cell_type": "markdown",
   "id": "51914217",
   "metadata": {},
   "source": [
    "Podstawowe dane opisujące zbiór danych:\n",
    "* tytuł: \"**SPAM E-mail Database**\",\n",
    "* twórcy, adres: Mark Hopkins, Erik Reeber, George Forman, Jaap Suermondt, Hewlett-Packard Labs, 1501 Page Mill Rd., Palo Alto, CA 94304,\n",
    "* donator: George Forman (gforman at nospam hpl.hp.com),\n",
    "* zdefiniowane zadanie: ang. Determine whether a given email is spam or not.\n",
    "* w zbiorze ~7% to błąd błędnej klasyfikacji,\n",
    "* \"False positives (marking good mail as spam) are very undesirable. If we insist on zero false positives in the training/testing set, 20-25% of the spam passed through the filter.\",\n",
    "* \"Koncepcja „spamu” jest zróżnicowana: reklamy produktów/stron internetowych, programy szybkiego zarabiania pieniędzy, łańcuszki, pornografia...\",\n",
    "* liczba instancji w zbiorze: **4601** (1813 to spam = 39,4%),\n",
    "* liczba atrybutów: **58** (57 ciągłych, 1 etykieta klasy nominalnej),\n",
    "* zbiór dostępny m.in. na https://archive.ics.uci.edu/ml/datasets/spambase.\n",
    "\n",
    "Na podstawie powyższego opisu danych można zauważyć, że badany problem jaki wynika z charakteru wybranego zbioru będzie problemem klasyfikacji: czy dany zestaw liczb reprezetnuje spam czy nie? Z tego powodu problem będzie można rozwiązywać w oparciu o wykorystanie funkcji regresji logistycznej przyjętej jako funkcja celu *f*.\n",
    "\n",
    "Zanim jednak przystąpiło się do implementacji samych algorytmów, najpierw należało poddać dane koniecznym przekształceniom tak by mogły pozwalać na łatwiejsze, bardziej efektywne przeprowadzanie procesów obliczeniowych związanych z uruchamianiem kolejnych metod."
   ]
  },
  {
   "cell_type": "code",
   "execution_count": 1,
   "id": "01127977",
   "metadata": {},
   "outputs": [],
   "source": [
    "import numpy as np\n",
    "import pandas as pd\n",
    "import seaborn as sn\n",
    "import matplotlib.pyplot as plt\n",
    "from sklearn import metrics\n",
    "\n",
    "plt.style.use('seaborn')\n",
    "WEIGHT, HEIGHT = 7, 10"
   ]
  },
  {
   "cell_type": "code",
   "execution_count": 2,
   "id": "6f92f233",
   "metadata": {},
   "outputs": [],
   "source": [
    "spam_df = pd.read_csv('data/spam.data', header=None, sep=' ')"
   ]
  },
  {
   "cell_type": "code",
   "execution_count": 3,
   "id": "b751c6db",
   "metadata": {},
   "outputs": [
    {
     "name": "stdout",
     "output_type": "stream",
     "text": [
      "Rozmiar zbioru: (4601, 58)\n"
     ]
    }
   ],
   "source": [
    "print( 'Rozmiar zbioru:', spam_df.shape )"
   ]
  },
  {
   "cell_type": "markdown",
   "id": "e901186b",
   "metadata": {},
   "source": [
    "Prezentacja podstawowych charakterystyk statystycznych danych ze zbioru (dla możliwości wglądu):"
   ]
  },
  {
   "cell_type": "code",
   "execution_count": 4,
   "id": "3923bbd8",
   "metadata": {},
   "outputs": [
    {
     "data": {
      "text/html": [
       "<div>\n",
       "<style scoped>\n",
       "    .dataframe tbody tr th:only-of-type {\n",
       "        vertical-align: middle;\n",
       "    }\n",
       "\n",
       "    .dataframe tbody tr th {\n",
       "        vertical-align: top;\n",
       "    }\n",
       "\n",
       "    .dataframe thead th {\n",
       "        text-align: right;\n",
       "    }\n",
       "</style>\n",
       "<table border=\"1\" class=\"dataframe\">\n",
       "  <thead>\n",
       "    <tr style=\"text-align: right;\">\n",
       "      <th></th>\n",
       "      <th>0</th>\n",
       "      <th>1</th>\n",
       "      <th>2</th>\n",
       "      <th>3</th>\n",
       "      <th>4</th>\n",
       "      <th>5</th>\n",
       "      <th>6</th>\n",
       "      <th>7</th>\n",
       "      <th>8</th>\n",
       "      <th>9</th>\n",
       "      <th>...</th>\n",
       "      <th>48</th>\n",
       "      <th>49</th>\n",
       "      <th>50</th>\n",
       "      <th>51</th>\n",
       "      <th>52</th>\n",
       "      <th>53</th>\n",
       "      <th>54</th>\n",
       "      <th>55</th>\n",
       "      <th>56</th>\n",
       "      <th>57</th>\n",
       "    </tr>\n",
       "  </thead>\n",
       "  <tbody>\n",
       "    <tr>\n",
       "      <th>0</th>\n",
       "      <td>0.00</td>\n",
       "      <td>0.64</td>\n",
       "      <td>0.64</td>\n",
       "      <td>0.0</td>\n",
       "      <td>0.32</td>\n",
       "      <td>0.00</td>\n",
       "      <td>0.00</td>\n",
       "      <td>0.00</td>\n",
       "      <td>0.00</td>\n",
       "      <td>0.00</td>\n",
       "      <td>...</td>\n",
       "      <td>0.00</td>\n",
       "      <td>0.000</td>\n",
       "      <td>0.0</td>\n",
       "      <td>0.778</td>\n",
       "      <td>0.000</td>\n",
       "      <td>0.000</td>\n",
       "      <td>3.756</td>\n",
       "      <td>61</td>\n",
       "      <td>278</td>\n",
       "      <td>1</td>\n",
       "    </tr>\n",
       "    <tr>\n",
       "      <th>1</th>\n",
       "      <td>0.21</td>\n",
       "      <td>0.28</td>\n",
       "      <td>0.50</td>\n",
       "      <td>0.0</td>\n",
       "      <td>0.14</td>\n",
       "      <td>0.28</td>\n",
       "      <td>0.21</td>\n",
       "      <td>0.07</td>\n",
       "      <td>0.00</td>\n",
       "      <td>0.94</td>\n",
       "      <td>...</td>\n",
       "      <td>0.00</td>\n",
       "      <td>0.132</td>\n",
       "      <td>0.0</td>\n",
       "      <td>0.372</td>\n",
       "      <td>0.180</td>\n",
       "      <td>0.048</td>\n",
       "      <td>5.114</td>\n",
       "      <td>101</td>\n",
       "      <td>1028</td>\n",
       "      <td>1</td>\n",
       "    </tr>\n",
       "    <tr>\n",
       "      <th>2</th>\n",
       "      <td>0.06</td>\n",
       "      <td>0.00</td>\n",
       "      <td>0.71</td>\n",
       "      <td>0.0</td>\n",
       "      <td>1.23</td>\n",
       "      <td>0.19</td>\n",
       "      <td>0.19</td>\n",
       "      <td>0.12</td>\n",
       "      <td>0.64</td>\n",
       "      <td>0.25</td>\n",
       "      <td>...</td>\n",
       "      <td>0.01</td>\n",
       "      <td>0.143</td>\n",
       "      <td>0.0</td>\n",
       "      <td>0.276</td>\n",
       "      <td>0.184</td>\n",
       "      <td>0.010</td>\n",
       "      <td>9.821</td>\n",
       "      <td>485</td>\n",
       "      <td>2259</td>\n",
       "      <td>1</td>\n",
       "    </tr>\n",
       "    <tr>\n",
       "      <th>3</th>\n",
       "      <td>0.00</td>\n",
       "      <td>0.00</td>\n",
       "      <td>0.00</td>\n",
       "      <td>0.0</td>\n",
       "      <td>0.63</td>\n",
       "      <td>0.00</td>\n",
       "      <td>0.31</td>\n",
       "      <td>0.63</td>\n",
       "      <td>0.31</td>\n",
       "      <td>0.63</td>\n",
       "      <td>...</td>\n",
       "      <td>0.00</td>\n",
       "      <td>0.137</td>\n",
       "      <td>0.0</td>\n",
       "      <td>0.137</td>\n",
       "      <td>0.000</td>\n",
       "      <td>0.000</td>\n",
       "      <td>3.537</td>\n",
       "      <td>40</td>\n",
       "      <td>191</td>\n",
       "      <td>1</td>\n",
       "    </tr>\n",
       "    <tr>\n",
       "      <th>4</th>\n",
       "      <td>0.00</td>\n",
       "      <td>0.00</td>\n",
       "      <td>0.00</td>\n",
       "      <td>0.0</td>\n",
       "      <td>0.63</td>\n",
       "      <td>0.00</td>\n",
       "      <td>0.31</td>\n",
       "      <td>0.63</td>\n",
       "      <td>0.31</td>\n",
       "      <td>0.63</td>\n",
       "      <td>...</td>\n",
       "      <td>0.00</td>\n",
       "      <td>0.135</td>\n",
       "      <td>0.0</td>\n",
       "      <td>0.135</td>\n",
       "      <td>0.000</td>\n",
       "      <td>0.000</td>\n",
       "      <td>3.537</td>\n",
       "      <td>40</td>\n",
       "      <td>191</td>\n",
       "      <td>1</td>\n",
       "    </tr>\n",
       "    <tr>\n",
       "      <th>5</th>\n",
       "      <td>0.00</td>\n",
       "      <td>0.00</td>\n",
       "      <td>0.00</td>\n",
       "      <td>0.0</td>\n",
       "      <td>1.85</td>\n",
       "      <td>0.00</td>\n",
       "      <td>0.00</td>\n",
       "      <td>1.85</td>\n",
       "      <td>0.00</td>\n",
       "      <td>0.00</td>\n",
       "      <td>...</td>\n",
       "      <td>0.00</td>\n",
       "      <td>0.223</td>\n",
       "      <td>0.0</td>\n",
       "      <td>0.000</td>\n",
       "      <td>0.000</td>\n",
       "      <td>0.000</td>\n",
       "      <td>3.000</td>\n",
       "      <td>15</td>\n",
       "      <td>54</td>\n",
       "      <td>1</td>\n",
       "    </tr>\n",
       "    <tr>\n",
       "      <th>6</th>\n",
       "      <td>0.00</td>\n",
       "      <td>0.00</td>\n",
       "      <td>0.00</td>\n",
       "      <td>0.0</td>\n",
       "      <td>1.92</td>\n",
       "      <td>0.00</td>\n",
       "      <td>0.00</td>\n",
       "      <td>0.00</td>\n",
       "      <td>0.00</td>\n",
       "      <td>0.64</td>\n",
       "      <td>...</td>\n",
       "      <td>0.00</td>\n",
       "      <td>0.054</td>\n",
       "      <td>0.0</td>\n",
       "      <td>0.164</td>\n",
       "      <td>0.054</td>\n",
       "      <td>0.000</td>\n",
       "      <td>1.671</td>\n",
       "      <td>4</td>\n",
       "      <td>112</td>\n",
       "      <td>1</td>\n",
       "    </tr>\n",
       "    <tr>\n",
       "      <th>7</th>\n",
       "      <td>0.00</td>\n",
       "      <td>0.00</td>\n",
       "      <td>0.00</td>\n",
       "      <td>0.0</td>\n",
       "      <td>1.88</td>\n",
       "      <td>0.00</td>\n",
       "      <td>0.00</td>\n",
       "      <td>1.88</td>\n",
       "      <td>0.00</td>\n",
       "      <td>0.00</td>\n",
       "      <td>...</td>\n",
       "      <td>0.00</td>\n",
       "      <td>0.206</td>\n",
       "      <td>0.0</td>\n",
       "      <td>0.000</td>\n",
       "      <td>0.000</td>\n",
       "      <td>0.000</td>\n",
       "      <td>2.450</td>\n",
       "      <td>11</td>\n",
       "      <td>49</td>\n",
       "      <td>1</td>\n",
       "    </tr>\n",
       "    <tr>\n",
       "      <th>8</th>\n",
       "      <td>0.15</td>\n",
       "      <td>0.00</td>\n",
       "      <td>0.46</td>\n",
       "      <td>0.0</td>\n",
       "      <td>0.61</td>\n",
       "      <td>0.00</td>\n",
       "      <td>0.30</td>\n",
       "      <td>0.00</td>\n",
       "      <td>0.92</td>\n",
       "      <td>0.76</td>\n",
       "      <td>...</td>\n",
       "      <td>0.00</td>\n",
       "      <td>0.271</td>\n",
       "      <td>0.0</td>\n",
       "      <td>0.181</td>\n",
       "      <td>0.203</td>\n",
       "      <td>0.022</td>\n",
       "      <td>9.744</td>\n",
       "      <td>445</td>\n",
       "      <td>1257</td>\n",
       "      <td>1</td>\n",
       "    </tr>\n",
       "    <tr>\n",
       "      <th>9</th>\n",
       "      <td>0.06</td>\n",
       "      <td>0.12</td>\n",
       "      <td>0.77</td>\n",
       "      <td>0.0</td>\n",
       "      <td>0.19</td>\n",
       "      <td>0.32</td>\n",
       "      <td>0.38</td>\n",
       "      <td>0.00</td>\n",
       "      <td>0.06</td>\n",
       "      <td>0.00</td>\n",
       "      <td>...</td>\n",
       "      <td>0.04</td>\n",
       "      <td>0.030</td>\n",
       "      <td>0.0</td>\n",
       "      <td>0.244</td>\n",
       "      <td>0.081</td>\n",
       "      <td>0.000</td>\n",
       "      <td>1.729</td>\n",
       "      <td>43</td>\n",
       "      <td>749</td>\n",
       "      <td>1</td>\n",
       "    </tr>\n",
       "  </tbody>\n",
       "</table>\n",
       "<p>10 rows × 58 columns</p>\n",
       "</div>"
      ],
      "text/plain": [
       "     0     1     2    3     4     5     6     7     8     9   ...    48  \\\n",
       "0  0.00  0.64  0.64  0.0  0.32  0.00  0.00  0.00  0.00  0.00  ...  0.00   \n",
       "1  0.21  0.28  0.50  0.0  0.14  0.28  0.21  0.07  0.00  0.94  ...  0.00   \n",
       "2  0.06  0.00  0.71  0.0  1.23  0.19  0.19  0.12  0.64  0.25  ...  0.01   \n",
       "3  0.00  0.00  0.00  0.0  0.63  0.00  0.31  0.63  0.31  0.63  ...  0.00   \n",
       "4  0.00  0.00  0.00  0.0  0.63  0.00  0.31  0.63  0.31  0.63  ...  0.00   \n",
       "5  0.00  0.00  0.00  0.0  1.85  0.00  0.00  1.85  0.00  0.00  ...  0.00   \n",
       "6  0.00  0.00  0.00  0.0  1.92  0.00  0.00  0.00  0.00  0.64  ...  0.00   \n",
       "7  0.00  0.00  0.00  0.0  1.88  0.00  0.00  1.88  0.00  0.00  ...  0.00   \n",
       "8  0.15  0.00  0.46  0.0  0.61  0.00  0.30  0.00  0.92  0.76  ...  0.00   \n",
       "9  0.06  0.12  0.77  0.0  0.19  0.32  0.38  0.00  0.06  0.00  ...  0.04   \n",
       "\n",
       "      49   50     51     52     53     54   55    56  57  \n",
       "0  0.000  0.0  0.778  0.000  0.000  3.756   61   278   1  \n",
       "1  0.132  0.0  0.372  0.180  0.048  5.114  101  1028   1  \n",
       "2  0.143  0.0  0.276  0.184  0.010  9.821  485  2259   1  \n",
       "3  0.137  0.0  0.137  0.000  0.000  3.537   40   191   1  \n",
       "4  0.135  0.0  0.135  0.000  0.000  3.537   40   191   1  \n",
       "5  0.223  0.0  0.000  0.000  0.000  3.000   15    54   1  \n",
       "6  0.054  0.0  0.164  0.054  0.000  1.671    4   112   1  \n",
       "7  0.206  0.0  0.000  0.000  0.000  2.450   11    49   1  \n",
       "8  0.271  0.0  0.181  0.203  0.022  9.744  445  1257   1  \n",
       "9  0.030  0.0  0.244  0.081  0.000  1.729   43   749   1  \n",
       "\n",
       "[10 rows x 58 columns]"
      ]
     },
     "execution_count": 4,
     "metadata": {},
     "output_type": "execute_result"
    }
   ],
   "source": [
    "spam_df.head(10)"
   ]
  },
  {
   "cell_type": "code",
   "execution_count": 5,
   "id": "da58fc87",
   "metadata": {},
   "outputs": [
    {
     "data": {
      "text/html": [
       "<div>\n",
       "<style scoped>\n",
       "    .dataframe tbody tr th:only-of-type {\n",
       "        vertical-align: middle;\n",
       "    }\n",
       "\n",
       "    .dataframe tbody tr th {\n",
       "        vertical-align: top;\n",
       "    }\n",
       "\n",
       "    .dataframe thead th {\n",
       "        text-align: right;\n",
       "    }\n",
       "</style>\n",
       "<table border=\"1\" class=\"dataframe\">\n",
       "  <thead>\n",
       "    <tr style=\"text-align: right;\">\n",
       "      <th></th>\n",
       "      <th>0</th>\n",
       "      <th>1</th>\n",
       "      <th>2</th>\n",
       "      <th>3</th>\n",
       "      <th>4</th>\n",
       "      <th>5</th>\n",
       "      <th>6</th>\n",
       "      <th>7</th>\n",
       "      <th>8</th>\n",
       "      <th>9</th>\n",
       "      <th>...</th>\n",
       "      <th>48</th>\n",
       "      <th>49</th>\n",
       "      <th>50</th>\n",
       "      <th>51</th>\n",
       "      <th>52</th>\n",
       "      <th>53</th>\n",
       "      <th>54</th>\n",
       "      <th>55</th>\n",
       "      <th>56</th>\n",
       "      <th>57</th>\n",
       "    </tr>\n",
       "  </thead>\n",
       "  <tbody>\n",
       "    <tr>\n",
       "      <th>count</th>\n",
       "      <td>4601.000000</td>\n",
       "      <td>4601.000000</td>\n",
       "      <td>4601.000000</td>\n",
       "      <td>4601.000000</td>\n",
       "      <td>4601.000000</td>\n",
       "      <td>4601.000000</td>\n",
       "      <td>4601.000000</td>\n",
       "      <td>4601.000000</td>\n",
       "      <td>4601.000000</td>\n",
       "      <td>4601.000000</td>\n",
       "      <td>...</td>\n",
       "      <td>4601.000000</td>\n",
       "      <td>4601.000000</td>\n",
       "      <td>4601.000000</td>\n",
       "      <td>4601.000000</td>\n",
       "      <td>4601.000000</td>\n",
       "      <td>4601.000000</td>\n",
       "      <td>4601.000000</td>\n",
       "      <td>4601.000000</td>\n",
       "      <td>4601.000000</td>\n",
       "      <td>4601.000000</td>\n",
       "    </tr>\n",
       "    <tr>\n",
       "      <th>mean</th>\n",
       "      <td>0.104553</td>\n",
       "      <td>0.213015</td>\n",
       "      <td>0.280656</td>\n",
       "      <td>0.065425</td>\n",
       "      <td>0.312223</td>\n",
       "      <td>0.095901</td>\n",
       "      <td>0.114208</td>\n",
       "      <td>0.105295</td>\n",
       "      <td>0.090067</td>\n",
       "      <td>0.239413</td>\n",
       "      <td>...</td>\n",
       "      <td>0.038575</td>\n",
       "      <td>0.139030</td>\n",
       "      <td>0.016976</td>\n",
       "      <td>0.269071</td>\n",
       "      <td>0.075811</td>\n",
       "      <td>0.044238</td>\n",
       "      <td>5.191515</td>\n",
       "      <td>52.172789</td>\n",
       "      <td>283.289285</td>\n",
       "      <td>0.394045</td>\n",
       "    </tr>\n",
       "    <tr>\n",
       "      <th>std</th>\n",
       "      <td>0.305358</td>\n",
       "      <td>1.290575</td>\n",
       "      <td>0.504143</td>\n",
       "      <td>1.395151</td>\n",
       "      <td>0.672513</td>\n",
       "      <td>0.273824</td>\n",
       "      <td>0.391441</td>\n",
       "      <td>0.401071</td>\n",
       "      <td>0.278616</td>\n",
       "      <td>0.644755</td>\n",
       "      <td>...</td>\n",
       "      <td>0.243471</td>\n",
       "      <td>0.270355</td>\n",
       "      <td>0.109394</td>\n",
       "      <td>0.815672</td>\n",
       "      <td>0.245882</td>\n",
       "      <td>0.429342</td>\n",
       "      <td>31.729449</td>\n",
       "      <td>194.891310</td>\n",
       "      <td>606.347851</td>\n",
       "      <td>0.488698</td>\n",
       "    </tr>\n",
       "    <tr>\n",
       "      <th>min</th>\n",
       "      <td>0.000000</td>\n",
       "      <td>0.000000</td>\n",
       "      <td>0.000000</td>\n",
       "      <td>0.000000</td>\n",
       "      <td>0.000000</td>\n",
       "      <td>0.000000</td>\n",
       "      <td>0.000000</td>\n",
       "      <td>0.000000</td>\n",
       "      <td>0.000000</td>\n",
       "      <td>0.000000</td>\n",
       "      <td>...</td>\n",
       "      <td>0.000000</td>\n",
       "      <td>0.000000</td>\n",
       "      <td>0.000000</td>\n",
       "      <td>0.000000</td>\n",
       "      <td>0.000000</td>\n",
       "      <td>0.000000</td>\n",
       "      <td>1.000000</td>\n",
       "      <td>1.000000</td>\n",
       "      <td>1.000000</td>\n",
       "      <td>0.000000</td>\n",
       "    </tr>\n",
       "    <tr>\n",
       "      <th>25%</th>\n",
       "      <td>0.000000</td>\n",
       "      <td>0.000000</td>\n",
       "      <td>0.000000</td>\n",
       "      <td>0.000000</td>\n",
       "      <td>0.000000</td>\n",
       "      <td>0.000000</td>\n",
       "      <td>0.000000</td>\n",
       "      <td>0.000000</td>\n",
       "      <td>0.000000</td>\n",
       "      <td>0.000000</td>\n",
       "      <td>...</td>\n",
       "      <td>0.000000</td>\n",
       "      <td>0.000000</td>\n",
       "      <td>0.000000</td>\n",
       "      <td>0.000000</td>\n",
       "      <td>0.000000</td>\n",
       "      <td>0.000000</td>\n",
       "      <td>1.588000</td>\n",
       "      <td>6.000000</td>\n",
       "      <td>35.000000</td>\n",
       "      <td>0.000000</td>\n",
       "    </tr>\n",
       "    <tr>\n",
       "      <th>50%</th>\n",
       "      <td>0.000000</td>\n",
       "      <td>0.000000</td>\n",
       "      <td>0.000000</td>\n",
       "      <td>0.000000</td>\n",
       "      <td>0.000000</td>\n",
       "      <td>0.000000</td>\n",
       "      <td>0.000000</td>\n",
       "      <td>0.000000</td>\n",
       "      <td>0.000000</td>\n",
       "      <td>0.000000</td>\n",
       "      <td>...</td>\n",
       "      <td>0.000000</td>\n",
       "      <td>0.065000</td>\n",
       "      <td>0.000000</td>\n",
       "      <td>0.000000</td>\n",
       "      <td>0.000000</td>\n",
       "      <td>0.000000</td>\n",
       "      <td>2.276000</td>\n",
       "      <td>15.000000</td>\n",
       "      <td>95.000000</td>\n",
       "      <td>0.000000</td>\n",
       "    </tr>\n",
       "    <tr>\n",
       "      <th>75%</th>\n",
       "      <td>0.000000</td>\n",
       "      <td>0.000000</td>\n",
       "      <td>0.420000</td>\n",
       "      <td>0.000000</td>\n",
       "      <td>0.380000</td>\n",
       "      <td>0.000000</td>\n",
       "      <td>0.000000</td>\n",
       "      <td>0.000000</td>\n",
       "      <td>0.000000</td>\n",
       "      <td>0.160000</td>\n",
       "      <td>...</td>\n",
       "      <td>0.000000</td>\n",
       "      <td>0.188000</td>\n",
       "      <td>0.000000</td>\n",
       "      <td>0.315000</td>\n",
       "      <td>0.052000</td>\n",
       "      <td>0.000000</td>\n",
       "      <td>3.706000</td>\n",
       "      <td>43.000000</td>\n",
       "      <td>266.000000</td>\n",
       "      <td>1.000000</td>\n",
       "    </tr>\n",
       "    <tr>\n",
       "      <th>max</th>\n",
       "      <td>4.540000</td>\n",
       "      <td>14.280000</td>\n",
       "      <td>5.100000</td>\n",
       "      <td>42.810000</td>\n",
       "      <td>10.000000</td>\n",
       "      <td>5.880000</td>\n",
       "      <td>7.270000</td>\n",
       "      <td>11.110000</td>\n",
       "      <td>5.260000</td>\n",
       "      <td>18.180000</td>\n",
       "      <td>...</td>\n",
       "      <td>4.385000</td>\n",
       "      <td>9.752000</td>\n",
       "      <td>4.081000</td>\n",
       "      <td>32.478000</td>\n",
       "      <td>6.003000</td>\n",
       "      <td>19.829000</td>\n",
       "      <td>1102.500000</td>\n",
       "      <td>9989.000000</td>\n",
       "      <td>15841.000000</td>\n",
       "      <td>1.000000</td>\n",
       "    </tr>\n",
       "  </tbody>\n",
       "</table>\n",
       "<p>8 rows × 58 columns</p>\n",
       "</div>"
      ],
      "text/plain": [
       "                0            1            2            3            4   \\\n",
       "count  4601.000000  4601.000000  4601.000000  4601.000000  4601.000000   \n",
       "mean      0.104553     0.213015     0.280656     0.065425     0.312223   \n",
       "std       0.305358     1.290575     0.504143     1.395151     0.672513   \n",
       "min       0.000000     0.000000     0.000000     0.000000     0.000000   \n",
       "25%       0.000000     0.000000     0.000000     0.000000     0.000000   \n",
       "50%       0.000000     0.000000     0.000000     0.000000     0.000000   \n",
       "75%       0.000000     0.000000     0.420000     0.000000     0.380000   \n",
       "max       4.540000    14.280000     5.100000    42.810000    10.000000   \n",
       "\n",
       "                5            6            7            8            9   ...  \\\n",
       "count  4601.000000  4601.000000  4601.000000  4601.000000  4601.000000  ...   \n",
       "mean      0.095901     0.114208     0.105295     0.090067     0.239413  ...   \n",
       "std       0.273824     0.391441     0.401071     0.278616     0.644755  ...   \n",
       "min       0.000000     0.000000     0.000000     0.000000     0.000000  ...   \n",
       "25%       0.000000     0.000000     0.000000     0.000000     0.000000  ...   \n",
       "50%       0.000000     0.000000     0.000000     0.000000     0.000000  ...   \n",
       "75%       0.000000     0.000000     0.000000     0.000000     0.160000  ...   \n",
       "max       5.880000     7.270000    11.110000     5.260000    18.180000  ...   \n",
       "\n",
       "                48           49           50           51           52  \\\n",
       "count  4601.000000  4601.000000  4601.000000  4601.000000  4601.000000   \n",
       "mean      0.038575     0.139030     0.016976     0.269071     0.075811   \n",
       "std       0.243471     0.270355     0.109394     0.815672     0.245882   \n",
       "min       0.000000     0.000000     0.000000     0.000000     0.000000   \n",
       "25%       0.000000     0.000000     0.000000     0.000000     0.000000   \n",
       "50%       0.000000     0.065000     0.000000     0.000000     0.000000   \n",
       "75%       0.000000     0.188000     0.000000     0.315000     0.052000   \n",
       "max       4.385000     9.752000     4.081000    32.478000     6.003000   \n",
       "\n",
       "                53           54           55            56           57  \n",
       "count  4601.000000  4601.000000  4601.000000   4601.000000  4601.000000  \n",
       "mean      0.044238     5.191515    52.172789    283.289285     0.394045  \n",
       "std       0.429342    31.729449   194.891310    606.347851     0.488698  \n",
       "min       0.000000     1.000000     1.000000      1.000000     0.000000  \n",
       "25%       0.000000     1.588000     6.000000     35.000000     0.000000  \n",
       "50%       0.000000     2.276000    15.000000     95.000000     0.000000  \n",
       "75%       0.000000     3.706000    43.000000    266.000000     1.000000  \n",
       "max      19.829000  1102.500000  9989.000000  15841.000000     1.000000  \n",
       "\n",
       "[8 rows x 58 columns]"
      ]
     },
     "execution_count": 5,
     "metadata": {},
     "output_type": "execute_result"
    }
   ],
   "source": [
    "spam_df.describe()"
   ]
  },
  {
   "cell_type": "markdown",
   "id": "5324c354",
   "metadata": {},
   "source": [
    "Na samym końcu tegeo etapu przetwarzania danych ze zbioru zostały wydzielone zbiory *X* i *y*, i pierwszy z nich został poddany standaryzacji:"
   ]
  },
  {
   "cell_type": "code",
   "execution_count": 6,
   "id": "f0220fa1",
   "metadata": {},
   "outputs": [],
   "source": [
    "X = spam_df.iloc[:, :-1].values\n",
    "y = spam_df.iloc[:, -1].values"
   ]
  },
  {
   "cell_type": "code",
   "execution_count": 7,
   "id": "891fec44",
   "metadata": {},
   "outputs": [
    {
     "name": "stdout",
     "output_type": "stream",
     "text": [
      "Rozmiar zbiorów X i y: (4601, 57) i (4601,) .\n",
      "Typ danych dla zbiorów X i y: float64 i int64 .\n"
     ]
    }
   ],
   "source": [
    "print( 'Rozmiar zbiorów X i y:', X.shape, 'i', y.shape, '.' )\n",
    "print( 'Typ danych dla zbiorów X i y:', X.dtype, 'i', y.dtype, '.' )"
   ]
  },
  {
   "cell_type": "code",
   "execution_count": 8,
   "id": "43fd403e",
   "metadata": {},
   "outputs": [],
   "source": [
    "X_norm = np.copy(X)\n",
    "X_mean, X_std = X_norm.mean(), X_norm.std()\n",
    "X_norm = ( X_norm - X_mean ) / X_std"
   ]
  },
  {
   "cell_type": "markdown",
   "id": "c569a841",
   "metadata": {},
   "source": [
    "### Przygotowane funkcje:\n",
    "\n",
    "W celu realizacji przygotowania algorytmów i przeprowadzenia badania z ich wykorzystaniem, konieczne było uprzednie zaimplementowanie funkcji mogących pozwolić na przeprowadzanie procesu numerycznego interferowania służacego konstruowaniu systemu decyzyjnego.  \n",
    "Jako fukcja aktywacji została wybrana fukcja sigmoidalna (*sigmoid*, $h_{\\theta}$), definiowana tu wzorem *g(z)*:  \n",
    "<img align=\"left\" src='pictures/sigmoid.png' width=400 height=700 />  \n",
    "<br></br><br></br><br></br>  \n",
    ", gdzie $x$ to macierz próbek, a ${\\theta}$ to wektor wag."
   ]
  },
  {
   "cell_type": "code",
   "execution_count": 9,
   "id": "c878a02e",
   "metadata": {},
   "outputs": [],
   "source": [
    "def sigmoid(z):  \n",
    "    return np.exp(-np.logaddexp(1e-16, -z))"
   ]
  },
  {
   "cell_type": "markdown",
   "id": "1c1d2c01",
   "metadata": {},
   "source": [
    "Funkcja kosztu (celu) została zdefiniowana poprzez następujące równanie, którego idea opiera się o koncepcję regresji logistycznej:  \n",
    "<img align=\"left\" src='pictures/cost_function.png' width=500 height=800 />  \n",
    "<br></br><br></br><br></br>  \n",
    ", gdzie $y$ to wektor rozwiązań, inaczej poprawnych odpowiedzi."
   ]
  },
  {
   "cell_type": "code",
   "execution_count": 10,
   "id": "329dd52e",
   "metadata": {},
   "outputs": [],
   "source": [
    "def CostFunction(X, y, theta):\n",
    "    \n",
    "    m = y.shape[0];\n",
    "    z = np.dot(theta[1:], X.T) + theta[0]\n",
    "    h_theta = sigmoid(z)\n",
    "    \n",
    "    J  = - ( y.T.dot( np.log(h_theta) ) + (1 - y).T.dot( np.log(1-h_theta) ) ) /m\n",
    "    diff = (h_theta - y) /m # dJ0\n",
    "    dJ = (diff).T.dot(X) /m\n",
    "    \n",
    "    return J, diff, dJ"
   ]
  },
  {
   "cell_type": "markdown",
   "id": "008c695f",
   "metadata": {},
   "source": [
    "Poza tymi funkcjami i ich powyższymi implementacjami, napisane zostały funkcje mogące pełnić funkcję pomocniczą, jak wizualizacja danych, czy też pozwolić na policzenie istoatnych parametrów jak *accuracy* (dokładność) lub przeprowadzenie predykcji dla zbioru:"
   ]
  },
  {
   "cell_type": "code",
   "execution_count": 11,
   "id": "38e5673a",
   "metadata": {},
   "outputs": [],
   "source": [
    "def predict(X, theta):\n",
    "    z = np.dot(theta[1:], X.T) + theta[0]\n",
    "    h_theta = sigmoid(z)\n",
    "    return np.where(h_theta >= 0.5, 1, 0)"
   ]
  },
  {
   "cell_type": "code",
   "execution_count": 12,
   "id": "2dbd0c3f",
   "metadata": {},
   "outputs": [],
   "source": [
    "def get_accuracy(y_true, y_pred):\n",
    "    return np.sum(y_true == y_pred) / y_true.shape[0]"
   ]
  },
  {
   "cell_type": "code",
   "execution_count": 13,
   "id": "21f3954c",
   "metadata": {},
   "outputs": [],
   "source": [
    "def plot_confusion_matrix(y_test, predicts, acc):\n",
    "    print('Tablica pomyłek dla metody:')\n",
    "    cm = metrics.confusion_matrix(y_test, predicts)\n",
    "    sn.heatmap(cm, annot=True, cmap=\"crest\")\n",
    "    plt.ylabel('Aktualne klasy', size=15)\n",
    "    plt.xlabel('Predykowane klasy', size=15)\n",
    "    plt.title(f'Accuracy: {acc*100:.2f}%', size=15)\n",
    "    plt.rcParams[\"figure.figsize\"] = HEIGHT, WEIGHT\n",
    "    plt.show()"
   ]
  },
  {
   "cell_type": "markdown",
   "id": "0e894934",
   "metadata": {},
   "source": [
    "### Gradient Descent:\n",
    "\n",
    "Następnym krokiem było bezpośrednie zaimplementowanie funkcji realizującej liczenie gradientu prostego. Implementacja tego algorytmu została przeprowadzona w oparciu o niżej zdefiniowane wzory.  \n",
    "Uproszczony zapis formalny dla uakualnienia wartośći $\\theta_{j}$ i samej metody GD:  \n",
    "<img align=\"left\" src='pictures/gradient_descent.png' width=200 height=400 />  \n",
    "<br></br><br></br>\n",
    "<img align=\"left\" src='pictures/pseudocode.png' width=500 height=700 />"
   ]
  },
  {
   "cell_type": "code",
   "execution_count": 14,
   "id": "cf328e91",
   "metadata": {},
   "outputs": [],
   "source": [
    "def GradientDescent( X, y, in_theta, alpha=0.1, num_iter=50 ):\n",
    "    theta = in_theta.copy()\n",
    "    \n",
    "    for _ in range(num_iter):\n",
    "        J, dJ0, dJ = CostFunction(X, y, theta)\n",
    "        theta[0] = theta[0] - alpha * dJ0.sum()\n",
    "        theta[1:] = theta[1:] - alpha * dJ\n",
    "    \n",
    "    return theta, J"
   ]
  },
  {
   "cell_type": "markdown",
   "id": "97f7a8f9",
   "metadata": {},
   "source": [
    "Dla przeprowadzanych symulacji zostały przyjęte następujące parametry- w tym *STOCH_FRACTION* dla SGD równe 0.33 i *SAMPLING_FRACTION* dla problemu *undersampling'u* równe 0.5:"
   ]
  },
  {
   "cell_type": "code",
   "execution_count": 15,
   "id": "e32673f1",
   "metadata": {},
   "outputs": [],
   "source": [
    "ALPHA = 0.005\n",
    "NUM_ITER = 1200\n",
    "STOCH_FRACTION = 0.33\n",
    "SAMPLING_FRACTION = 0.5"
   ]
  },
  {
   "cell_type": "code",
   "execution_count": 16,
   "id": "4e33b2e3",
   "metadata": {},
   "outputs": [],
   "source": [
    "m, n  = X_norm.shape\n",
    "theta = np.random.rand(n+1)"
   ]
  },
  {
   "cell_type": "markdown",
   "id": "79850cd9",
   "metadata": {},
   "source": [
    "Mając wszystko już przygotowane przeprowadzono symulacje działania algorytmu:"
   ]
  },
  {
   "cell_type": "code",
   "execution_count": 17,
   "id": "94ef9674",
   "metadata": {},
   "outputs": [
    {
     "name": "stdout",
     "output_type": "stream",
     "text": [
      "Uzyskano następujące pomiary czasowe, realizowane kilkutronie w oparciu o funkcję inteface'u:\n",
      "785 ms ± 150 ms per loop (mean ± std. dev. of 3 runs, 10 loops each)\n"
     ]
    }
   ],
   "source": [
    "print( 'Uzyskano następujące pomiary czasowe, realizowane kilkutronie w oparciu o funkcję inteface\\'u:' )\n",
    "time_GD = %timeit -r 3 -n 10 -o GradientDescent(X_norm, y, theta, ALPHA, NUM_ITER)"
   ]
  },
  {
   "cell_type": "code",
   "execution_count": 18,
   "id": "1edfc0e4",
   "metadata": {},
   "outputs": [],
   "source": [
    "thetaOpt, JOpt = GradientDescent(X_norm, y, theta, ALPHA, NUM_ITER)"
   ]
  },
  {
   "cell_type": "code",
   "execution_count": 19,
   "id": "8e2c9588",
   "metadata": {},
   "outputs": [
    {
     "name": "stdout",
     "output_type": "stream",
     "text": [
      "Znalezione minimum: 0.9737949240920775\n"
     ]
    }
   ],
   "source": [
    "print( 'Znalezione minimum:', JOpt )"
   ]
  },
  {
   "cell_type": "code",
   "execution_count": 20,
   "id": "1cf586a8",
   "metadata": {},
   "outputs": [],
   "source": [
    "y_pred_GD = predict(X_norm, thetaOpt)"
   ]
  },
  {
   "cell_type": "code",
   "execution_count": 21,
   "id": "43423d41",
   "metadata": {},
   "outputs": [
    {
     "name": "stdout",
     "output_type": "stream",
     "text": [
      "Policzona accuracy (dokładność): 0.696153\n"
     ]
    }
   ],
   "source": [
    "accuracy_GD = get_accuracy(y, y_pred_GD)\n",
    "print( f'Policzona accuracy (dokładność): {accuracy_GD:.6f}' )"
   ]
  },
  {
   "cell_type": "code",
   "execution_count": 22,
   "id": "ba8d8118",
   "metadata": {},
   "outputs": [
    {
     "name": "stdout",
     "output_type": "stream",
     "text": [
      "Tablica pomyłek dla metody:\n"
     ]
    },
    {
     "data": {
      "image/png": "[encoded data removed]",
      "text/plain": [
       "<Figure size 576x396 with 2 Axes>"
      ]
     },
     "metadata": {},
     "output_type": "display_data"
    }
   ],
   "source": [
    "plot_confusion_matrix(y, y_pred_GD, accuracy_GD)"
   ]
  },
  {
   "cell_type": "markdown",
   "id": "533b35c5",
   "metadata": {},
   "source": [
    "### Stochastic Gradient Descent:\n",
    "\n",
    "Następnie zaimplementowany został algorytm Stochastic Gradient Descent, który od poprzedniego różni się jedynie jednym zmianionym elementem: otóż w każdej iteracji ze zbioru uczącego wybierany jest podzbiór losowych, unikatowych elementów, który następnie jest wykorzystywany w celu oblicznia wartości w tym kroku. Implementacja poniżej:"
   ]
  },
  {
   "cell_type": "code",
   "execution_count": 23,
   "id": "77f3aa6d",
   "metadata": {},
   "outputs": [],
   "source": [
    "def StochasticGradientDescent( X, y, in_theta, alpha=0.1, num_iter=50, stoch_fraction=0.5 ):\n",
    "    theta = in_theta.copy()\n",
    "    X_len = X.shape[0]\n",
    "    num_of_samples = int( X_len*stoch_fraction )\n",
    "    \n",
    "    for _ in range(num_iter):\n",
    "        idx = np.random.choice( X_len, size=num_of_samples, replace=False )\n",
    "        J, dJ0, dJ = CostFunction( X[idx,:], y[idx], theta )\n",
    "        theta[0] = theta[0] - alpha * dJ0.sum()\n",
    "        theta[1:] = theta[1:] - alpha * dJ\n",
    "    \n",
    "    return theta, J"
   ]
  },
  {
   "cell_type": "markdown",
   "id": "eaa841d3",
   "metadata": {},
   "source": [
    "Mając wszystko już przygotowane przeprowadzono symulacje działania algorytmu:"
   ]
  },
  {
   "cell_type": "code",
   "execution_count": 24,
   "id": "f4477d62",
   "metadata": {},
   "outputs": [
    {
     "name": "stdout",
     "output_type": "stream",
     "text": [
      "Uzyskano następujące pomiary czasowe, realizowane kilkutronie w oparciu o funkcję inteface'u:\n",
      "1.2 s ± 246 ms per loop (mean ± std. dev. of 3 runs, 10 loops each)\n"
     ]
    }
   ],
   "source": [
    "print( 'Uzyskano następujące pomiary czasowe, realizowane kilkutronie w oparciu o funkcję inteface\\'u:' )\n",
    "time_SGD = %timeit -r 3 -n 10 -o StochasticGradientDescent(X_norm, y, theta, ALPHA, NUM_ITER, STOCH_FRACTION)"
   ]
  },
  {
   "cell_type": "code",
   "execution_count": 25,
   "id": "659a93bb",
   "metadata": {},
   "outputs": [],
   "source": [
    "thetaOptSGD, JOptSGD = StochasticGradientDescent(X_norm, y, theta, ALPHA, NUM_ITER, STOCH_FRACTION)"
   ]
  },
  {
   "cell_type": "code",
   "execution_count": 26,
   "id": "212a5632",
   "metadata": {},
   "outputs": [
    {
     "name": "stdout",
     "output_type": "stream",
     "text": [
      "Znalezione minimum: 0.9220572703856043\n"
     ]
    }
   ],
   "source": [
    "print( 'Znalezione minimum:', JOptSGD )"
   ]
  },
  {
   "cell_type": "code",
   "execution_count": 27,
   "id": "35fcaf67",
   "metadata": {},
   "outputs": [],
   "source": [
    "y_pred_SGD = predict(X_norm, thetaOptSGD)"
   ]
  },
  {
   "cell_type": "code",
   "execution_count": 28,
   "id": "d677be6d",
   "metadata": {},
   "outputs": [
    {
     "name": "stdout",
     "output_type": "stream",
     "text": [
      "Policzona accuracy (dokładność): 0.696153\n"
     ]
    }
   ],
   "source": [
    "accuracy_SGD = get_accuracy(y, y_pred_SGD)\n",
    "print( f'Policzona accuracy (dokładność): {accuracy_SGD:.6f}' )"
   ]
  },
  {
   "cell_type": "code",
   "execution_count": 29,
   "id": "5e9b2609",
   "metadata": {},
   "outputs": [
    {
     "name": "stdout",
     "output_type": "stream",
     "text": [
      "Tablica pomyłek dla metody:\n"
     ]
    },
    {
     "data": {
      "image/png": "[encoded data removed]",
      "text/plain": [
       "<Figure size 720x504 with 2 Axes>"
      ]
     },
     "metadata": {},
     "output_type": "display_data"
    }
   ],
   "source": [
    "plot_confusion_matrix(y, y_pred_SGD, accuracy_SGD)"
   ]
  },
  {
   "cell_type": "markdown",
   "id": "18f7c38a",
   "metadata": {},
   "source": [
    "### Zastosowanie sampling'u:\n",
    "\n",
    "*Undersampling* w analizie danych to techniki stosowane w celu dostosowania rozkładu klas w zbiorze danych (stosunku między różnymi reprezentowanymi klasami/kategoriami) lub też po prostu redukcji ilości danych, np. w celu przypsieszenia obliczeń, w pewnych przypadkach zmniejszenia redundancji.  \n",
    "W kolejnych podejściu została zastosowana właśnie ta technika, dla celu zaimplementowania jakiej po prostu przeprowadzono uruchomienie algorytmu GD, który przeprowadził symulację dla odpowiednio zredukowawnego zbioru danych:"
   ]
  },
  {
   "cell_type": "code",
   "execution_count": 30,
   "id": "cc5c26cb",
   "metadata": {},
   "outputs": [
    {
     "name": "stdout",
     "output_type": "stream",
     "text": [
      "Czy próbki w nowym zbiorze powtarzają się: False\n"
     ]
    }
   ],
   "source": [
    "NUM_SAMPLES = int( m*SAMPLING_FRACTION )\n",
    "idx_sampled = np.random.choice( m, size=NUM_SAMPLES, replace=False )\n",
    "\n",
    "# check that each item occurs only once\n",
    "print( \"Czy próbki w nowym zbiorze powtarzają się:\", ( np.bincount(idx_sampled.ravel()) == 1 ).all() )"
   ]
  },
  {
   "cell_type": "code",
   "execution_count": 31,
   "id": "ba8a05ca",
   "metadata": {},
   "outputs": [],
   "source": [
    "X_sampled, y_sampled = X_norm[idx_sampled,:], y[idx_sampled]"
   ]
  },
  {
   "cell_type": "markdown",
   "id": "7d8581a1",
   "metadata": {},
   "source": [
    "Mając wszystko już przygotowane przeprowadzono symulacje działania algorytmu:"
   ]
  },
  {
   "cell_type": "code",
   "execution_count": 32,
   "id": "17e18796",
   "metadata": {},
   "outputs": [
    {
     "name": "stdout",
     "output_type": "stream",
     "text": [
      "Uzyskano następujące pomiary czasowe, realizowane kilkutronie w oparciu o funkcję inteface'u:\n",
      "538 ms ± 69.2 ms per loop (mean ± std. dev. of 3 runs, 10 loops each)\n"
     ]
    }
   ],
   "source": [
    "print( 'Uzyskano następujące pomiary czasowe, realizowane kilkutronie w oparciu o funkcję inteface\\'u:' )\n",
    "time_Sampl = %timeit -r 3 -n 10 -o GradientDescent(X_sampled, y_sampled, theta, ALPHA, NUM_ITER)"
   ]
  },
  {
   "cell_type": "code",
   "execution_count": 33,
   "id": "360a3eea",
   "metadata": {},
   "outputs": [],
   "source": [
    "thetaOptSampl, JOptSampl = GradientDescent(X_sampled, y_sampled, theta, ALPHA, NUM_ITER)"
   ]
  },
  {
   "cell_type": "code",
   "execution_count": 34,
   "id": "151bf572",
   "metadata": {},
   "outputs": [
    {
     "name": "stdout",
     "output_type": "stream",
     "text": [
      "Znalezione minimum: 1.0025533275871947\n"
     ]
    }
   ],
   "source": [
    "print( 'Znalezione minimum:', JOptSampl )"
   ]
  },
  {
   "cell_type": "code",
   "execution_count": 35,
   "id": "cf935d98",
   "metadata": {},
   "outputs": [],
   "source": [
    "y_pred_Sampl = predict(X_norm, thetaOptSampl)"
   ]
  },
  {
   "cell_type": "code",
   "execution_count": 36,
   "id": "a2087dfe",
   "metadata": {},
   "outputs": [
    {
     "name": "stdout",
     "output_type": "stream",
     "text": [
      "Policzona accuracy (dokładność): 0.695718\n"
     ]
    }
   ],
   "source": [
    "accuracy_Sampl = get_accuracy(y, y_pred_Sampl)\n",
    "print( f'Policzona accuracy (dokładność): {accuracy_Sampl:.6f}' )"
   ]
  },
  {
   "cell_type": "code",
   "execution_count": 37,
   "id": "03c8075d",
   "metadata": {},
   "outputs": [
    {
     "name": "stdout",
     "output_type": "stream",
     "text": [
      "Tablica pomyłek dla metody:\n"
     ]
    },
    {
     "data": {
      "image/png": "[encoded data removed]",
      "text/plain": [
       "<Figure size 720x504 with 2 Axes>"
      ]
     },
     "metadata": {},
     "output_type": "display_data"
    }
   ],
   "source": [
    "plot_confusion_matrix(y, y_pred_Sampl, accuracy_Sampl)"
   ]
  },
  {
   "cell_type": "markdown",
   "id": "c15bf482",
   "metadata": {},
   "source": [
    "### Analiza przeprowadzonych symulacji:\n",
    "\n",
    "W dalszej części przeprowadzono kolejne badania w celu pozyskania danych dla wizualizacji danych i ogólnych charaktarestyk procesów związanych z wydajnością zaimplementowanych algorytmów.  \n",
    "Poniżej zamieszczono zmienione wersje funkcji *GradientDescent* i *StochasticGradientDescent*, napisanych dla celu zebrania danych koniecznych dla stworzenia odpowiednich wykresów. Oprócz nich zaimplementowano funkcje odpowiedzialne za generowanie wykresów."
   ]
  },
  {
   "cell_type": "code",
   "execution_count": 38,
   "id": "3704e7fd",
   "metadata": {},
   "outputs": [],
   "source": [
    "def AnalyzeGradientDescent( X, y, in_theta, alpha=0.1, num_iter=50 ):\n",
    "    theta = in_theta.copy()\n",
    "    \n",
    "    J_list = []\n",
    "    theta_list = []\n",
    "    \n",
    "    for _ in range(num_iter):\n",
    "        J, dJ0, dJ = CostFunction(X, y, theta)\n",
    "        theta[0] = theta[0] - alpha * dJ0.sum()\n",
    "        theta[1:] = theta[1:] - alpha * dJ\n",
    "        J_list.append(J)\n",
    "        theta_list.append(theta)\n",
    "        \n",
    "    return np.array(theta_list), np.array(J_list)"
   ]
  },
  {
   "cell_type": "code",
   "execution_count": 39,
   "id": "783c8311",
   "metadata": {},
   "outputs": [],
   "source": [
    "def AnalyzeStochasticGradientDescent( X, y, in_theta, alpha=0.1, num_iter=50, stoch_fraction=0.5 ):\n",
    "    theta = in_theta.copy()\n",
    "    X_len = X.shape[0]\n",
    "    num_of_samples = int( X_len*stoch_fraction )\n",
    "    \n",
    "    J_list = []\n",
    "    theta_list = []\n",
    "    \n",
    "    for _ in range(num_iter):\n",
    "        idx = np.random.choice( X_len, size=num_of_samples, replace=False )\n",
    "        J, dJ0, dJ = CostFunction( X[idx,:], y[idx], theta )\n",
    "        theta[0] = theta[0] - alpha * dJ0.sum()\n",
    "        theta[1:] = theta[1:] - alpha * dJ\n",
    "        J_list.append(J)\n",
    "        theta_list.append(theta)\n",
    "        \n",
    "    return np.array(theta_list), np.array(J_list)"
   ]
  },
  {
   "cell_type": "code",
   "execution_count": 40,
   "id": "fa3a5d57",
   "metadata": {},
   "outputs": [],
   "source": [
    "def plot_cost_function(J_list, title):\n",
    "    plt.plot(range(1, len(J_list) + 1), J_list)\n",
    "    plt.xlabel('Liczba iteracji', size=15)\n",
    "    plt.ylabel('Wartość funkcja kosztu', size=15)\n",
    "    plt.title(title, size=15)\n",
    "    plt.rcParams[\"figure.figsize\"] = HEIGHT, WEIGHT\n",
    "    plt.show()"
   ]
  },
  {
   "cell_type": "markdown",
   "id": "5c42b039",
   "metadata": {},
   "source": [
    "Poniżej wygenerowano wykresy zależności wartości funkcja kosztu od liczby iteracji dla poszczególnych algorytmów:"
   ]
  },
  {
   "cell_type": "code",
   "execution_count": 41,
   "id": "76870fbe",
   "metadata": {},
   "outputs": [],
   "source": [
    "thetaOpt_list, JOpt_list = AnalyzeGradientDescent(X_norm, y, theta, ALPHA, NUM_ITER)"
   ]
  },
  {
   "cell_type": "code",
   "execution_count": 42,
   "id": "776a2b3d",
   "metadata": {},
   "outputs": [
    {
     "data": {
      "image/png": "[encoded data removed]",
      "text/plain": [
       "<Figure size 720x504 with 1 Axes>"
      ]
     },
     "metadata": {},
     "output_type": "display_data"
    }
   ],
   "source": [
    "plot_cost_function(JOpt_list, 'Gradient Descent')"
   ]
  },
  {
   "cell_type": "code",
   "execution_count": 43,
   "id": "9afb4448",
   "metadata": {},
   "outputs": [],
   "source": [
    "thetaOptSGD_list, JOptSGD_list = AnalyzeStochasticGradientDescent(\n",
    "                            X_norm, y, theta, ALPHA, NUM_ITER, STOCH_FRACTION\n",
    "                        )"
   ]
  },
  {
   "cell_type": "code",
   "execution_count": 44,
   "id": "8400fe7f",
   "metadata": {},
   "outputs": [
    {
     "data": {
      "image/png": "[encoded data removed]",
      "text/plain": [
       "<Figure size 720x504 with 1 Axes>"
      ]
     },
     "metadata": {},
     "output_type": "display_data"
    }
   ],
   "source": [
    "plot_cost_function(JOptSGD_list, 'Stochastic Gradient Descent')"
   ]
  },
  {
   "cell_type": "markdown",
   "id": "1c0f7821",
   "metadata": {},
   "source": [
    "Dla SGD obserwowalne są ciągłe dynamiczne zmiany wartości funkcja kosztu, co jest skutkiem stochatycznego charaktery dodanych zmian do tego tego algorytmu względem GD."
   ]
  },
  {
   "cell_type": "code",
   "execution_count": 45,
   "id": "214ed148",
   "metadata": {},
   "outputs": [],
   "source": [
    "thetaOptSampl_list, JOptSampl_list = AnalyzeGradientDescent(X_sampled, y_sampled, theta, ALPHA, NUM_ITER)"
   ]
  },
  {
   "cell_type": "code",
   "execution_count": 46,
   "id": "14eadb8c",
   "metadata": {},
   "outputs": [
    {
     "data": {
      "image/png": "[encoded data removed]",
      "text/plain": [
       "<Figure size 720x504 with 1 Axes>"
      ]
     },
     "metadata": {},
     "output_type": "display_data"
    }
   ],
   "source": [
    "plot_cost_function(JOptSampl_list, 'Sampled Gradient Descent')"
   ]
  },
  {
   "cell_type": "code",
   "execution_count": 47,
   "id": "e492c99c",
   "metadata": {},
   "outputs": [],
   "source": [
    "from sklearn.decomposition import PCA"
   ]
  },
  {
   "cell_type": "code",
   "execution_count": 48,
   "id": "ac1bc804",
   "metadata": {},
   "outputs": [],
   "source": [
    "def make_PCA(theta_list):\n",
    "    pca = PCA(n_components=2)\n",
    "    theta_pca = pca.fit_transform(theta_list)\n",
    "    return theta_pca"
   ]
  },
  {
   "cell_type": "code",
   "execution_count": 49,
   "id": "d3f3cafd",
   "metadata": {},
   "outputs": [],
   "source": [
    "thetaOpt_pca = make_PCA(thetaOpt_list)\n",
    "thetaOptSGD_pca = make_PCA(thetaOptSGD_list)\n",
    "thetaOptSampl_pca = make_PCA(thetaOptSampl_list)"
   ]
  },
  {
   "cell_type": "code",
   "execution_count": 50,
   "id": "867e2a36",
   "metadata": {},
   "outputs": [
    {
     "data": {
      "image/png": "[encoded data removed]",
      "text/plain": [
       "<Figure size 720x504 with 1 Axes>"
      ]
     },
     "metadata": {},
     "output_type": "display_data"
    }
   ],
   "source": [
    "plt.plot(thetaOpt_pca[:,0], thetaOpt_pca[:,1], '-', label='GD')\n",
    "plt.plot(thetaOptSGD_pca[:,0], thetaOptSGD_pca[:,1], '-', label='SGD')\n",
    "plt.plot(thetaOptSampl_pca[:,0], thetaOptSampl_pca[:,1], '-', label='Sampled')\n",
    "plt.title('Zmiana funkcji kosztu w zależności od hipotezy $\\\\theta$', size=15)\n",
    "plt.xlabel('$\\\\theta_{pca0}$', size=15)\n",
    "plt.ylabel('$\\\\theta_{pca1}$', size=15)\n",
    "plt.rcParams[\"figure.figsize\"] = HEIGHT, WEIGHT\n",
    "plt.legend(loc='best', prop={'size': 12})\n",
    "plt.show()"
   ]
  },
  {
   "cell_type": "markdown",
   "id": "85cee127",
   "metadata": {},
   "source": [
    "Poniżej wygenerowano wykresy zależności czasu dla poszczególnych algorytmów:"
   ]
  },
  {
   "cell_type": "code",
   "execution_count": 51,
   "id": "e3349f83",
   "metadata": {},
   "outputs": [],
   "source": [
    "methods_names = ['GD', 'SGD', 'Sampled']"
   ]
  },
  {
   "cell_type": "code",
   "execution_count": 52,
   "id": "e29f56d7",
   "metadata": {},
   "outputs": [],
   "source": [
    "timings_GD = time_GD.timings[:]\n",
    "timings_SGD = time_SGD.timings[:]\n",
    "timings_Sampl = time_Sampl.timings[:]\n",
    "timings = [timings_GD, timings_SGD, timings_Sampl]"
   ]
  },
  {
   "cell_type": "code",
   "execution_count": 53,
   "id": "ed30636a",
   "metadata": {},
   "outputs": [
    {
     "data": {
      "image/png": "[encoded data removed]",
      "text/plain": [
       "<Figure size 720x504 with 1 Axes>"
      ]
     },
     "metadata": {},
     "output_type": "display_data"
    }
   ],
   "source": [
    "fig = plt.figure(figsize = (HEIGHT, WEIGHT))\n",
    "ax = fig.add_axes([0, 0, 1, 1])\n",
    "bp = ax.boxplot(timings)\n",
    "ax.set_title('Algorytmy - czasy wykonania', size=15)\n",
    "ax.set_xticks([1, 2, 3], methods_names, size=15)\n",
    "ax.set_ylabel('Czas, s', size=15)\n",
    "plt.show()"
   ]
  },
  {
   "cell_type": "code",
   "execution_count": 54,
   "id": "87f3d12c",
   "metadata": {},
   "outputs": [
    {
     "name": "stdout",
     "output_type": "stream",
     "text": [
      "Metoda SGD była ok. 1.75-krotnie wolniejsza od GD i 2.13-krotnie wolniejsza od Sampled GD.\n",
      "Metoda GD była ok. 1.22-krotnie wolniejsza od Sampled GD\n"
     ]
    }
   ],
   "source": [
    "print(f'Metoda SGD była ok. {time_SGD.best/time_GD.best:.2f}-krotnie wolniejsza od GD i {time_SGD.best/time_Sampl.best:.2f}-krotnie wolniejsza od Sampled GD.')\n",
    "print(f'Metoda GD była ok. {time_GD.best/time_Sampl.best:.2f}-krotnie wolniejsza od Sampled GD')"
   ]
  },
  {
   "cell_type": "code",
   "execution_count": 55,
   "id": "04179b0e",
   "metadata": {},
   "outputs": [
    {
     "data": {
      "image/png": "[encoded data removed]",
      "text/plain": [
       "<Figure size 720x504 with 1 Axes>"
      ]
     },
     "metadata": {},
     "output_type": "display_data"
    }
   ],
   "source": [
    "plt.plot([JOpt, JOptSGD, JOptSampl], '-o')\n",
    "plt.title('Algorytmy - końcowa wartość minimum', size=15)\n",
    "plt.xticks([0, 1, 2], methods_names, size=15)\n",
    "plt.ylabel('Wartość funkcji kosztu', size=15)\n",
    "plt.rcParams[\"figure.figsize\"] = HEIGHT, WEIGHT\n",
    "plt.show()"
   ]
  },
  {
   "cell_type": "code",
   "execution_count": 56,
   "id": "6e70b58a",
   "metadata": {},
   "outputs": [
    {
     "name": "stdout",
     "output_type": "stream",
     "text": [
      "Dokładność metody SGD była ok. 1.00000-krotnie mniejsza od GD i 1.00062-krotnie mniejsza od Sampled GD.\n",
      "Jak można zauważyć różnice były niewielkie.\n"
     ]
    }
   ],
   "source": [
    "print(f'Dokładność metody SGD była ok. {accuracy_SGD/accuracy_GD:.5f}-krotnie mniejsza od GD i {accuracy_SGD/accuracy_Sampl:.5f}-krotnie mniejsza od Sampled GD.')\n",
    "print('Jak można zauważyć różnice były niewielkie.')"
   ]
  },
  {
   "cell_type": "markdown",
   "id": "ffdb932e",
   "metadata": {},
   "source": [
    "## Wnioski:\n",
    "* Metoda SGD okazała się był metodą kilkukrotnie wolniejszą od GD i Sampled GD.\n",
    "* Metoda SGD okazała się był metodą niewiele dokładniejszą od GD i Sampled GD.\n",
    "* Metoda Sampled GD okazała się był metodą najszybszą i najdokładniejszą.\n",
    "* Zbiór danych nie został dobrze przygotowany przez co trudne było uzyskanie dokładności na poziomie ok. 90%.\n",
    "* Proces szukania rozwiązania u metody SGD charakteryzuje się duża zmiennością zwracanych rozwiązań."
   ]
  },
  {
   "cell_type": "markdown",
   "id": "8f75c097",
   "metadata": {},
   "source": [
    "## Referencje:\n",
    "\n",
    "[1] A. Ng, \"CS229. Lecture notes. Supervised learning\", 2012, [na:] https://web.archive.org/web/20180618211933/http://cs229.stanford.edu/notes/cs229-notes1.pdf, [dostęp:] 21.01.2023.  \n",
    "[2] A. Pant, \"Introduction to Logistic Regression\", 2019, [na:] https://towardsdatascience.com/introduction-to-logistic-regression-66248243c148, [dostęp:] 24.01.2023.  \n",
    "[3] https://stackoverflow.com/a/29863846, [dostęp:] 21.01.2023.  "
   ]
  },
  {
   "cell_type": "code",
   "execution_count": null,
   "id": "d496a95f",
   "metadata": {},
   "outputs": [],
   "source": []
  }
 ],
 "metadata": {
  "kernelspec": {
   "display_name": "Python 3 (ipykernel)",
   "language": "python",
   "name": "python3"
  },
  "language_info": {
   "codemirror_mode": {
    "name": "ipython",
    "version": 3
   },
   "file_extension": ".py",
   "mimetype": "text/x-python",
   "name": "python",
   "nbconvert_exporter": "python",
   "pygments_lexer": "ipython3",
   "version": "3.8.13"
  }
 },
 "nbformat": 4,
 "nbformat_minor": 5
}

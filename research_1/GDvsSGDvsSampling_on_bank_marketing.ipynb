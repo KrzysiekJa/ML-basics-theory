{
 "cells": [
  {
   "cell_type": "markdown",
   "id": "1a03890c",
   "metadata": {},
   "source": [
    "## Accuracy and training time analysis for Big Data - comparison of the simple gradient method, the stochastic gradient method and the reduction of the training set.\n",
    "\n",
    "<center><img src='pictures/comparison.png' width=700 height=500 /></center>\n",
    "\n",
    "## Goals:\n",
    "\n",
    "* implementation of algorithms like Gradient Descent (GD) and Stochastic Gradient Descent (SGD) methods,\n",
    "* using the first algorithm also to investigate the *undersampling* issue,\n",
    "* conducting a comparative analysis of the performance of the implementation due to execution time and accuracy.\n",
    "\n",
    "### Reaserch problem:\n",
    "\n",
    "The **Gradient Descent** (also Steepest Descent method) boils down to the concept of a first-order iterative optimization algorithm for finding a local minimum of a differentiable function. In simple terms, the main idea of the algorithm is to repeat the steps in the direction opposite to the gradient (or approximate gradient) of the function at the current point, because this is the direction of the so-called the fastest decrease, as a result of which the sought extreme of the function will be iteratively approximated.\n",
    "\n",
    "The algorithm, or versions that are its closer or further development, are now widely used in machine learning (ML) research. Among the solutions developed in the last decade, those versions stood out whose construction was associated with the additional use of stochastic methods.\n",
    "\n",
    "Referring to this issue, in the undertaken study the basic algorithm was compared with two selected versions modified in terms of efficiency and precision: one additionally implementing stochastic sampling, the other using *undersampling*."
   ]
  },
  {
   "cell_type": "markdown",
   "id": "fb743838",
   "metadata": {},
   "source": [
    "## Reaserch process:\n",
    "\n",
    "### Used software and hardware:\n",
    "* MacOs 10.15 Catalina,\n",
    "* środowisko: Jupyter Notebook,\n",
    "* procesor: 2,7 GHz Dwurdzeniowy procesor Intel Core i5,\n",
    "* pamięć: 8 GB 1867 MHz DDR3."
   ]
  },
  {
   "cell_type": "markdown",
   "id": "da8180e2",
   "metadata": {},
   "source": [
    "### Basic information about the dataset used:\n",
    "\n",
    "**Relevant Information**:  \n",
    "   This dataset is based on \"**Bank Marketing**\" UCI dataset (please check the description at: http://archive.ics.uci.edu/ml/datasets/Bank+Marketing).  \n",
    "   The data is enriched by the addition of five new social and economic features/attributes (national wide indicators from a ~10M population country), published by the Banco de Portugal and publicly available at: https://www.bportugal.pt/estatisticasweb.  \n",
    "   This dataset is almost identical to the one used in [Moro et al., 2014] (it does not include all attributes due to privacy concerns).  \n",
    "   Using the rminer package and R tool (http://cran.r-project.org/web/packages/rminer/), we found that the addition of the five new social and economic attributes (made available here) lead to substantial improvement in the prediction of a success, even when the duration of the call is not included. Note: the file can be read in R using: d=read.table(\"bank-additional-full.csv\",header=TRUE,sep=\";\")  \n",
    "   \n",
    "   The zip file includes two datasets: \n",
    "      1) bank-additional-full.csv with all examples, ordered by date (from May 2008 to November 2010).\n",
    "      2) bank-additional.csv with 10% of the examples (4119), randomly selected from bank-additional-full.csv.\n",
    "   The smallest dataset is provided to test more computationally demanding machine learning algorithms (e.g., SVM).\n",
    "\n",
    "   The binary classification goal is to predict if the client will subscribe a bank term deposit (variable y).\n",
    "\n",
    "**Number of Instances**: 41188 for bank-additional-full.csv\n",
    "\n",
    "**Number of Attributes**: 20 + output attribute.\n",
    "\n",
    "**Attribute information**:\n",
    "\n",
    "   For more information, read [Moro et al., 2014].\n",
    "\n",
    "   **Input variables**:\n",
    "   #### bank client data:\n",
    "   1 - age (numeric)  \n",
    "   2 - job : type of job (categorical: \"admin.\",\"blue-collar\",\"entrepreneur\",\"housemaid\",\"management\",\"retired\",\"self-employed\",\"services\",\"student\",\"technician\",\"unemployed\",\"unknown\")  \n",
    "   3 - marital : marital status (categorical: \"divorced\",\"married\",\"single\",\"unknown\"; note: \"divorced\" means divorced or widowed)  \n",
    "   4 - education (categorical: \"basic.4y\",\"basic.6y\",\"basic.9y\",\"high.school\",\"illiterate\",\"professional.course\",\"university.degree\",\"unknown\")  \n",
    "   5 - default: has credit in default? (categorical: \"no\",\"yes\",\"unknown\")  \n",
    "   6 - housing: has housing loan? (categorical: \"no\",\"yes\",\"unknown\")  \n",
    "   7 - loan: has personal loan? (categorical: \"no\",\"yes\",\"unknown\")  \n",
    "   #### related with the last contact of the current campaign:\n",
    "   8 - contact: contact communication type (categorical: \"cellular\",\"telephone\")   \n",
    "   9 - month: last contact month of year (categorical: \"jan\", \"feb\", \"mar\", ..., \"nov\", \"dec\")  \n",
    "  10 - day_of_week: last contact day of the week (categorical: \"mon\",\"tue\",\"wed\",\"thu\",\"fri\")  \n",
    "  11 - duration: last contact duration, in seconds (numeric). Important note:  this attribute highly affects the output target (e.g., if duration=0 then y=\"no\"). Yet, the duration is not known before a call is performed. Also, after the end of the call y is obviously known. Thus, this input should only be included for benchmark purposes and should be discarded if the intention is to have a realistic predictive model.  \n",
    "   #### other attributes:\n",
    "  12 - campaign: number of contacts performed during this campaign and for this client (numeric, includes last contact)  \n",
    "  13 - pdays: number of days that passed by after the client was last contacted from a previous campaign (numeric; 999 means client was not previously contacted)  \n",
    "  14 - previous: number of contacts performed before this campaign and for this client (numeric)  \n",
    "  15 - poutcome: outcome of the previous marketing campaign (categorical: \"failure\",\"nonexistent\",\"success\")  \n",
    "   #### social and economic context attributes\n",
    "  16 - emp.var.rate: employment variation rate - quarterly indicator (numeric)  \n",
    "  17 - cons.price.idx: consumer price index - monthly indicator (numeric)  \n",
    "  18 - cons.conf.idx: consumer confidence index - monthly indicator (numeric)  \n",
    "  19 - euribor3m: euribor 3 month rate - daily indicator (numeric)  \n",
    "  20 - nr.employed: number of employees - quarterly indicator (numeric)  \n",
    "\n",
    "  Output variable (desired target):\n",
    "  21 - y - has the client subscribed a term deposit? (binary: \"yes\",\"no\")  "
   ]
  },
  {
   "cell_type": "code",
   "execution_count": 84,
   "id": "5fcca5e5",
   "metadata": {},
   "outputs": [],
   "source": [
    "import math\n",
    "import numpy as np\n",
    "import pandas as pd\n",
    "import seaborn as sn\n",
    "import matplotlib.pyplot as plt\n",
    "from sklearn import metrics\n",
    "from sklearn import preprocessing"
   ]
  },
  {
   "cell_type": "code",
   "execution_count": 85,
   "id": "2eeb425a",
   "metadata": {},
   "outputs": [],
   "source": [
    "import warnings\n",
    "warnings.filterwarnings('ignore')\n",
    "\n",
    "plt.style.use('seaborn')\n",
    "WEIGHT, HEIGHT = 7, 10\n",
    "\n",
    "pd.set_option('display.max_columns', 22)"
   ]
  },
  {
   "cell_type": "code",
   "execution_count": 86,
   "id": "6f92f233",
   "metadata": {},
   "outputs": [],
   "source": [
    "bank_marketing_df = pd.read_csv('data/bank-additional-full.csv', index_col=False, sep=';')"
   ]
  },
  {
   "cell_type": "code",
   "execution_count": 87,
   "id": "b751c6db",
   "metadata": {},
   "outputs": [
    {
     "name": "stdout",
     "output_type": "stream",
     "text": [
      "Dataset shape: (41188, 21)\n"
     ]
    }
   ],
   "source": [
    "print( 'Dataset shape:', bank_marketing_df.shape )"
   ]
  },
  {
   "cell_type": "code",
   "execution_count": 88,
   "id": "3923bbd8",
   "metadata": {},
   "outputs": [
    {
     "data": {
      "text/html": [
       "<div>\n",
       "<style scoped>\n",
       "    .dataframe tbody tr th:only-of-type {\n",
       "        vertical-align: middle;\n",
       "    }\n",
       "\n",
       "    .dataframe tbody tr th {\n",
       "        vertical-align: top;\n",
       "    }\n",
       "\n",
       "    .dataframe thead th {\n",
       "        text-align: right;\n",
       "    }\n",
       "</style>\n",
       "<table border=\"1\" class=\"dataframe\">\n",
       "  <thead>\n",
       "    <tr style=\"text-align: right;\">\n",
       "      <th></th>\n",
       "      <th>age</th>\n",
       "      <th>job</th>\n",
       "      <th>marital</th>\n",
       "      <th>education</th>\n",
       "      <th>default</th>\n",
       "      <th>housing</th>\n",
       "      <th>loan</th>\n",
       "      <th>contact</th>\n",
       "      <th>month</th>\n",
       "      <th>day_of_week</th>\n",
       "      <th>duration</th>\n",
       "      <th>campaign</th>\n",
       "      <th>pdays</th>\n",
       "      <th>previous</th>\n",
       "      <th>poutcome</th>\n",
       "      <th>emp.var.rate</th>\n",
       "      <th>cons.price.idx</th>\n",
       "      <th>cons.conf.idx</th>\n",
       "      <th>euribor3m</th>\n",
       "      <th>nr.employed</th>\n",
       "      <th>y</th>\n",
       "    </tr>\n",
       "  </thead>\n",
       "  <tbody>\n",
       "    <tr>\n",
       "      <th>0</th>\n",
       "      <td>56</td>\n",
       "      <td>housemaid</td>\n",
       "      <td>married</td>\n",
       "      <td>basic.4y</td>\n",
       "      <td>no</td>\n",
       "      <td>no</td>\n",
       "      <td>no</td>\n",
       "      <td>telephone</td>\n",
       "      <td>may</td>\n",
       "      <td>mon</td>\n",
       "      <td>261</td>\n",
       "      <td>1</td>\n",
       "      <td>999</td>\n",
       "      <td>0</td>\n",
       "      <td>nonexistent</td>\n",
       "      <td>1.1</td>\n",
       "      <td>93.994</td>\n",
       "      <td>-36.4</td>\n",
       "      <td>4.857</td>\n",
       "      <td>5191.0</td>\n",
       "      <td>no</td>\n",
       "    </tr>\n",
       "    <tr>\n",
       "      <th>1</th>\n",
       "      <td>57</td>\n",
       "      <td>services</td>\n",
       "      <td>married</td>\n",
       "      <td>high.school</td>\n",
       "      <td>unknown</td>\n",
       "      <td>no</td>\n",
       "      <td>no</td>\n",
       "      <td>telephone</td>\n",
       "      <td>may</td>\n",
       "      <td>mon</td>\n",
       "      <td>149</td>\n",
       "      <td>1</td>\n",
       "      <td>999</td>\n",
       "      <td>0</td>\n",
       "      <td>nonexistent</td>\n",
       "      <td>1.1</td>\n",
       "      <td>93.994</td>\n",
       "      <td>-36.4</td>\n",
       "      <td>4.857</td>\n",
       "      <td>5191.0</td>\n",
       "      <td>no</td>\n",
       "    </tr>\n",
       "    <tr>\n",
       "      <th>2</th>\n",
       "      <td>37</td>\n",
       "      <td>services</td>\n",
       "      <td>married</td>\n",
       "      <td>high.school</td>\n",
       "      <td>no</td>\n",
       "      <td>yes</td>\n",
       "      <td>no</td>\n",
       "      <td>telephone</td>\n",
       "      <td>may</td>\n",
       "      <td>mon</td>\n",
       "      <td>226</td>\n",
       "      <td>1</td>\n",
       "      <td>999</td>\n",
       "      <td>0</td>\n",
       "      <td>nonexistent</td>\n",
       "      <td>1.1</td>\n",
       "      <td>93.994</td>\n",
       "      <td>-36.4</td>\n",
       "      <td>4.857</td>\n",
       "      <td>5191.0</td>\n",
       "      <td>no</td>\n",
       "    </tr>\n",
       "    <tr>\n",
       "      <th>3</th>\n",
       "      <td>40</td>\n",
       "      <td>admin.</td>\n",
       "      <td>married</td>\n",
       "      <td>basic.6y</td>\n",
       "      <td>no</td>\n",
       "      <td>no</td>\n",
       "      <td>no</td>\n",
       "      <td>telephone</td>\n",
       "      <td>may</td>\n",
       "      <td>mon</td>\n",
       "      <td>151</td>\n",
       "      <td>1</td>\n",
       "      <td>999</td>\n",
       "      <td>0</td>\n",
       "      <td>nonexistent</td>\n",
       "      <td>1.1</td>\n",
       "      <td>93.994</td>\n",
       "      <td>-36.4</td>\n",
       "      <td>4.857</td>\n",
       "      <td>5191.0</td>\n",
       "      <td>no</td>\n",
       "    </tr>\n",
       "    <tr>\n",
       "      <th>4</th>\n",
       "      <td>56</td>\n",
       "      <td>services</td>\n",
       "      <td>married</td>\n",
       "      <td>high.school</td>\n",
       "      <td>no</td>\n",
       "      <td>no</td>\n",
       "      <td>yes</td>\n",
       "      <td>telephone</td>\n",
       "      <td>may</td>\n",
       "      <td>mon</td>\n",
       "      <td>307</td>\n",
       "      <td>1</td>\n",
       "      <td>999</td>\n",
       "      <td>0</td>\n",
       "      <td>nonexistent</td>\n",
       "      <td>1.1</td>\n",
       "      <td>93.994</td>\n",
       "      <td>-36.4</td>\n",
       "      <td>4.857</td>\n",
       "      <td>5191.0</td>\n",
       "      <td>no</td>\n",
       "    </tr>\n",
       "    <tr>\n",
       "      <th>5</th>\n",
       "      <td>45</td>\n",
       "      <td>services</td>\n",
       "      <td>married</td>\n",
       "      <td>basic.9y</td>\n",
       "      <td>unknown</td>\n",
       "      <td>no</td>\n",
       "      <td>no</td>\n",
       "      <td>telephone</td>\n",
       "      <td>may</td>\n",
       "      <td>mon</td>\n",
       "      <td>198</td>\n",
       "      <td>1</td>\n",
       "      <td>999</td>\n",
       "      <td>0</td>\n",
       "      <td>nonexistent</td>\n",
       "      <td>1.1</td>\n",
       "      <td>93.994</td>\n",
       "      <td>-36.4</td>\n",
       "      <td>4.857</td>\n",
       "      <td>5191.0</td>\n",
       "      <td>no</td>\n",
       "    </tr>\n",
       "    <tr>\n",
       "      <th>6</th>\n",
       "      <td>59</td>\n",
       "      <td>admin.</td>\n",
       "      <td>married</td>\n",
       "      <td>professional.course</td>\n",
       "      <td>no</td>\n",
       "      <td>no</td>\n",
       "      <td>no</td>\n",
       "      <td>telephone</td>\n",
       "      <td>may</td>\n",
       "      <td>mon</td>\n",
       "      <td>139</td>\n",
       "      <td>1</td>\n",
       "      <td>999</td>\n",
       "      <td>0</td>\n",
       "      <td>nonexistent</td>\n",
       "      <td>1.1</td>\n",
       "      <td>93.994</td>\n",
       "      <td>-36.4</td>\n",
       "      <td>4.857</td>\n",
       "      <td>5191.0</td>\n",
       "      <td>no</td>\n",
       "    </tr>\n",
       "    <tr>\n",
       "      <th>7</th>\n",
       "      <td>41</td>\n",
       "      <td>blue-collar</td>\n",
       "      <td>married</td>\n",
       "      <td>unknown</td>\n",
       "      <td>unknown</td>\n",
       "      <td>no</td>\n",
       "      <td>no</td>\n",
       "      <td>telephone</td>\n",
       "      <td>may</td>\n",
       "      <td>mon</td>\n",
       "      <td>217</td>\n",
       "      <td>1</td>\n",
       "      <td>999</td>\n",
       "      <td>0</td>\n",
       "      <td>nonexistent</td>\n",
       "      <td>1.1</td>\n",
       "      <td>93.994</td>\n",
       "      <td>-36.4</td>\n",
       "      <td>4.857</td>\n",
       "      <td>5191.0</td>\n",
       "      <td>no</td>\n",
       "    </tr>\n",
       "    <tr>\n",
       "      <th>8</th>\n",
       "      <td>24</td>\n",
       "      <td>technician</td>\n",
       "      <td>single</td>\n",
       "      <td>professional.course</td>\n",
       "      <td>no</td>\n",
       "      <td>yes</td>\n",
       "      <td>no</td>\n",
       "      <td>telephone</td>\n",
       "      <td>may</td>\n",
       "      <td>mon</td>\n",
       "      <td>380</td>\n",
       "      <td>1</td>\n",
       "      <td>999</td>\n",
       "      <td>0</td>\n",
       "      <td>nonexistent</td>\n",
       "      <td>1.1</td>\n",
       "      <td>93.994</td>\n",
       "      <td>-36.4</td>\n",
       "      <td>4.857</td>\n",
       "      <td>5191.0</td>\n",
       "      <td>no</td>\n",
       "    </tr>\n",
       "    <tr>\n",
       "      <th>9</th>\n",
       "      <td>25</td>\n",
       "      <td>services</td>\n",
       "      <td>single</td>\n",
       "      <td>high.school</td>\n",
       "      <td>no</td>\n",
       "      <td>yes</td>\n",
       "      <td>no</td>\n",
       "      <td>telephone</td>\n",
       "      <td>may</td>\n",
       "      <td>mon</td>\n",
       "      <td>50</td>\n",
       "      <td>1</td>\n",
       "      <td>999</td>\n",
       "      <td>0</td>\n",
       "      <td>nonexistent</td>\n",
       "      <td>1.1</td>\n",
       "      <td>93.994</td>\n",
       "      <td>-36.4</td>\n",
       "      <td>4.857</td>\n",
       "      <td>5191.0</td>\n",
       "      <td>no</td>\n",
       "    </tr>\n",
       "  </tbody>\n",
       "</table>\n",
       "</div>"
      ],
      "text/plain": [
       "   age          job  marital            education  default housing loan  \\\n",
       "0   56    housemaid  married             basic.4y       no      no   no   \n",
       "1   57     services  married          high.school  unknown      no   no   \n",
       "2   37     services  married          high.school       no     yes   no   \n",
       "3   40       admin.  married             basic.6y       no      no   no   \n",
       "4   56     services  married          high.school       no      no  yes   \n",
       "5   45     services  married             basic.9y  unknown      no   no   \n",
       "6   59       admin.  married  professional.course       no      no   no   \n",
       "7   41  blue-collar  married              unknown  unknown      no   no   \n",
       "8   24   technician   single  professional.course       no     yes   no   \n",
       "9   25     services   single          high.school       no     yes   no   \n",
       "\n",
       "     contact month day_of_week  duration  campaign  pdays  previous  \\\n",
       "0  telephone   may         mon       261         1    999         0   \n",
       "1  telephone   may         mon       149         1    999         0   \n",
       "2  telephone   may         mon       226         1    999         0   \n",
       "3  telephone   may         mon       151         1    999         0   \n",
       "4  telephone   may         mon       307         1    999         0   \n",
       "5  telephone   may         mon       198         1    999         0   \n",
       "6  telephone   may         mon       139         1    999         0   \n",
       "7  telephone   may         mon       217         1    999         0   \n",
       "8  telephone   may         mon       380         1    999         0   \n",
       "9  telephone   may         mon        50         1    999         0   \n",
       "\n",
       "      poutcome  emp.var.rate  cons.price.idx  cons.conf.idx  euribor3m  \\\n",
       "0  nonexistent           1.1          93.994          -36.4      4.857   \n",
       "1  nonexistent           1.1          93.994          -36.4      4.857   \n",
       "2  nonexistent           1.1          93.994          -36.4      4.857   \n",
       "3  nonexistent           1.1          93.994          -36.4      4.857   \n",
       "4  nonexistent           1.1          93.994          -36.4      4.857   \n",
       "5  nonexistent           1.1          93.994          -36.4      4.857   \n",
       "6  nonexistent           1.1          93.994          -36.4      4.857   \n",
       "7  nonexistent           1.1          93.994          -36.4      4.857   \n",
       "8  nonexistent           1.1          93.994          -36.4      4.857   \n",
       "9  nonexistent           1.1          93.994          -36.4      4.857   \n",
       "\n",
       "   nr.employed   y  \n",
       "0       5191.0  no  \n",
       "1       5191.0  no  \n",
       "2       5191.0  no  \n",
       "3       5191.0  no  \n",
       "4       5191.0  no  \n",
       "5       5191.0  no  \n",
       "6       5191.0  no  \n",
       "7       5191.0  no  \n",
       "8       5191.0  no  \n",
       "9       5191.0  no  "
      ]
     },
     "execution_count": 88,
     "metadata": {},
     "output_type": "execute_result"
    }
   ],
   "source": [
    "bank_marketing_df.head(10)"
   ]
  },
  {
   "cell_type": "markdown",
   "id": "1c66fb44",
   "metadata": {},
   "source": [
    "### Basic analysis and cleaning:"
   ]
  },
  {
   "cell_type": "code",
   "execution_count": 89,
   "id": "b0388ef7",
   "metadata": {},
   "outputs": [
    {
     "data": {
      "text/plain": [
       "age               0\n",
       "job               0\n",
       "marital           0\n",
       "education         0\n",
       "default           0\n",
       "housing           0\n",
       "loan              0\n",
       "contact           0\n",
       "month             0\n",
       "day_of_week       0\n",
       "duration          0\n",
       "campaign          0\n",
       "pdays             0\n",
       "previous          0\n",
       "poutcome          0\n",
       "emp.var.rate      0\n",
       "cons.price.idx    0\n",
       "cons.conf.idx     0\n",
       "euribor3m         0\n",
       "nr.employed       0\n",
       "y                 0\n",
       "dtype: int64"
      ]
     },
     "execution_count": 89,
     "metadata": {},
     "output_type": "execute_result"
    }
   ],
   "source": [
    "bank_marketing_df.isnull().sum()"
   ]
  },
  {
   "cell_type": "code",
   "execution_count": 90,
   "id": "7ff53b68",
   "metadata": {},
   "outputs": [
    {
     "name": "stdout",
     "output_type": "stream",
     "text": [
      "Number of duplicates: 12\n"
     ]
    }
   ],
   "source": [
    "print( 'Number of duplicates:', len(bank_marketing_df)-len(bank_marketing_df.drop_duplicates()) )"
   ]
  },
  {
   "cell_type": "code",
   "execution_count": 91,
   "id": "2b18c6ca",
   "metadata": {},
   "outputs": [
    {
     "data": {
      "text/html": [
       "<div>\n",
       "<style scoped>\n",
       "    .dataframe tbody tr th:only-of-type {\n",
       "        vertical-align: middle;\n",
       "    }\n",
       "\n",
       "    .dataframe tbody tr th {\n",
       "        vertical-align: top;\n",
       "    }\n",
       "\n",
       "    .dataframe thead th {\n",
       "        text-align: right;\n",
       "    }\n",
       "</style>\n",
       "<table border=\"1\" class=\"dataframe\">\n",
       "  <thead>\n",
       "    <tr style=\"text-align: right;\">\n",
       "      <th></th>\n",
       "      <th>index</th>\n",
       "      <th>age</th>\n",
       "      <th>job</th>\n",
       "      <th>marital</th>\n",
       "      <th>education</th>\n",
       "      <th>default</th>\n",
       "      <th>housing</th>\n",
       "      <th>loan</th>\n",
       "      <th>contact</th>\n",
       "      <th>month</th>\n",
       "      <th>day_of_week</th>\n",
       "      <th>duration</th>\n",
       "      <th>campaign</th>\n",
       "      <th>pdays</th>\n",
       "      <th>previous</th>\n",
       "      <th>poutcome</th>\n",
       "      <th>emp.var.rate</th>\n",
       "      <th>cons.price.idx</th>\n",
       "      <th>cons.conf.idx</th>\n",
       "      <th>euribor3m</th>\n",
       "      <th>nr.employed</th>\n",
       "      <th>y</th>\n",
       "    </tr>\n",
       "  </thead>\n",
       "  <tbody>\n",
       "    <tr>\n",
       "      <th>0</th>\n",
       "      <td>0</td>\n",
       "      <td>56</td>\n",
       "      <td>housemaid</td>\n",
       "      <td>married</td>\n",
       "      <td>basic.4y</td>\n",
       "      <td>no</td>\n",
       "      <td>no</td>\n",
       "      <td>no</td>\n",
       "      <td>telephone</td>\n",
       "      <td>may</td>\n",
       "      <td>mon</td>\n",
       "      <td>261</td>\n",
       "      <td>1</td>\n",
       "      <td>999</td>\n",
       "      <td>0</td>\n",
       "      <td>nonexistent</td>\n",
       "      <td>1.1</td>\n",
       "      <td>93.994</td>\n",
       "      <td>-36.4</td>\n",
       "      <td>4.857</td>\n",
       "      <td>5191.0</td>\n",
       "      <td>no</td>\n",
       "    </tr>\n",
       "    <tr>\n",
       "      <th>1</th>\n",
       "      <td>1</td>\n",
       "      <td>57</td>\n",
       "      <td>services</td>\n",
       "      <td>married</td>\n",
       "      <td>high.school</td>\n",
       "      <td>unknown</td>\n",
       "      <td>no</td>\n",
       "      <td>no</td>\n",
       "      <td>telephone</td>\n",
       "      <td>may</td>\n",
       "      <td>mon</td>\n",
       "      <td>149</td>\n",
       "      <td>1</td>\n",
       "      <td>999</td>\n",
       "      <td>0</td>\n",
       "      <td>nonexistent</td>\n",
       "      <td>1.1</td>\n",
       "      <td>93.994</td>\n",
       "      <td>-36.4</td>\n",
       "      <td>4.857</td>\n",
       "      <td>5191.0</td>\n",
       "      <td>no</td>\n",
       "    </tr>\n",
       "    <tr>\n",
       "      <th>2</th>\n",
       "      <td>2</td>\n",
       "      <td>37</td>\n",
       "      <td>services</td>\n",
       "      <td>married</td>\n",
       "      <td>high.school</td>\n",
       "      <td>no</td>\n",
       "      <td>yes</td>\n",
       "      <td>no</td>\n",
       "      <td>telephone</td>\n",
       "      <td>may</td>\n",
       "      <td>mon</td>\n",
       "      <td>226</td>\n",
       "      <td>1</td>\n",
       "      <td>999</td>\n",
       "      <td>0</td>\n",
       "      <td>nonexistent</td>\n",
       "      <td>1.1</td>\n",
       "      <td>93.994</td>\n",
       "      <td>-36.4</td>\n",
       "      <td>4.857</td>\n",
       "      <td>5191.0</td>\n",
       "      <td>no</td>\n",
       "    </tr>\n",
       "    <tr>\n",
       "      <th>3</th>\n",
       "      <td>3</td>\n",
       "      <td>40</td>\n",
       "      <td>admin.</td>\n",
       "      <td>married</td>\n",
       "      <td>basic.6y</td>\n",
       "      <td>no</td>\n",
       "      <td>no</td>\n",
       "      <td>no</td>\n",
       "      <td>telephone</td>\n",
       "      <td>may</td>\n",
       "      <td>mon</td>\n",
       "      <td>151</td>\n",
       "      <td>1</td>\n",
       "      <td>999</td>\n",
       "      <td>0</td>\n",
       "      <td>nonexistent</td>\n",
       "      <td>1.1</td>\n",
       "      <td>93.994</td>\n",
       "      <td>-36.4</td>\n",
       "      <td>4.857</td>\n",
       "      <td>5191.0</td>\n",
       "      <td>no</td>\n",
       "    </tr>\n",
       "    <tr>\n",
       "      <th>4</th>\n",
       "      <td>4</td>\n",
       "      <td>56</td>\n",
       "      <td>services</td>\n",
       "      <td>married</td>\n",
       "      <td>high.school</td>\n",
       "      <td>no</td>\n",
       "      <td>no</td>\n",
       "      <td>yes</td>\n",
       "      <td>telephone</td>\n",
       "      <td>may</td>\n",
       "      <td>mon</td>\n",
       "      <td>307</td>\n",
       "      <td>1</td>\n",
       "      <td>999</td>\n",
       "      <td>0</td>\n",
       "      <td>nonexistent</td>\n",
       "      <td>1.1</td>\n",
       "      <td>93.994</td>\n",
       "      <td>-36.4</td>\n",
       "      <td>4.857</td>\n",
       "      <td>5191.0</td>\n",
       "      <td>no</td>\n",
       "    </tr>\n",
       "    <tr>\n",
       "      <th>...</th>\n",
       "      <td>...</td>\n",
       "      <td>...</td>\n",
       "      <td>...</td>\n",
       "      <td>...</td>\n",
       "      <td>...</td>\n",
       "      <td>...</td>\n",
       "      <td>...</td>\n",
       "      <td>...</td>\n",
       "      <td>...</td>\n",
       "      <td>...</td>\n",
       "      <td>...</td>\n",
       "      <td>...</td>\n",
       "      <td>...</td>\n",
       "      <td>...</td>\n",
       "      <td>...</td>\n",
       "      <td>...</td>\n",
       "      <td>...</td>\n",
       "      <td>...</td>\n",
       "      <td>...</td>\n",
       "      <td>...</td>\n",
       "      <td>...</td>\n",
       "      <td>...</td>\n",
       "    </tr>\n",
       "    <tr>\n",
       "      <th>41171</th>\n",
       "      <td>41183</td>\n",
       "      <td>73</td>\n",
       "      <td>retired</td>\n",
       "      <td>married</td>\n",
       "      <td>professional.course</td>\n",
       "      <td>no</td>\n",
       "      <td>yes</td>\n",
       "      <td>no</td>\n",
       "      <td>cellular</td>\n",
       "      <td>nov</td>\n",
       "      <td>fri</td>\n",
       "      <td>334</td>\n",
       "      <td>1</td>\n",
       "      <td>999</td>\n",
       "      <td>0</td>\n",
       "      <td>nonexistent</td>\n",
       "      <td>-1.1</td>\n",
       "      <td>94.767</td>\n",
       "      <td>-50.8</td>\n",
       "      <td>1.028</td>\n",
       "      <td>4963.6</td>\n",
       "      <td>yes</td>\n",
       "    </tr>\n",
       "    <tr>\n",
       "      <th>41172</th>\n",
       "      <td>41184</td>\n",
       "      <td>46</td>\n",
       "      <td>blue-collar</td>\n",
       "      <td>married</td>\n",
       "      <td>professional.course</td>\n",
       "      <td>no</td>\n",
       "      <td>no</td>\n",
       "      <td>no</td>\n",
       "      <td>cellular</td>\n",
       "      <td>nov</td>\n",
       "      <td>fri</td>\n",
       "      <td>383</td>\n",
       "      <td>1</td>\n",
       "      <td>999</td>\n",
       "      <td>0</td>\n",
       "      <td>nonexistent</td>\n",
       "      <td>-1.1</td>\n",
       "      <td>94.767</td>\n",
       "      <td>-50.8</td>\n",
       "      <td>1.028</td>\n",
       "      <td>4963.6</td>\n",
       "      <td>no</td>\n",
       "    </tr>\n",
       "    <tr>\n",
       "      <th>41173</th>\n",
       "      <td>41185</td>\n",
       "      <td>56</td>\n",
       "      <td>retired</td>\n",
       "      <td>married</td>\n",
       "      <td>university.degree</td>\n",
       "      <td>no</td>\n",
       "      <td>yes</td>\n",
       "      <td>no</td>\n",
       "      <td>cellular</td>\n",
       "      <td>nov</td>\n",
       "      <td>fri</td>\n",
       "      <td>189</td>\n",
       "      <td>2</td>\n",
       "      <td>999</td>\n",
       "      <td>0</td>\n",
       "      <td>nonexistent</td>\n",
       "      <td>-1.1</td>\n",
       "      <td>94.767</td>\n",
       "      <td>-50.8</td>\n",
       "      <td>1.028</td>\n",
       "      <td>4963.6</td>\n",
       "      <td>no</td>\n",
       "    </tr>\n",
       "    <tr>\n",
       "      <th>41174</th>\n",
       "      <td>41186</td>\n",
       "      <td>44</td>\n",
       "      <td>technician</td>\n",
       "      <td>married</td>\n",
       "      <td>professional.course</td>\n",
       "      <td>no</td>\n",
       "      <td>no</td>\n",
       "      <td>no</td>\n",
       "      <td>cellular</td>\n",
       "      <td>nov</td>\n",
       "      <td>fri</td>\n",
       "      <td>442</td>\n",
       "      <td>1</td>\n",
       "      <td>999</td>\n",
       "      <td>0</td>\n",
       "      <td>nonexistent</td>\n",
       "      <td>-1.1</td>\n",
       "      <td>94.767</td>\n",
       "      <td>-50.8</td>\n",
       "      <td>1.028</td>\n",
       "      <td>4963.6</td>\n",
       "      <td>yes</td>\n",
       "    </tr>\n",
       "    <tr>\n",
       "      <th>41175</th>\n",
       "      <td>41187</td>\n",
       "      <td>74</td>\n",
       "      <td>retired</td>\n",
       "      <td>married</td>\n",
       "      <td>professional.course</td>\n",
       "      <td>no</td>\n",
       "      <td>yes</td>\n",
       "      <td>no</td>\n",
       "      <td>cellular</td>\n",
       "      <td>nov</td>\n",
       "      <td>fri</td>\n",
       "      <td>239</td>\n",
       "      <td>3</td>\n",
       "      <td>999</td>\n",
       "      <td>1</td>\n",
       "      <td>failure</td>\n",
       "      <td>-1.1</td>\n",
       "      <td>94.767</td>\n",
       "      <td>-50.8</td>\n",
       "      <td>1.028</td>\n",
       "      <td>4963.6</td>\n",
       "      <td>no</td>\n",
       "    </tr>\n",
       "  </tbody>\n",
       "</table>\n",
       "<p>41176 rows × 22 columns</p>\n",
       "</div>"
      ],
      "text/plain": [
       "       index  age          job  marital            education  default housing  \\\n",
       "0          0   56    housemaid  married             basic.4y       no      no   \n",
       "1          1   57     services  married          high.school  unknown      no   \n",
       "2          2   37     services  married          high.school       no     yes   \n",
       "3          3   40       admin.  married             basic.6y       no      no   \n",
       "4          4   56     services  married          high.school       no      no   \n",
       "...      ...  ...          ...      ...                  ...      ...     ...   \n",
       "41171  41183   73      retired  married  professional.course       no     yes   \n",
       "41172  41184   46  blue-collar  married  professional.course       no      no   \n",
       "41173  41185   56      retired  married    university.degree       no     yes   \n",
       "41174  41186   44   technician  married  professional.course       no      no   \n",
       "41175  41187   74      retired  married  professional.course       no     yes   \n",
       "\n",
       "      loan    contact month day_of_week  duration  campaign  pdays  previous  \\\n",
       "0       no  telephone   may         mon       261         1    999         0   \n",
       "1       no  telephone   may         mon       149         1    999         0   \n",
       "2       no  telephone   may         mon       226         1    999         0   \n",
       "3       no  telephone   may         mon       151         1    999         0   \n",
       "4      yes  telephone   may         mon       307         1    999         0   \n",
       "...    ...        ...   ...         ...       ...       ...    ...       ...   \n",
       "41171   no   cellular   nov         fri       334         1    999         0   \n",
       "41172   no   cellular   nov         fri       383         1    999         0   \n",
       "41173   no   cellular   nov         fri       189         2    999         0   \n",
       "41174   no   cellular   nov         fri       442         1    999         0   \n",
       "41175   no   cellular   nov         fri       239         3    999         1   \n",
       "\n",
       "          poutcome  emp.var.rate  cons.price.idx  cons.conf.idx  euribor3m  \\\n",
       "0      nonexistent           1.1          93.994          -36.4      4.857   \n",
       "1      nonexistent           1.1          93.994          -36.4      4.857   \n",
       "2      nonexistent           1.1          93.994          -36.4      4.857   \n",
       "3      nonexistent           1.1          93.994          -36.4      4.857   \n",
       "4      nonexistent           1.1          93.994          -36.4      4.857   \n",
       "...            ...           ...             ...            ...        ...   \n",
       "41171  nonexistent          -1.1          94.767          -50.8      1.028   \n",
       "41172  nonexistent          -1.1          94.767          -50.8      1.028   \n",
       "41173  nonexistent          -1.1          94.767          -50.8      1.028   \n",
       "41174  nonexistent          -1.1          94.767          -50.8      1.028   \n",
       "41175      failure          -1.1          94.767          -50.8      1.028   \n",
       "\n",
       "       nr.employed    y  \n",
       "0           5191.0   no  \n",
       "1           5191.0   no  \n",
       "2           5191.0   no  \n",
       "3           5191.0   no  \n",
       "4           5191.0   no  \n",
       "...            ...  ...  \n",
       "41171       4963.6  yes  \n",
       "41172       4963.6   no  \n",
       "41173       4963.6   no  \n",
       "41174       4963.6  yes  \n",
       "41175       4963.6   no  \n",
       "\n",
       "[41176 rows x 22 columns]"
      ]
     },
     "execution_count": 91,
     "metadata": {},
     "output_type": "execute_result"
    }
   ],
   "source": [
    "bank_marketing_df.drop_duplicates( inplace=True )\n",
    "bank_marketing_df.reset_index()"
   ]
  },
  {
   "cell_type": "code",
   "execution_count": 92,
   "id": "77cc53b4",
   "metadata": {},
   "outputs": [],
   "source": [
    "bank_marketing_df['job'].replace([\"admin.\",\"blue-collar\",\"entrepreneur\",\"housemaid\",\"management\",\"retired\",\"self-employed\",\"services\",\"student\",\"technician\",\"unemployed\",\"unknown\"],\n",
    "                                    range(bank_marketing_df['job'].unique().shape[0]), inplace=True)\n",
    "bank_marketing_df['marital'].replace([\"divorced\",\"married\",\"single\",\"unknown\"], \n",
    "                                     range(4), inplace=True)\n",
    "bank_marketing_df['education'].replace([\"basic.4y\",\"basic.6y\",\"basic.9y\",\"high.school\",\"illiterate\",\"professional.course\",\"university.degree\",\"unknown\"], \n",
    "                                       range(bank_marketing_df['education'].unique().shape[0]), inplace=True)\n",
    "bank_marketing_df['default'].replace([\"no\",\"yes\",\"unknown\"], range(3), inplace=True)\n",
    "bank_marketing_df['housing'].replace([\"no\",\"yes\",\"unknown\"], range(3), inplace=True)\n",
    "bank_marketing_df['loan'].replace([\"no\",\"yes\",\"unknown\"], range(3), inplace=True)\n",
    "bank_marketing_df['contact'].replace([\"cellular\",\"telephone\"], range(2), inplace=True)\n",
    "bank_marketing_df['month'].replace([\"jan\",\"feb\",\"mar\",\"apr\",\"may\",\"jun\",\"jul\",\"aug\",\"sep\",\"oct\",\"nov\",\"dec\"], range(12), inplace=True)\n",
    "bank_marketing_df['day_of_week'].replace([\"mon\",\"tue\",\"wed\",\"thu\",\"fri\"], range(5), inplace=True)\n",
    "bank_marketing_df['poutcome'].replace([\"failure\",\"nonexistent\",\"success\"], range(3), inplace=True)\n",
    "bank_marketing_df['y'].replace({\"yes\": 1, \"no\":0}, inplace=True)"
   ]
  },
  {
   "cell_type": "code",
   "execution_count": 93,
   "id": "39767ee9",
   "metadata": {},
   "outputs": [
    {
     "data": {
      "text/html": [
       "<div>\n",
       "<style scoped>\n",
       "    .dataframe tbody tr th:only-of-type {\n",
       "        vertical-align: middle;\n",
       "    }\n",
       "\n",
       "    .dataframe tbody tr th {\n",
       "        vertical-align: top;\n",
       "    }\n",
       "\n",
       "    .dataframe thead th {\n",
       "        text-align: right;\n",
       "    }\n",
       "</style>\n",
       "<table border=\"1\" class=\"dataframe\">\n",
       "  <thead>\n",
       "    <tr style=\"text-align: right;\">\n",
       "      <th></th>\n",
       "      <th>age</th>\n",
       "      <th>job</th>\n",
       "      <th>marital</th>\n",
       "      <th>education</th>\n",
       "      <th>default</th>\n",
       "      <th>housing</th>\n",
       "      <th>loan</th>\n",
       "      <th>contact</th>\n",
       "      <th>month</th>\n",
       "      <th>day_of_week</th>\n",
       "      <th>duration</th>\n",
       "      <th>campaign</th>\n",
       "      <th>pdays</th>\n",
       "      <th>previous</th>\n",
       "      <th>poutcome</th>\n",
       "      <th>emp.var.rate</th>\n",
       "      <th>cons.price.idx</th>\n",
       "      <th>cons.conf.idx</th>\n",
       "      <th>euribor3m</th>\n",
       "      <th>nr.employed</th>\n",
       "      <th>y</th>\n",
       "    </tr>\n",
       "  </thead>\n",
       "  <tbody>\n",
       "    <tr>\n",
       "      <th>0</th>\n",
       "      <td>56</td>\n",
       "      <td>3</td>\n",
       "      <td>1</td>\n",
       "      <td>0</td>\n",
       "      <td>0</td>\n",
       "      <td>0</td>\n",
       "      <td>0</td>\n",
       "      <td>1</td>\n",
       "      <td>4</td>\n",
       "      <td>0</td>\n",
       "      <td>261</td>\n",
       "      <td>1</td>\n",
       "      <td>999</td>\n",
       "      <td>0</td>\n",
       "      <td>1</td>\n",
       "      <td>1.1</td>\n",
       "      <td>93.994</td>\n",
       "      <td>-36.4</td>\n",
       "      <td>4.857</td>\n",
       "      <td>5191.0</td>\n",
       "      <td>0</td>\n",
       "    </tr>\n",
       "    <tr>\n",
       "      <th>1</th>\n",
       "      <td>57</td>\n",
       "      <td>7</td>\n",
       "      <td>1</td>\n",
       "      <td>3</td>\n",
       "      <td>2</td>\n",
       "      <td>0</td>\n",
       "      <td>0</td>\n",
       "      <td>1</td>\n",
       "      <td>4</td>\n",
       "      <td>0</td>\n",
       "      <td>149</td>\n",
       "      <td>1</td>\n",
       "      <td>999</td>\n",
       "      <td>0</td>\n",
       "      <td>1</td>\n",
       "      <td>1.1</td>\n",
       "      <td>93.994</td>\n",
       "      <td>-36.4</td>\n",
       "      <td>4.857</td>\n",
       "      <td>5191.0</td>\n",
       "      <td>0</td>\n",
       "    </tr>\n",
       "    <tr>\n",
       "      <th>2</th>\n",
       "      <td>37</td>\n",
       "      <td>7</td>\n",
       "      <td>1</td>\n",
       "      <td>3</td>\n",
       "      <td>0</td>\n",
       "      <td>1</td>\n",
       "      <td>0</td>\n",
       "      <td>1</td>\n",
       "      <td>4</td>\n",
       "      <td>0</td>\n",
       "      <td>226</td>\n",
       "      <td>1</td>\n",
       "      <td>999</td>\n",
       "      <td>0</td>\n",
       "      <td>1</td>\n",
       "      <td>1.1</td>\n",
       "      <td>93.994</td>\n",
       "      <td>-36.4</td>\n",
       "      <td>4.857</td>\n",
       "      <td>5191.0</td>\n",
       "      <td>0</td>\n",
       "    </tr>\n",
       "    <tr>\n",
       "      <th>3</th>\n",
       "      <td>40</td>\n",
       "      <td>0</td>\n",
       "      <td>1</td>\n",
       "      <td>1</td>\n",
       "      <td>0</td>\n",
       "      <td>0</td>\n",
       "      <td>0</td>\n",
       "      <td>1</td>\n",
       "      <td>4</td>\n",
       "      <td>0</td>\n",
       "      <td>151</td>\n",
       "      <td>1</td>\n",
       "      <td>999</td>\n",
       "      <td>0</td>\n",
       "      <td>1</td>\n",
       "      <td>1.1</td>\n",
       "      <td>93.994</td>\n",
       "      <td>-36.4</td>\n",
       "      <td>4.857</td>\n",
       "      <td>5191.0</td>\n",
       "      <td>0</td>\n",
       "    </tr>\n",
       "    <tr>\n",
       "      <th>4</th>\n",
       "      <td>56</td>\n",
       "      <td>7</td>\n",
       "      <td>1</td>\n",
       "      <td>3</td>\n",
       "      <td>0</td>\n",
       "      <td>0</td>\n",
       "      <td>1</td>\n",
       "      <td>1</td>\n",
       "      <td>4</td>\n",
       "      <td>0</td>\n",
       "      <td>307</td>\n",
       "      <td>1</td>\n",
       "      <td>999</td>\n",
       "      <td>0</td>\n",
       "      <td>1</td>\n",
       "      <td>1.1</td>\n",
       "      <td>93.994</td>\n",
       "      <td>-36.4</td>\n",
       "      <td>4.857</td>\n",
       "      <td>5191.0</td>\n",
       "      <td>0</td>\n",
       "    </tr>\n",
       "    <tr>\n",
       "      <th>5</th>\n",
       "      <td>45</td>\n",
       "      <td>7</td>\n",
       "      <td>1</td>\n",
       "      <td>2</td>\n",
       "      <td>2</td>\n",
       "      <td>0</td>\n",
       "      <td>0</td>\n",
       "      <td>1</td>\n",
       "      <td>4</td>\n",
       "      <td>0</td>\n",
       "      <td>198</td>\n",
       "      <td>1</td>\n",
       "      <td>999</td>\n",
       "      <td>0</td>\n",
       "      <td>1</td>\n",
       "      <td>1.1</td>\n",
       "      <td>93.994</td>\n",
       "      <td>-36.4</td>\n",
       "      <td>4.857</td>\n",
       "      <td>5191.0</td>\n",
       "      <td>0</td>\n",
       "    </tr>\n",
       "    <tr>\n",
       "      <th>6</th>\n",
       "      <td>59</td>\n",
       "      <td>0</td>\n",
       "      <td>1</td>\n",
       "      <td>5</td>\n",
       "      <td>0</td>\n",
       "      <td>0</td>\n",
       "      <td>0</td>\n",
       "      <td>1</td>\n",
       "      <td>4</td>\n",
       "      <td>0</td>\n",
       "      <td>139</td>\n",
       "      <td>1</td>\n",
       "      <td>999</td>\n",
       "      <td>0</td>\n",
       "      <td>1</td>\n",
       "      <td>1.1</td>\n",
       "      <td>93.994</td>\n",
       "      <td>-36.4</td>\n",
       "      <td>4.857</td>\n",
       "      <td>5191.0</td>\n",
       "      <td>0</td>\n",
       "    </tr>\n",
       "    <tr>\n",
       "      <th>7</th>\n",
       "      <td>41</td>\n",
       "      <td>1</td>\n",
       "      <td>1</td>\n",
       "      <td>7</td>\n",
       "      <td>2</td>\n",
       "      <td>0</td>\n",
       "      <td>0</td>\n",
       "      <td>1</td>\n",
       "      <td>4</td>\n",
       "      <td>0</td>\n",
       "      <td>217</td>\n",
       "      <td>1</td>\n",
       "      <td>999</td>\n",
       "      <td>0</td>\n",
       "      <td>1</td>\n",
       "      <td>1.1</td>\n",
       "      <td>93.994</td>\n",
       "      <td>-36.4</td>\n",
       "      <td>4.857</td>\n",
       "      <td>5191.0</td>\n",
       "      <td>0</td>\n",
       "    </tr>\n",
       "    <tr>\n",
       "      <th>8</th>\n",
       "      <td>24</td>\n",
       "      <td>9</td>\n",
       "      <td>2</td>\n",
       "      <td>5</td>\n",
       "      <td>0</td>\n",
       "      <td>1</td>\n",
       "      <td>0</td>\n",
       "      <td>1</td>\n",
       "      <td>4</td>\n",
       "      <td>0</td>\n",
       "      <td>380</td>\n",
       "      <td>1</td>\n",
       "      <td>999</td>\n",
       "      <td>0</td>\n",
       "      <td>1</td>\n",
       "      <td>1.1</td>\n",
       "      <td>93.994</td>\n",
       "      <td>-36.4</td>\n",
       "      <td>4.857</td>\n",
       "      <td>5191.0</td>\n",
       "      <td>0</td>\n",
       "    </tr>\n",
       "    <tr>\n",
       "      <th>9</th>\n",
       "      <td>25</td>\n",
       "      <td>7</td>\n",
       "      <td>2</td>\n",
       "      <td>3</td>\n",
       "      <td>0</td>\n",
       "      <td>1</td>\n",
       "      <td>0</td>\n",
       "      <td>1</td>\n",
       "      <td>4</td>\n",
       "      <td>0</td>\n",
       "      <td>50</td>\n",
       "      <td>1</td>\n",
       "      <td>999</td>\n",
       "      <td>0</td>\n",
       "      <td>1</td>\n",
       "      <td>1.1</td>\n",
       "      <td>93.994</td>\n",
       "      <td>-36.4</td>\n",
       "      <td>4.857</td>\n",
       "      <td>5191.0</td>\n",
       "      <td>0</td>\n",
       "    </tr>\n",
       "  </tbody>\n",
       "</table>\n",
       "</div>"
      ],
      "text/plain": [
       "   age  job  marital  education  default  housing  loan  contact  month  \\\n",
       "0   56    3        1          0        0        0     0        1      4   \n",
       "1   57    7        1          3        2        0     0        1      4   \n",
       "2   37    7        1          3        0        1     0        1      4   \n",
       "3   40    0        1          1        0        0     0        1      4   \n",
       "4   56    7        1          3        0        0     1        1      4   \n",
       "5   45    7        1          2        2        0     0        1      4   \n",
       "6   59    0        1          5        0        0     0        1      4   \n",
       "7   41    1        1          7        2        0     0        1      4   \n",
       "8   24    9        2          5        0        1     0        1      4   \n",
       "9   25    7        2          3        0        1     0        1      4   \n",
       "\n",
       "   day_of_week  duration  campaign  pdays  previous  poutcome  emp.var.rate  \\\n",
       "0            0       261         1    999         0         1           1.1   \n",
       "1            0       149         1    999         0         1           1.1   \n",
       "2            0       226         1    999         0         1           1.1   \n",
       "3            0       151         1    999         0         1           1.1   \n",
       "4            0       307         1    999         0         1           1.1   \n",
       "5            0       198         1    999         0         1           1.1   \n",
       "6            0       139         1    999         0         1           1.1   \n",
       "7            0       217         1    999         0         1           1.1   \n",
       "8            0       380         1    999         0         1           1.1   \n",
       "9            0        50         1    999         0         1           1.1   \n",
       "\n",
       "   cons.price.idx  cons.conf.idx  euribor3m  nr.employed  y  \n",
       "0          93.994          -36.4      4.857       5191.0  0  \n",
       "1          93.994          -36.4      4.857       5191.0  0  \n",
       "2          93.994          -36.4      4.857       5191.0  0  \n",
       "3          93.994          -36.4      4.857       5191.0  0  \n",
       "4          93.994          -36.4      4.857       5191.0  0  \n",
       "5          93.994          -36.4      4.857       5191.0  0  \n",
       "6          93.994          -36.4      4.857       5191.0  0  \n",
       "7          93.994          -36.4      4.857       5191.0  0  \n",
       "8          93.994          -36.4      4.857       5191.0  0  \n",
       "9          93.994          -36.4      4.857       5191.0  0  "
      ]
     },
     "execution_count": 93,
     "metadata": {},
     "output_type": "execute_result"
    }
   ],
   "source": [
    "bank_marketing_df.head(10)"
   ]
  },
  {
   "cell_type": "code",
   "execution_count": 94,
   "id": "8b811d59",
   "metadata": {},
   "outputs": [
    {
     "name": "stdout",
     "output_type": "stream",
     "text": [
      "<class 'pandas.core.frame.DataFrame'>\n",
      "Int64Index: 41176 entries, 0 to 41187\n",
      "Data columns (total 21 columns):\n",
      " #   Column          Non-Null Count  Dtype  \n",
      "---  ------          --------------  -----  \n",
      " 0   age             41176 non-null  int64  \n",
      " 1   job             41176 non-null  int64  \n",
      " 2   marital         41176 non-null  int64  \n",
      " 3   education       41176 non-null  int64  \n",
      " 4   default         41176 non-null  int64  \n",
      " 5   housing         41176 non-null  int64  \n",
      " 6   loan            41176 non-null  int64  \n",
      " 7   contact         41176 non-null  int64  \n",
      " 8   month           41176 non-null  int64  \n",
      " 9   day_of_week     41176 non-null  int64  \n",
      " 10  duration        41176 non-null  int64  \n",
      " 11  campaign        41176 non-null  int64  \n",
      " 12  pdays           41176 non-null  int64  \n",
      " 13  previous        41176 non-null  int64  \n",
      " 14  poutcome        41176 non-null  int64  \n",
      " 15  emp.var.rate    41176 non-null  float64\n",
      " 16  cons.price.idx  41176 non-null  float64\n",
      " 17  cons.conf.idx   41176 non-null  float64\n",
      " 18  euribor3m       41176 non-null  float64\n",
      " 19  nr.employed     41176 non-null  float64\n",
      " 20  y               41176 non-null  int64  \n",
      "dtypes: float64(5), int64(16)\n",
      "memory usage: 6.9 MB\n"
     ]
    }
   ],
   "source": [
    "bank_marketing_df.info()"
   ]
  },
  {
   "cell_type": "code",
   "execution_count": 95,
   "id": "c1c5d48c",
   "metadata": {},
   "outputs": [
    {
     "data": {
      "text/html": [
       "<div>\n",
       "<style scoped>\n",
       "    .dataframe tbody tr th:only-of-type {\n",
       "        vertical-align: middle;\n",
       "    }\n",
       "\n",
       "    .dataframe tbody tr th {\n",
       "        vertical-align: top;\n",
       "    }\n",
       "\n",
       "    .dataframe thead th {\n",
       "        text-align: right;\n",
       "    }\n",
       "</style>\n",
       "<table border=\"1\" class=\"dataframe\">\n",
       "  <thead>\n",
       "    <tr style=\"text-align: right;\">\n",
       "      <th></th>\n",
       "      <th>age</th>\n",
       "      <th>job</th>\n",
       "      <th>marital</th>\n",
       "      <th>education</th>\n",
       "      <th>default</th>\n",
       "      <th>housing</th>\n",
       "      <th>loan</th>\n",
       "      <th>contact</th>\n",
       "      <th>month</th>\n",
       "      <th>day_of_week</th>\n",
       "      <th>duration</th>\n",
       "      <th>campaign</th>\n",
       "      <th>pdays</th>\n",
       "      <th>previous</th>\n",
       "      <th>poutcome</th>\n",
       "      <th>emp.var.rate</th>\n",
       "      <th>cons.price.idx</th>\n",
       "      <th>cons.conf.idx</th>\n",
       "      <th>euribor3m</th>\n",
       "      <th>nr.employed</th>\n",
       "      <th>y</th>\n",
       "    </tr>\n",
       "  </thead>\n",
       "  <tbody>\n",
       "    <tr>\n",
       "      <th>count</th>\n",
       "      <td>41176.00000</td>\n",
       "      <td>41176.000000</td>\n",
       "      <td>41176.000000</td>\n",
       "      <td>41176.000000</td>\n",
       "      <td>41176.000000</td>\n",
       "      <td>41176.000000</td>\n",
       "      <td>41176.000000</td>\n",
       "      <td>41176.000000</td>\n",
       "      <td>41176.000000</td>\n",
       "      <td>41176.000000</td>\n",
       "      <td>41176.000000</td>\n",
       "      <td>41176.000000</td>\n",
       "      <td>41176.000000</td>\n",
       "      <td>41176.000000</td>\n",
       "      <td>41176.000000</td>\n",
       "      <td>41176.000000</td>\n",
       "      <td>41176.000000</td>\n",
       "      <td>41176.000000</td>\n",
       "      <td>41176.000000</td>\n",
       "      <td>41176.000000</td>\n",
       "      <td>41176.000000</td>\n",
       "    </tr>\n",
       "    <tr>\n",
       "      <th>mean</th>\n",
       "      <td>40.02380</td>\n",
       "      <td>3.724184</td>\n",
       "      <td>1.172746</td>\n",
       "      <td>3.746916</td>\n",
       "      <td>0.417598</td>\n",
       "      <td>0.571959</td>\n",
       "      <td>0.199825</td>\n",
       "      <td>0.365286</td>\n",
       "      <td>5.607733</td>\n",
       "      <td>1.979600</td>\n",
       "      <td>258.315815</td>\n",
       "      <td>2.567879</td>\n",
       "      <td>962.464810</td>\n",
       "      <td>0.173013</td>\n",
       "      <td>0.930081</td>\n",
       "      <td>0.081922</td>\n",
       "      <td>93.575720</td>\n",
       "      <td>-40.502863</td>\n",
       "      <td>3.621293</td>\n",
       "      <td>5167.034870</td>\n",
       "      <td>0.112663</td>\n",
       "    </tr>\n",
       "    <tr>\n",
       "      <th>std</th>\n",
       "      <td>10.42068</td>\n",
       "      <td>3.594459</td>\n",
       "      <td>0.608905</td>\n",
       "      <td>2.136539</td>\n",
       "      <td>0.812866</td>\n",
       "      <td>0.541216</td>\n",
       "      <td>0.456055</td>\n",
       "      <td>0.481516</td>\n",
       "      <td>2.041013</td>\n",
       "      <td>1.411539</td>\n",
       "      <td>259.305321</td>\n",
       "      <td>2.770318</td>\n",
       "      <td>186.937102</td>\n",
       "      <td>0.494964</td>\n",
       "      <td>0.362937</td>\n",
       "      <td>1.570883</td>\n",
       "      <td>0.578839</td>\n",
       "      <td>4.627860</td>\n",
       "      <td>1.734437</td>\n",
       "      <td>72.251364</td>\n",
       "      <td>0.316184</td>\n",
       "    </tr>\n",
       "    <tr>\n",
       "      <th>min</th>\n",
       "      <td>17.00000</td>\n",
       "      <td>0.000000</td>\n",
       "      <td>0.000000</td>\n",
       "      <td>0.000000</td>\n",
       "      <td>0.000000</td>\n",
       "      <td>0.000000</td>\n",
       "      <td>0.000000</td>\n",
       "      <td>0.000000</td>\n",
       "      <td>2.000000</td>\n",
       "      <td>0.000000</td>\n",
       "      <td>0.000000</td>\n",
       "      <td>1.000000</td>\n",
       "      <td>0.000000</td>\n",
       "      <td>0.000000</td>\n",
       "      <td>0.000000</td>\n",
       "      <td>-3.400000</td>\n",
       "      <td>92.201000</td>\n",
       "      <td>-50.800000</td>\n",
       "      <td>0.634000</td>\n",
       "      <td>4963.600000</td>\n",
       "      <td>0.000000</td>\n",
       "    </tr>\n",
       "    <tr>\n",
       "      <th>25%</th>\n",
       "      <td>32.00000</td>\n",
       "      <td>0.000000</td>\n",
       "      <td>1.000000</td>\n",
       "      <td>2.000000</td>\n",
       "      <td>0.000000</td>\n",
       "      <td>0.000000</td>\n",
       "      <td>0.000000</td>\n",
       "      <td>0.000000</td>\n",
       "      <td>4.000000</td>\n",
       "      <td>1.000000</td>\n",
       "      <td>102.000000</td>\n",
       "      <td>1.000000</td>\n",
       "      <td>999.000000</td>\n",
       "      <td>0.000000</td>\n",
       "      <td>1.000000</td>\n",
       "      <td>-1.800000</td>\n",
       "      <td>93.075000</td>\n",
       "      <td>-42.700000</td>\n",
       "      <td>1.344000</td>\n",
       "      <td>5099.100000</td>\n",
       "      <td>0.000000</td>\n",
       "    </tr>\n",
       "    <tr>\n",
       "      <th>50%</th>\n",
       "      <td>38.00000</td>\n",
       "      <td>2.000000</td>\n",
       "      <td>1.000000</td>\n",
       "      <td>3.000000</td>\n",
       "      <td>0.000000</td>\n",
       "      <td>1.000000</td>\n",
       "      <td>0.000000</td>\n",
       "      <td>0.000000</td>\n",
       "      <td>5.000000</td>\n",
       "      <td>2.000000</td>\n",
       "      <td>180.000000</td>\n",
       "      <td>2.000000</td>\n",
       "      <td>999.000000</td>\n",
       "      <td>0.000000</td>\n",
       "      <td>1.000000</td>\n",
       "      <td>1.100000</td>\n",
       "      <td>93.749000</td>\n",
       "      <td>-41.800000</td>\n",
       "      <td>4.857000</td>\n",
       "      <td>5191.000000</td>\n",
       "      <td>0.000000</td>\n",
       "    </tr>\n",
       "    <tr>\n",
       "      <th>75%</th>\n",
       "      <td>47.00000</td>\n",
       "      <td>7.000000</td>\n",
       "      <td>2.000000</td>\n",
       "      <td>6.000000</td>\n",
       "      <td>0.000000</td>\n",
       "      <td>1.000000</td>\n",
       "      <td>0.000000</td>\n",
       "      <td>1.000000</td>\n",
       "      <td>7.000000</td>\n",
       "      <td>3.000000</td>\n",
       "      <td>319.000000</td>\n",
       "      <td>3.000000</td>\n",
       "      <td>999.000000</td>\n",
       "      <td>0.000000</td>\n",
       "      <td>1.000000</td>\n",
       "      <td>1.400000</td>\n",
       "      <td>93.994000</td>\n",
       "      <td>-36.400000</td>\n",
       "      <td>4.961000</td>\n",
       "      <td>5228.100000</td>\n",
       "      <td>0.000000</td>\n",
       "    </tr>\n",
       "    <tr>\n",
       "      <th>max</th>\n",
       "      <td>98.00000</td>\n",
       "      <td>11.000000</td>\n",
       "      <td>3.000000</td>\n",
       "      <td>7.000000</td>\n",
       "      <td>2.000000</td>\n",
       "      <td>2.000000</td>\n",
       "      <td>2.000000</td>\n",
       "      <td>1.000000</td>\n",
       "      <td>11.000000</td>\n",
       "      <td>4.000000</td>\n",
       "      <td>4918.000000</td>\n",
       "      <td>56.000000</td>\n",
       "      <td>999.000000</td>\n",
       "      <td>7.000000</td>\n",
       "      <td>2.000000</td>\n",
       "      <td>1.400000</td>\n",
       "      <td>94.767000</td>\n",
       "      <td>-26.900000</td>\n",
       "      <td>5.045000</td>\n",
       "      <td>5228.100000</td>\n",
       "      <td>1.000000</td>\n",
       "    </tr>\n",
       "  </tbody>\n",
       "</table>\n",
       "</div>"
      ],
      "text/plain": [
       "               age           job       marital     education       default  \\\n",
       "count  41176.00000  41176.000000  41176.000000  41176.000000  41176.000000   \n",
       "mean      40.02380      3.724184      1.172746      3.746916      0.417598   \n",
       "std       10.42068      3.594459      0.608905      2.136539      0.812866   \n",
       "min       17.00000      0.000000      0.000000      0.000000      0.000000   \n",
       "25%       32.00000      0.000000      1.000000      2.000000      0.000000   \n",
       "50%       38.00000      2.000000      1.000000      3.000000      0.000000   \n",
       "75%       47.00000      7.000000      2.000000      6.000000      0.000000   \n",
       "max       98.00000     11.000000      3.000000      7.000000      2.000000   \n",
       "\n",
       "            housing          loan       contact         month   day_of_week  \\\n",
       "count  41176.000000  41176.000000  41176.000000  41176.000000  41176.000000   \n",
       "mean       0.571959      0.199825      0.365286      5.607733      1.979600   \n",
       "std        0.541216      0.456055      0.481516      2.041013      1.411539   \n",
       "min        0.000000      0.000000      0.000000      2.000000      0.000000   \n",
       "25%        0.000000      0.000000      0.000000      4.000000      1.000000   \n",
       "50%        1.000000      0.000000      0.000000      5.000000      2.000000   \n",
       "75%        1.000000      0.000000      1.000000      7.000000      3.000000   \n",
       "max        2.000000      2.000000      1.000000     11.000000      4.000000   \n",
       "\n",
       "           duration      campaign         pdays      previous      poutcome  \\\n",
       "count  41176.000000  41176.000000  41176.000000  41176.000000  41176.000000   \n",
       "mean     258.315815      2.567879    962.464810      0.173013      0.930081   \n",
       "std      259.305321      2.770318    186.937102      0.494964      0.362937   \n",
       "min        0.000000      1.000000      0.000000      0.000000      0.000000   \n",
       "25%      102.000000      1.000000    999.000000      0.000000      1.000000   \n",
       "50%      180.000000      2.000000    999.000000      0.000000      1.000000   \n",
       "75%      319.000000      3.000000    999.000000      0.000000      1.000000   \n",
       "max     4918.000000     56.000000    999.000000      7.000000      2.000000   \n",
       "\n",
       "       emp.var.rate  cons.price.idx  cons.conf.idx     euribor3m  \\\n",
       "count  41176.000000    41176.000000   41176.000000  41176.000000   \n",
       "mean       0.081922       93.575720     -40.502863      3.621293   \n",
       "std        1.570883        0.578839       4.627860      1.734437   \n",
       "min       -3.400000       92.201000     -50.800000      0.634000   \n",
       "25%       -1.800000       93.075000     -42.700000      1.344000   \n",
       "50%        1.100000       93.749000     -41.800000      4.857000   \n",
       "75%        1.400000       93.994000     -36.400000      4.961000   \n",
       "max        1.400000       94.767000     -26.900000      5.045000   \n",
       "\n",
       "        nr.employed             y  \n",
       "count  41176.000000  41176.000000  \n",
       "mean    5167.034870      0.112663  \n",
       "std       72.251364      0.316184  \n",
       "min     4963.600000      0.000000  \n",
       "25%     5099.100000      0.000000  \n",
       "50%     5191.000000      0.000000  \n",
       "75%     5228.100000      0.000000  \n",
       "max     5228.100000      1.000000  "
      ]
     },
     "execution_count": 95,
     "metadata": {},
     "output_type": "execute_result"
    }
   ],
   "source": [
    "bank_marketing_df.describe()"
   ]
  },
  {
   "cell_type": "code",
   "execution_count": 96,
   "id": "f0220fa1",
   "metadata": {},
   "outputs": [],
   "source": [
    "X = bank_marketing_df.iloc[:, :-1].values\n",
    "y = bank_marketing_df.iloc[:, -1].values"
   ]
  },
  {
   "cell_type": "code",
   "execution_count": 97,
   "id": "891fec44",
   "metadata": {},
   "outputs": [
    {
     "name": "stdout",
     "output_type": "stream",
     "text": [
      "Shape of X i y: (41176, 20) and (41176,) .\n",
      "Data type of y: int64 .\n"
     ]
    }
   ],
   "source": [
    "print( 'Shape of X i y:', X.shape, 'and', y.shape, '.' )\n",
    "print( 'Data type of y:', y.dtype, '.' )"
   ]
  },
  {
   "cell_type": "code",
   "execution_count": 98,
   "id": "43fd403e",
   "metadata": {},
   "outputs": [],
   "source": [
    "X_norm = np.copy(X)\n",
    "X_mean, X_std = np.mean(X_norm, axis=0), np.std(X_norm, axis=0)\n",
    "X_norm[:, 0] = ( X_norm[:, 0] - X_mean[0] ) / X_std[0]\n",
    "X_norm[:, 10:14] = ( X_norm[:, 10:14] - X_mean[10:14] ) / X_std[10:14]\n",
    "X_norm[:, 15:20] = ( X_norm[:, 15:20] - X_mean[15:20] ) / X_std[15:20]"
   ]
  },
  {
   "cell_type": "markdown",
   "id": "c569a841",
   "metadata": {},
   "source": [
    "### Prepared functions:"
   ]
  },
  {
   "cell_type": "code",
   "execution_count": 99,
   "id": "c878a02e",
   "metadata": {},
   "outputs": [],
   "source": [
    "def sigmoid(z):\n",
    "    return np.exp(-np.logaddexp(1e-16, -z))"
   ]
  },
  {
   "cell_type": "code",
   "execution_count": 100,
   "id": "329dd52e",
   "metadata": {},
   "outputs": [],
   "source": [
    "def CostFunction(X, y, theta):\n",
    "    \n",
    "    m = y.shape[0];\n",
    "    z = np.dot(theta[1:], X.T) + theta[0]\n",
    "    h_theta = sigmoid(z)\n",
    "    \n",
    "    J  = - ( y.T.dot( np.log(h_theta) ) + (1 - y).T.dot( np.log(1-h_theta) ) ) /m\n",
    "    diff = (h_theta - y) /m # dJ0\n",
    "    dJ = (diff).T.dot(X) /m\n",
    "    \n",
    "    return J, diff, dJ"
   ]
  },
  {
   "cell_type": "code",
   "execution_count": 101,
   "id": "38e5673a",
   "metadata": {},
   "outputs": [],
   "source": [
    "def predict(X, theta):\n",
    "    z = np.dot(theta[1:], X.T) + theta[0]\n",
    "    h_theta = sigmoid(z)\n",
    "    return np.where(h_theta >= 0.5, 1, 0)"
   ]
  },
  {
   "cell_type": "code",
   "execution_count": 102,
   "id": "2dbd0c3f",
   "metadata": {},
   "outputs": [],
   "source": [
    "def get_accuracy(y_true, y_pred):\n",
    "    return np.sum(y_true == y_pred) / y_true.shape[0]"
   ]
  },
  {
   "cell_type": "code",
   "execution_count": 103,
   "id": "21f3954c",
   "metadata": {},
   "outputs": [],
   "source": [
    "def plot_confusion_matrix(y_true, predicts, acc):\n",
    "    print('Confusion matrix:')\n",
    "    cm = metrics.confusion_matrix(y_true, predicts)\n",
    "    sn.heatmap(cm, annot=True, cmap=\"crest\")\n",
    "    plt.ylabel('Actual classes', size=15)\n",
    "    plt.xlabel('Predicted classes', size=15)\n",
    "    plt.title(f'Accuracy: {acc*100:.2f}%', size=15)\n",
    "    plt.rcParams[\"figure.figsize\"] = HEIGHT, WEIGHT\n",
    "    plt.show()\n",
    "    print('\\n Classification report:\\n\\n', metrics.classification_report(y_true, predicts))"
   ]
  },
  {
   "cell_type": "markdown",
   "id": "0e894934",
   "metadata": {},
   "source": [
    "### Gradient Descent:"
   ]
  },
  {
   "cell_type": "code",
   "execution_count": 104,
   "id": "cf328e91",
   "metadata": {},
   "outputs": [],
   "source": [
    "def GradientDescent( X, y, in_theta, alpha=0.1, num_iter=50 ):\n",
    "    theta = in_theta.copy()\n",
    "    \n",
    "    for _ in range(num_iter):\n",
    "        J, dJ0, dJ = CostFunction(X, y, theta)\n",
    "        theta[0] = theta[0] - alpha * dJ0.sum()\n",
    "        theta[1:] = theta[1:] - alpha * dJ\n",
    "    \n",
    "    return theta, J"
   ]
  },
  {
   "cell_type": "markdown",
   "id": "577f463e",
   "metadata": {},
   "source": [
    "Parameters: *BATCH_SIZE* for SGD equal 32, *SAMPLING_FRACTION* for *undersampling'u* equal 0.5:"
   ]
  },
  {
   "cell_type": "code",
   "execution_count": 105,
   "id": "e32673f1",
   "metadata": {},
   "outputs": [],
   "source": [
    "ALPHA = 0.005\n",
    "NUM_ITER = 1800\n",
    "BATCH_SIZE = 32\n",
    "SAMPLING_FRACTION = 0.5"
   ]
  },
  {
   "cell_type": "markdown",
   "id": "3d51c64b",
   "metadata": {},
   "source": [
    "**Hypothesis $\\theta_{0}$**:"
   ]
  },
  {
   "cell_type": "code",
   "execution_count": 106,
   "id": "4e33b2e3",
   "metadata": {},
   "outputs": [
    {
     "name": "stdout",
     "output_type": "stream",
     "text": [
      "Hypothesis:\n",
      " [0.87987503 0.4772632  0.25901715 0.2157241  0.80882289 0.33201407\n",
      " 0.1507447  0.4678518  0.33522811 0.54190479 0.68920944 0.88535745\n",
      " 0.08801538 0.92160054 0.06370307 0.68404335 0.05739797 0.66129099\n",
      " 0.4435956  0.5121189  0.8715491 ]\n"
     ]
    }
   ],
   "source": [
    "m, n    = X_norm.shape\n",
    "theta_0 = np.random.rand(n+1)\n",
    "print('Hypothesis:\\n', theta_0[:])"
   ]
  },
  {
   "cell_type": "code",
   "execution_count": 107,
   "id": "94ef9674",
   "metadata": {},
   "outputs": [
    {
     "name": "stdout",
     "output_type": "stream",
     "text": [
      "7.98 s ± 241 ms per loop (mean ± std. dev. of 3 runs, 5 loops each)\n",
      "Runned 3x5 executions.\n"
     ]
    }
   ],
   "source": [
    "time_GD = %timeit -r 3 -n 5 -o GradientDescent(X_norm, y, theta_0, ALPHA, NUM_ITER)\n",
    "print( 'Runned 3x5 executions.' )"
   ]
  },
  {
   "cell_type": "code",
   "execution_count": 108,
   "id": "1edfc0e4",
   "metadata": {},
   "outputs": [],
   "source": [
    "theta_opt_GD, J_opt_GD = GradientDescent(X_norm, y, theta_0, ALPHA, NUM_ITER)"
   ]
  },
  {
   "cell_type": "code",
   "execution_count": 109,
   "id": "8e2c9588",
   "metadata": {},
   "outputs": [
    {
     "name": "stdout",
     "output_type": "stream",
     "text": [
      "Minimum found by algorithm: 3.5832221261379598\n"
     ]
    }
   ],
   "source": [
    "print( 'Minimum found by algorithm:', J_opt_GD )"
   ]
  },
  {
   "cell_type": "code",
   "execution_count": 110,
   "id": "1cf586a8",
   "metadata": {},
   "outputs": [],
   "source": [
    "y_pred_GD = predict(X_norm, theta_opt_GD)"
   ]
  },
  {
   "cell_type": "code",
   "execution_count": 111,
   "id": "43423d41",
   "metadata": {},
   "outputs": [
    {
     "name": "stdout",
     "output_type": "stream",
     "text": [
      "Accuracy: 0.233413\n"
     ]
    }
   ],
   "source": [
    "accuracy_GD = get_accuracy(y, y_pred_GD)\n",
    "print( f'Accuracy: {accuracy_GD:.6f}' )"
   ]
  },
  {
   "cell_type": "code",
   "execution_count": 112,
   "id": "ba8d8118",
   "metadata": {},
   "outputs": [
    {
     "name": "stdout",
     "output_type": "stream",
     "text": [
      "Confusion matrix:\n"
     ]
    },
    {
     "data": {
      "image/png": "[encoded data removed]",
      "text/plain": [
       "<Figure size 800x550 with 2 Axes>"
      ]
     },
     "metadata": {},
     "output_type": "display_data"
    },
    {
     "name": "stdout",
     "output_type": "stream",
     "text": [
      "\n",
      " Classification report:\n",
      "\n",
      "               precision    recall  f1-score   support\n",
      "\n",
      "           0       0.82      0.18      0.29     36537\n",
      "           1       0.10      0.69      0.17      4639\n",
      "\n",
      "    accuracy                           0.23     41176\n",
      "   macro avg       0.46      0.43      0.23     41176\n",
      "weighted avg       0.73      0.23      0.28     41176\n",
      "\n"
     ]
    }
   ],
   "source": [
    "plot_confusion_matrix(y, y_pred_GD, accuracy_GD)"
   ]
  },
  {
   "cell_type": "markdown",
   "id": "533b35c5",
   "metadata": {},
   "source": [
    "### Stochastic Gradient Descent:"
   ]
  },
  {
   "cell_type": "code",
   "execution_count": 113,
   "id": "77f3aa6d",
   "metadata": {},
   "outputs": [],
   "source": [
    "def StochasticGradientDescent( in_X, in_y, in_theta, alpha=0.1, num_iter=50, batch_size=8 ):\n",
    "    X = in_X.copy()\n",
    "    y = in_y.copy()\n",
    "    theta = in_theta.copy()\n",
    "    X_len = X.shape[0]\n",
    "    idx = np.arange(X_len)\n",
    "    num_iter = math.ceil( num_iter/batch_size ) # reduction in respect to batching\n",
    "    \n",
    "    for _ in range(num_iter):\n",
    "        idx = np.random.permutation(idx)\n",
    "        X, y = X[idx], y[idx]\n",
    "        for start in range(0, X_len, batch_size):\n",
    "            stop = start + batch_size\n",
    "            J, dJ0, dJ = CostFunction( X[start:stop,:], y[start:stop], theta )\n",
    "            theta[0] = theta[0] - alpha * dJ0.sum()\n",
    "            theta[1:] = theta[1:] - alpha * dJ\n",
    "    \n",
    "    return theta, J"
   ]
  },
  {
   "cell_type": "code",
   "execution_count": 114,
   "id": "f4477d62",
   "metadata": {},
   "outputs": [
    {
     "name": "stdout",
     "output_type": "stream",
     "text": [
      "3.53 s ± 82.8 ms per loop (mean ± std. dev. of 3 runs, 5 loops each)\n",
      "Runned 3x5 executions.\n"
     ]
    }
   ],
   "source": [
    "time_SGD = %timeit -r 3 -n 5 -o StochasticGradientDescent(X_norm, y, theta_0, ALPHA, NUM_ITER, BATCH_SIZE)\n",
    "print( 'Runned 3x5 executions.' )"
   ]
  },
  {
   "cell_type": "code",
   "execution_count": 115,
   "id": "659a93bb",
   "metadata": {},
   "outputs": [],
   "source": [
    "theta_opt_SGD, J_opt_SGD = StochasticGradientDescent(X_norm, y, theta_0, ALPHA, NUM_ITER, BATCH_SIZE)"
   ]
  },
  {
   "cell_type": "code",
   "execution_count": 116,
   "id": "212a5632",
   "metadata": {},
   "outputs": [
    {
     "name": "stdout",
     "output_type": "stream",
     "text": [
      "Minimum found by algorithm: 0.31442236271130897\n"
     ]
    }
   ],
   "source": [
    "print( 'Minimum found by algorithm:', J_opt_SGD )"
   ]
  },
  {
   "cell_type": "code",
   "execution_count": 117,
   "id": "35fcaf67",
   "metadata": {},
   "outputs": [],
   "source": [
    "y_pred_SGD = predict(X_norm, theta_opt_SGD)"
   ]
  },
  {
   "cell_type": "code",
   "execution_count": 118,
   "id": "d677be6d",
   "metadata": {},
   "outputs": [
    {
     "name": "stdout",
     "output_type": "stream",
     "text": [
      "Accuracy: 0.902905\n"
     ]
    }
   ],
   "source": [
    "accuracy_SGD = get_accuracy(y, y_pred_SGD)\n",
    "print( f'Accuracy: {accuracy_SGD:.6f}' )"
   ]
  },
  {
   "cell_type": "code",
   "execution_count": 119,
   "id": "5e9b2609",
   "metadata": {},
   "outputs": [
    {
     "name": "stdout",
     "output_type": "stream",
     "text": [
      "Confusion matrix:\n"
     ]
    },
    {
     "data": {
      "image/png": "[encoded data removed]",
      "text/plain": [
       "<Figure size 1000x700 with 2 Axes>"
      ]
     },
     "metadata": {},
     "output_type": "display_data"
    },
    {
     "name": "stdout",
     "output_type": "stream",
     "text": [
      "\n",
      " Classification report:\n",
      "\n",
      "               precision    recall  f1-score   support\n",
      "\n",
      "           0       0.92      0.98      0.95     36537\n",
      "           1       0.63      0.33      0.43      4639\n",
      "\n",
      "    accuracy                           0.90     41176\n",
      "   macro avg       0.78      0.65      0.69     41176\n",
      "weighted avg       0.89      0.90      0.89     41176\n",
      "\n"
     ]
    }
   ],
   "source": [
    "plot_confusion_matrix(y, y_pred_SGD, accuracy_SGD)"
   ]
  },
  {
   "cell_type": "markdown",
   "id": "18f7c38a",
   "metadata": {},
   "source": [
    "### Undersampling:"
   ]
  },
  {
   "cell_type": "code",
   "execution_count": 120,
   "id": "cc5c26cb",
   "metadata": {},
   "outputs": [
    {
     "name": "stdout",
     "output_type": "stream",
     "text": [
      "Are the samples in the new set repeated: False\n"
     ]
    }
   ],
   "source": [
    "NUM_SAMPLES = int( m*SAMPLING_FRACTION )\n",
    "idx_sampled = np.random.choice( m, size=NUM_SAMPLES, replace=False )\n",
    "\n",
    "# check that each item occurs only once\n",
    "print( \"Are the samples in the new set repeated:\", ( np.bincount(idx_sampled.ravel()) == 1 ).all() )"
   ]
  },
  {
   "cell_type": "code",
   "execution_count": 121,
   "id": "ba8a05ca",
   "metadata": {},
   "outputs": [],
   "source": [
    "X_sampled, y_sampled = X_norm[idx_sampled,:], y[idx_sampled]"
   ]
  },
  {
   "cell_type": "code",
   "execution_count": 122,
   "id": "17e18796",
   "metadata": {},
   "outputs": [
    {
     "name": "stdout",
     "output_type": "stream",
     "text": [
      "3.41 s ± 4.58 ms per loop (mean ± std. dev. of 3 runs, 5 loops each)\n",
      "Runned 3x5 executions.\n"
     ]
    }
   ],
   "source": [
    "time_Sampl = %timeit -r 3 -n 5 -o GradientDescent(X_sampled, y_sampled, theta_0, ALPHA, NUM_ITER)\n",
    "print( 'Runned 3x5 executions.' )"
   ]
  },
  {
   "cell_type": "code",
   "execution_count": 123,
   "id": "360a3eea",
   "metadata": {},
   "outputs": [],
   "source": [
    "theta_opt_Sampl, J_opt_Sampl = GradientDescent(X_sampled, y_sampled, theta_0, ALPHA, NUM_ITER)"
   ]
  },
  {
   "cell_type": "code",
   "execution_count": 124,
   "id": "151bf572",
   "metadata": {},
   "outputs": [
    {
     "name": "stdout",
     "output_type": "stream",
     "text": [
      "Minimum found by algorithm: 3.5742954841956154\n"
     ]
    }
   ],
   "source": [
    "print( 'Minimum found by algorithm:', J_opt_Sampl )"
   ]
  },
  {
   "cell_type": "code",
   "execution_count": 125,
   "id": "cf935d98",
   "metadata": {},
   "outputs": [],
   "source": [
    "y_pred_Sampl = predict(X_norm, theta_opt_Sampl)"
   ]
  },
  {
   "cell_type": "code",
   "execution_count": 126,
   "id": "a2087dfe",
   "metadata": {},
   "outputs": [
    {
     "name": "stdout",
     "output_type": "stream",
     "text": [
      "Accuracy: 0.233631\n"
     ]
    }
   ],
   "source": [
    "accuracy_Sampl = get_accuracy(y, y_pred_Sampl)\n",
    "print( f'Accuracy: {accuracy_Sampl:.6f}' )"
   ]
  },
  {
   "cell_type": "code",
   "execution_count": 127,
   "id": "03c8075d",
   "metadata": {},
   "outputs": [
    {
     "name": "stdout",
     "output_type": "stream",
     "text": [
      "Confusion matrix:\n"
     ]
    },
    {
     "data": {
      "image/png": "[encoded data removed]",
      "text/plain": [
       "<Figure size 1000x700 with 2 Axes>"
      ]
     },
     "metadata": {},
     "output_type": "display_data"
    },
    {
     "name": "stdout",
     "output_type": "stream",
     "text": [
      "\n",
      " Classification report:\n",
      "\n",
      "               precision    recall  f1-score   support\n",
      "\n",
      "           0       0.82      0.18      0.29     36537\n",
      "           1       0.10      0.69      0.17      4639\n",
      "\n",
      "    accuracy                           0.23     41176\n",
      "   macro avg       0.46      0.43      0.23     41176\n",
      "weighted avg       0.73      0.23      0.28     41176\n",
      "\n"
     ]
    }
   ],
   "source": [
    "plot_confusion_matrix(y, y_pred_Sampl, accuracy_Sampl)"
   ]
  },
  {
   "cell_type": "code",
   "execution_count": 128,
   "id": "9d5d4d6f",
   "metadata": {},
   "outputs": [],
   "source": [
    "methods_names = ['GD', 'SGD', 'Sampled']"
   ]
  },
  {
   "cell_type": "code",
   "execution_count": 129,
   "id": "6a2afd1c",
   "metadata": {},
   "outputs": [
    {
     "data": {
      "image/png": "[encoded data removed]",
      "text/plain": [
       "<Figure size 1000x700 with 1 Axes>"
      ]
     },
     "metadata": {},
     "output_type": "display_data"
    }
   ],
   "source": [
    "plt.plot([J_opt_GD, J_opt_SGD, J_opt_Sampl], '-o')\n",
    "plt.title('Algorithms - final cost function value', size=15)\n",
    "plt.xticks([0, 1, 2], methods_names, size=15)\n",
    "plt.ylabel('Cost function value', size=15)\n",
    "plt.rcParams[\"figure.figsize\"] = HEIGHT, WEIGHT\n",
    "plt.show()"
   ]
  },
  {
   "cell_type": "code",
   "execution_count": 130,
   "id": "8ad24658",
   "metadata": {},
   "outputs": [
    {
     "name": "stdout",
     "output_type": "stream",
     "text": [
      "Accuracy of SGD to GD one: 3.86828, to Sampled GD one: 3.86466.\n"
     ]
    }
   ],
   "source": [
    "print(f'Accuracy of SGD to GD one: {accuracy_SGD/accuracy_GD:.5f}, to Sampled GD one: {accuracy_SGD/accuracy_Sampl:.5f}.')"
   ]
  },
  {
   "cell_type": "code",
   "execution_count": 131,
   "id": "0de9fab4",
   "metadata": {},
   "outputs": [],
   "source": [
    "timings_GD = time_GD.timings[:]\n",
    "timings_SGD = time_SGD.timings[:]\n",
    "timings_Sampl = time_Sampl.timings[:]\n",
    "timings = [timings_GD, timings_SGD, timings_Sampl]"
   ]
  },
  {
   "cell_type": "code",
   "execution_count": 132,
   "id": "8dda7f48",
   "metadata": {},
   "outputs": [
    {
     "data": {
      "image/png": "[encoded data removed]",
      "text/plain": [
       "<Figure size 1000x700 with 1 Axes>"
      ]
     },
     "metadata": {},
     "output_type": "display_data"
    }
   ],
   "source": [
    "fig = plt.figure(figsize = (HEIGHT, WEIGHT))\n",
    "ax = fig.add_axes([0, 0, 1, 1])\n",
    "bp = ax.boxplot(timings)\n",
    "ax.set_title('Algorithms - time execution', size=15)\n",
    "ax.set_xticks([1, 2, 3], methods_names, size=15)\n",
    "ax.set_ylabel('Time, s', size=15)\n",
    "plt.show()"
   ]
  },
  {
   "cell_type": "code",
   "execution_count": 133,
   "id": "2363b686",
   "metadata": {},
   "outputs": [
    {
     "name": "stdout",
     "output_type": "stream",
     "text": [
      "Time performance of SGD to GD: 2.22:1, to Sampled GD 0.99:1.\n",
      "Time performance of Sampled GD to GD: 2.25:1.\n"
     ]
    }
   ],
   "source": [
    "print(f'Time performance of SGD to GD: {time_GD.best/time_SGD.best:.2f}:1, to Sampled GD {time_Sampl.best/time_SGD.best:.2f}:1.')\n",
    "print(f'Time performance of Sampled GD to GD: {time_GD.best/time_Sampl.best:.2f}:1.')"
   ]
  },
  {
   "cell_type": "markdown",
   "id": "6005889e",
   "metadata": {},
   "source": [
    "### Tests for hypotheses $\\theta_{1}$ i $\\theta_{2}$:"
   ]
  },
  {
   "cell_type": "code",
   "execution_count": null,
   "id": "e44f6ada",
   "metadata": {},
   "outputs": [],
   "source": [
    "theta_1 = np.random.rand(n+1)\n",
    "print('Hypothesis:\\n', theta_1[:])"
   ]
  },
  {
   "cell_type": "code",
   "execution_count": null,
   "id": "65b88f0d",
   "metadata": {},
   "outputs": [],
   "source": [
    "time_GD = %timeit -r 3 -n 5 -o GradientDescent(X_norm, y, theta_1, ALPHA, NUM_ITER)"
   ]
  },
  {
   "cell_type": "code",
   "execution_count": null,
   "id": "49d8eb44",
   "metadata": {},
   "outputs": [],
   "source": [
    "theta_opt_GD, J_opt_GD = GradientDescent(X_norm, y, theta_1, ALPHA, NUM_ITER)"
   ]
  },
  {
   "cell_type": "code",
   "execution_count": null,
   "id": "2367c09b",
   "metadata": {},
   "outputs": [],
   "source": [
    "y_pred_GD = predict(X_norm, theta_opt_GD)\n",
    "accuracy_GD = get_accuracy(y, y_pred_GD)\n",
    "print( f'Accuracy: {accuracy_GD:.6f}' )"
   ]
  },
  {
   "cell_type": "code",
   "execution_count": null,
   "id": "35e7a861",
   "metadata": {},
   "outputs": [],
   "source": [
    "time_SGD = %timeit -r 3 -n 5 -o GradientDescent(X_norm, y, theta_1, ALPHA, NUM_ITER)"
   ]
  },
  {
   "cell_type": "code",
   "execution_count": null,
   "id": "5dc0284c",
   "metadata": {},
   "outputs": [],
   "source": [
    "theta_opt_SGD, J_opt_SGD = StochasticGradientDescent(X_norm, y, theta_1, ALPHA, NUM_ITER, BATCH_SIZE)"
   ]
  },
  {
   "cell_type": "code",
   "execution_count": null,
   "id": "ab22ae35",
   "metadata": {},
   "outputs": [],
   "source": [
    "y_pred_SGD = predict(X_norm, theta_opt_SGD)\n",
    "accuracy_SGD = get_accuracy(y, y_pred_SGD)\n",
    "print( f'Accuracy: {accuracy_SGD:.6f}' )"
   ]
  },
  {
   "cell_type": "code",
   "execution_count": null,
   "id": "b38b5358",
   "metadata": {},
   "outputs": [],
   "source": [
    "time_Sampl = %timeit -r 3 -n 5 -o GradientDescent(X_norm, y, theta_1, ALPHA, NUM_ITER)"
   ]
  },
  {
   "cell_type": "code",
   "execution_count": null,
   "id": "e3e42166",
   "metadata": {},
   "outputs": [],
   "source": [
    "theta_opt_Sampl, J_opt_Sampl = GradientDescent(X_sampled, y_sampled, theta_1, ALPHA, NUM_ITER)"
   ]
  },
  {
   "cell_type": "code",
   "execution_count": null,
   "id": "0dd80f26",
   "metadata": {},
   "outputs": [],
   "source": [
    "y_pred_Sampl = predict(X_norm, theta_opt_Sampl)\n",
    "accuracy_Sampl = get_accuracy(y, y_pred_Sampl)\n",
    "print( f'Accuracy: {accuracy_Sampl:.6f}' )"
   ]
  },
  {
   "cell_type": "code",
   "execution_count": null,
   "id": "2e8e105d",
   "metadata": {},
   "outputs": [],
   "source": [
    "plt.plot([J_opt_GD, J_opt_SGD, J_opt_Sampl], '-o')\n",
    "plt.title('Algorithms - final cost function value', size=15)\n",
    "plt.xticks([0, 1, 2], methods_names, size=15)\n",
    "plt.ylabel('Cost function value', size=15)\n",
    "plt.rcParams[\"figure.figsize\"] = HEIGHT, WEIGHT\n",
    "plt.show()"
   ]
  },
  {
   "cell_type": "code",
   "execution_count": null,
   "id": "992211cc",
   "metadata": {},
   "outputs": [],
   "source": [
    "print(f'Accuracy of SGD to GD one: {accuracy_SGD/accuracy_GD:.5f}, to Sampled GD one: {accuracy_SGD/accuracy_Sampl:.5f}.')"
   ]
  },
  {
   "cell_type": "code",
   "execution_count": null,
   "id": "30b822c8",
   "metadata": {},
   "outputs": [],
   "source": [
    "timings_GD = time_GD.timings[:]\n",
    "timings_SGD = time_SGD.timings[:]\n",
    "timings_Sampl = time_Sampl.timings[:]\n",
    "timings = [timings_GD, timings_SGD, timings_Sampl]"
   ]
  },
  {
   "cell_type": "code",
   "execution_count": null,
   "id": "3ba309d7",
   "metadata": {},
   "outputs": [],
   "source": [
    "fig = plt.figure(figsize = (HEIGHT, WEIGHT))\n",
    "ax = fig.add_axes([0, 0, 1, 1])\n",
    "bp = ax.boxplot(timings)\n",
    "ax.set_title('Algorithms - time execution', size=15)\n",
    "ax.set_xticks([1, 2, 3], methods_names, size=15)\n",
    "ax.set_ylabel('Time, s', size=15)\n",
    "plt.show()"
   ]
  },
  {
   "cell_type": "code",
   "execution_count": null,
   "id": "0d3f816f",
   "metadata": {},
   "outputs": [],
   "source": [
    "print(f'Time performance of SGD to GD: {time_GD.best/time_SGD.best:.2f}:1, to Sampled GD {time_Sampl.best/time_SGD.best:.2f}:1.')\n",
    "print(f'Time performance of Sampled GD to GD: {time_GD.best/time_Sampl.best:.2f}:1.')"
   ]
  },
  {
   "cell_type": "code",
   "execution_count": null,
   "id": "dfc7673e",
   "metadata": {},
   "outputs": [],
   "source": [
    "theta_2 = np.random.rand(n+1)\n",
    "print('Hypothesis:\\n', theta_2[:])"
   ]
  },
  {
   "cell_type": "code",
   "execution_count": null,
   "id": "14a877ef",
   "metadata": {},
   "outputs": [],
   "source": [
    "time_GD = %timeit -r 3 -n 5 -o GradientDescent(X_norm, y, theta_1, ALPHA, NUM_ITER)"
   ]
  },
  {
   "cell_type": "code",
   "execution_count": null,
   "id": "17006136",
   "metadata": {},
   "outputs": [],
   "source": [
    "theta_opt_GD, J_opt_GD = GradientDescent(X_norm, y, theta_1, ALPHA, NUM_ITER)"
   ]
  },
  {
   "cell_type": "code",
   "execution_count": null,
   "id": "d046ba55",
   "metadata": {},
   "outputs": [],
   "source": [
    "y_pred_GD = predict(X_norm, theta_opt_GD)\n",
    "accuracy_GD = get_accuracy(y, y_pred_GD)\n",
    "print( f'Accuracy: {accuracy_GD:.6f}' )"
   ]
  },
  {
   "cell_type": "code",
   "execution_count": null,
   "id": "c0f14863",
   "metadata": {},
   "outputs": [],
   "source": [
    "time_SGD = %timeit -r 3 -n 5 -o GradientDescent(X_norm, y, theta_1, ALPHA, NUM_ITER)"
   ]
  },
  {
   "cell_type": "code",
   "execution_count": null,
   "id": "47cced0d",
   "metadata": {},
   "outputs": [],
   "source": [
    "theta_opt_SGD, J_opt_SGD = StochasticGradientDescent(X_norm, y, theta_1, ALPHA, NUM_ITER, BATCH_SIZE)"
   ]
  },
  {
   "cell_type": "code",
   "execution_count": null,
   "id": "4f1c1cf0",
   "metadata": {},
   "outputs": [],
   "source": [
    "y_pred_SGD = predict(X_norm, theta_opt_SGD)\n",
    "accuracy_SGD = get_accuracy(y, y_pred_SGD)\n",
    "print( f'Accuracy: {accuracy_SGD:.6f}' )"
   ]
  },
  {
   "cell_type": "code",
   "execution_count": null,
   "id": "d5d015e8",
   "metadata": {},
   "outputs": [],
   "source": [
    "time_Sampl = %timeit -r 3 -n 5 -o GradientDescent(X_norm, y, theta_1, ALPHA, NUM_ITER)"
   ]
  },
  {
   "cell_type": "code",
   "execution_count": null,
   "id": "880650c8",
   "metadata": {},
   "outputs": [],
   "source": [
    "theta_opt_Sampl, J_opt_Sampl = GradientDescent(X_sampled, y_sampled, theta_1, ALPHA, NUM_ITER)"
   ]
  },
  {
   "cell_type": "code",
   "execution_count": null,
   "id": "2c6b5a70",
   "metadata": {},
   "outputs": [],
   "source": [
    "y_pred_Sampl = predict(X_norm, theta_opt_Sampl)\n",
    "accuracy_Sampl = get_accuracy(y, y_pred_Sampl)\n",
    "print( f'Accuracy: {accuracy_Sampl:.6f}' )"
   ]
  },
  {
   "cell_type": "code",
   "execution_count": null,
   "id": "f314e7aa",
   "metadata": {},
   "outputs": [],
   "source": [
    "plt.plot([J_opt_GD, J_opt_SGD, J_opt_Sampl], '-o')\n",
    "plt.title('Algorithms - final cost function value', size=15)\n",
    "plt.xticks([0, 1, 2], methods_names, size=15)\n",
    "plt.ylabel('Cost function value', size=15)\n",
    "plt.rcParams[\"figure.figsize\"] = HEIGHT, WEIGHT\n",
    "plt.show()"
   ]
  },
  {
   "cell_type": "code",
   "execution_count": null,
   "id": "0e1d624a",
   "metadata": {},
   "outputs": [],
   "source": [
    "print(f'Accuracy of SGD to GD one: {accuracy_SGD/accuracy_GD:.5f}, to Sampled GD one: {accuracy_SGD/accuracy_Sampl:.5f}.')"
   ]
  },
  {
   "cell_type": "code",
   "execution_count": null,
   "id": "67e4a002",
   "metadata": {},
   "outputs": [],
   "source": [
    "timings_GD = time_GD.timings[:]\n",
    "timings_SGD = time_SGD.timings[:]\n",
    "timings_Sampl = time_Sampl.timings[:]\n",
    "timings = [timings_GD, timings_SGD, timings_Sampl]"
   ]
  },
  {
   "cell_type": "code",
   "execution_count": null,
   "id": "f3c7ce6d",
   "metadata": {},
   "outputs": [],
   "source": [
    "fig = plt.figure(figsize = (HEIGHT, WEIGHT))\n",
    "ax = fig.add_axes([0, 0, 1, 1])\n",
    "bp = ax.boxplot(timings)\n",
    "ax.set_title('Algorithms - time execution', size=15)\n",
    "ax.set_xticks([1, 2, 3], methods_names, size=15)\n",
    "ax.set_ylabel('Time, s', size=15)\n",
    "plt.show()"
   ]
  },
  {
   "cell_type": "code",
   "execution_count": null,
   "id": "eb1e2ced",
   "metadata": {},
   "outputs": [],
   "source": [
    "print(f'Time performance of SGD to GD: {time_GD.best/time_SGD.best:.2f}:1, to Sampled GD {time_Sampl.best/time_SGD.best:.2f}:1.')\n",
    "print(f'Time performance of Sampled GD to GD: {time_GD.best/time_Sampl.best:.2f}:1.')"
   ]
  },
  {
   "cell_type": "markdown",
   "id": "a9dcbe60",
   "metadata": {},
   "source": [
    "### Analysis of performed simulations:"
   ]
  },
  {
   "cell_type": "code",
   "execution_count": null,
   "id": "23495700",
   "metadata": {},
   "outputs": [],
   "source": [
    "def AnalyzeGradientDescent( X, y, in_theta, alpha=0.1, num_iter=50 ):\n",
    "    theta = in_theta.copy()\n",
    "    \n",
    "    J_list = []\n",
    "    theta_list = []\n",
    "    \n",
    "    for _ in range(num_iter):\n",
    "        J, dJ0, dJ = CostFunction(X, y, theta)\n",
    "        theta[0] = theta[0] - alpha * dJ0.sum()\n",
    "        theta[1:] = theta[1:] - alpha * dJ\n",
    "        J_list.append(J)\n",
    "        theta_list.append(theta)\n",
    "        \n",
    "    return np.array(theta_list), np.array(J_list)"
   ]
  },
  {
   "cell_type": "code",
   "execution_count": null,
   "id": "1995ca9f",
   "metadata": {},
   "outputs": [],
   "source": [
    "def AnalyzeStochasticGradientDescent( in_X, in_y, in_theta, alpha=0.1, num_iter=50, batch_size=8 ):\n",
    "    X = in_X.copy()\n",
    "    y = in_y.copy()\n",
    "    theta = in_theta.copy()\n",
    "    X_len = X.shape[0]\n",
    "    idx = np.arange(X_len)\n",
    "    epochs = math.ceil( num_iter/ (X_len/batch_size) )\n",
    "    \n",
    "    J_list = []\n",
    "    theta_list = []\n",
    "    \n",
    "    for i in range(epochs):\n",
    "        idx = np.random.permutation(idx)\n",
    "        X, y = X[idx], y[idx]\n",
    "        for start in range(0, X_len, batch_size):\n",
    "            stop = start + batch_size\n",
    "            J, dJ0, dJ = CostFunction( X[start:stop,:], y[start:stop], theta )\n",
    "            theta[0] = theta[0] - alpha * dJ0.sum()\n",
    "            theta[1:] = theta[1:] - alpha * dJ\n",
    "            J_list.append(J)\n",
    "            theta_list.append(theta)\n",
    "            \n",
    "            if (i*(X_len/batch_size) + start/batch_size) > num_iter:\n",
    "                break\n",
    "        \n",
    "    return np.array(theta_list), np.array(J_list)"
   ]
  },
  {
   "cell_type": "code",
   "execution_count": null,
   "id": "cce2a0f2",
   "metadata": {},
   "outputs": [],
   "source": [
    "theta_opt_GD_list, J_opt_GD_list = AnalyzeGradientDescent(X_norm, y, theta_0, ALPHA, NUM_ITER)"
   ]
  },
  {
   "cell_type": "code",
   "execution_count": null,
   "id": "c19f11c6",
   "metadata": {},
   "outputs": [],
   "source": [
    "theta_opt_SGD_list, J_opt_SGD_list = AnalyzeStochasticGradientDescent(\n",
    "                            X_norm, y, theta_0, ALPHA, NUM_ITER, BATCH_SIZE\n",
    "                        )"
   ]
  },
  {
   "cell_type": "code",
   "execution_count": null,
   "id": "52c0e6af",
   "metadata": {},
   "outputs": [],
   "source": [
    "theta_opt_Sampl_list, J_opt_Sampl_list = AnalyzeGradientDescent(X_sampled, y_sampled, theta_0, ALPHA, NUM_ITER)"
   ]
  },
  {
   "cell_type": "code",
   "execution_count": null,
   "id": "3a2af00e",
   "metadata": {},
   "outputs": [],
   "source": [
    "iters_range = range( len(J_opt_GD_list) )\n",
    "plt.plot( range( len(J_opt_SGD_list) ), J_opt_SGD_list, label='SGD' )\n",
    "plt.plot( iters_range, J_opt_GD_list, label='GD' )\n",
    "plt.plot( iters_range, J_opt_Sampl_list, label='Sampled' )\n",
    "plt.xlabel('Number of iterations', size=15)\n",
    "plt.ylabel('Cost function value', size=15)\n",
    "plt.title('Learning process', size=15)\n",
    "plt.legend( loc='best' )\n",
    "plt.rcParams[\"figure.figsize\"] = HEIGHT, WEIGHT\n",
    "plt.show()"
   ]
  },
  {
   "cell_type": "markdown",
   "id": "19b4aae4",
   "metadata": {},
   "source": [
    "## Conclusions:\n",
    "* Metoda SGD okazała się być metodą mogącą być porównywalną (prypadek hipotezy $\\theta_{2}$) lub kilkukrotnie, nawet ponad 10-krotnie, szybszą od GD i Sampled GD.\n",
    "* Dla wszystkich prypadków metoda SGD zwracała mniejsze wartości (minima lokalne), względem GD i Sampled GD.\n",
    "* Generalnie metoda Sampled GD okazała się być metodą szybszą od metody GD- poza prypadkiem hipotezy $\\theta_{2}$.\n",
    "* Metody uzyskiwały podobną dokładność we wszystkich przypadkach - zależnie od hipotezy - z maksymalnymi różnicami dokładności na poziomie do 1%.\n",
    "* Zbiór danych nie został dobrze przygotowany przez co trudne było uzyskanie dokładności na poziomie ok. 90%.\n",
    "* Proces szukania rozwiązania u metody SGD charakteryzuje się zmiennością zwracanych rozwiązań w porównaniu z pozostałymi metodami."
   ]
  },
  {
   "cell_type": "markdown",
   "id": "1bf5b5fb",
   "metadata": {},
   "source": [
    "## References:\n",
    "\n",
    "[1] A. Ng, \"CS229. Lecture notes. Supervised learning\", 2012, [na:] https://web.archive.org/web/20180618211933/http://cs229.stanford.edu/notes/cs229-notes1.pdf, [dostęp:] 21.01.2023.  \n",
    "[2] A. Pant, \"Introduction to Logistic Regression\", 2019, [na:] https://towardsdatascience.com/introduction-to-logistic-regression-66248243c148, [dostęp:] 24.01.2023.  \n",
    "[3] https://archive.ics.uci.edu/ml/datasets/spambase, [dostęp:] 24.01.2023.  \n",
    "[4] https://stackoverflow.com/a/29863846, [dostęp:] 21.01.2023.  \n",
    "[5] https://realpython.com/gradient-descent-algorithm-python/, [dostęp:] 21.01.2023.  "
   ]
  }
 ],
 "metadata": {
  "kernelspec": {
   "display_name": "Python 3 (ipykernel)",
   "language": "python",
   "name": "python3"
  },
  "language_info": {
   "codemirror_mode": {
    "name": "ipython",
    "version": 3
   },
   "file_extension": ".py",
   "mimetype": "text/x-python",
   "name": "python",
   "nbconvert_exporter": "python",
   "pygments_lexer": "ipython3",
   "version": "3.8.13"
  }
 },
 "nbformat": 4,
 "nbformat_minor": 5
}
